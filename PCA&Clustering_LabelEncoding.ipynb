{
 "cells": [
  {
   "cell_type": "code",
   "execution_count": 1,
   "metadata": {},
   "outputs": [],
   "source": [
    "from pyforest import *"
   ]
  },
  {
   "cell_type": "code",
   "execution_count": 2,
   "metadata": {},
   "outputs": [
    {
     "data": {
      "application/javascript": [
       "\n",
       "        if (window._pyforest_update_imports_cell) { window._pyforest_update_imports_cell('import pandas as pd'); }\n",
       "    "
      ],
      "text/plain": [
       "<IPython.core.display.Javascript object>"
      ]
     },
     "metadata": {},
     "output_type": "display_data"
    }
   ],
   "source": [
    "df = pd.read_csv('encoded.csv')"
   ]
  },
  {
   "cell_type": "code",
   "execution_count": 3,
   "metadata": {},
   "outputs": [
    {
     "data": {
      "application/javascript": [
       "\n",
       "        if (window._pyforest_update_imports_cell) { window._pyforest_update_imports_cell('import pandas as pd'); }\n",
       "    "
      ],
      "text/plain": [
       "<IPython.core.display.Javascript object>"
      ]
     },
     "metadata": {},
     "output_type": "display_data"
    },
    {
     "data": {
      "text/html": [
       "<div>\n",
       "<style scoped>\n",
       "    .dataframe tbody tr th:only-of-type {\n",
       "        vertical-align: middle;\n",
       "    }\n",
       "\n",
       "    .dataframe tbody tr th {\n",
       "        vertical-align: top;\n",
       "    }\n",
       "\n",
       "    .dataframe thead th {\n",
       "        text-align: right;\n",
       "    }\n",
       "</style>\n",
       "<table border=\"1\" class=\"dataframe\">\n",
       "  <thead>\n",
       "    <tr style=\"text-align: right;\">\n",
       "      <th></th>\n",
       "      <th>race</th>\n",
       "      <th>age</th>\n",
       "      <th>admission_type_id</th>\n",
       "      <th>discharge_disposition_id</th>\n",
       "      <th>time_in_hospital</th>\n",
       "      <th>num_lab_procedures</th>\n",
       "      <th>num_medications</th>\n",
       "      <th>diag_1</th>\n",
       "      <th>diag_2</th>\n",
       "      <th>diag_3</th>\n",
       "      <th>number_diagnoses</th>\n",
       "      <th>max_glu_serum</th>\n",
       "      <th>A1Cresult</th>\n",
       "      <th>change</th>\n",
       "      <th>diabetesMed</th>\n",
       "      <th>readmitted</th>\n",
       "      <th>total_patient_interaction</th>\n",
       "      <th>numchange</th>\n",
       "    </tr>\n",
       "  </thead>\n",
       "  <tbody>\n",
       "    <tr>\n",
       "      <td>0</td>\n",
       "      <td>1</td>\n",
       "      <td>0</td>\n",
       "      <td>2</td>\n",
       "      <td>3</td>\n",
       "      <td>1</td>\n",
       "      <td>41</td>\n",
       "      <td>1</td>\n",
       "      <td>4</td>\n",
       "      <td>4</td>\n",
       "      <td>4</td>\n",
       "      <td>1</td>\n",
       "      <td>2</td>\n",
       "      <td>2</td>\n",
       "      <td>0</td>\n",
       "      <td>0</td>\n",
       "      <td>0</td>\n",
       "      <td>0</td>\n",
       "      <td>0</td>\n",
       "    </tr>\n",
       "    <tr>\n",
       "      <td>1</td>\n",
       "      <td>1</td>\n",
       "      <td>0</td>\n",
       "      <td>1</td>\n",
       "      <td>0</td>\n",
       "      <td>3</td>\n",
       "      <td>59</td>\n",
       "      <td>18</td>\n",
       "      <td>4</td>\n",
       "      <td>4</td>\n",
       "      <td>4</td>\n",
       "      <td>9</td>\n",
       "      <td>2</td>\n",
       "      <td>2</td>\n",
       "      <td>1</td>\n",
       "      <td>1</td>\n",
       "      <td>0</td>\n",
       "      <td>0</td>\n",
       "      <td>1</td>\n",
       "    </tr>\n",
       "    <tr>\n",
       "      <td>2</td>\n",
       "      <td>0</td>\n",
       "      <td>0</td>\n",
       "      <td>1</td>\n",
       "      <td>0</td>\n",
       "      <td>2</td>\n",
       "      <td>11</td>\n",
       "      <td>13</td>\n",
       "      <td>14</td>\n",
       "      <td>4</td>\n",
       "      <td>17</td>\n",
       "      <td>6</td>\n",
       "      <td>2</td>\n",
       "      <td>2</td>\n",
       "      <td>0</td>\n",
       "      <td>1</td>\n",
       "      <td>0</td>\n",
       "      <td>3</td>\n",
       "      <td>1</td>\n",
       "    </tr>\n",
       "    <tr>\n",
       "      <td>3</td>\n",
       "      <td>1</td>\n",
       "      <td>0</td>\n",
       "      <td>1</td>\n",
       "      <td>0</td>\n",
       "      <td>2</td>\n",
       "      <td>44</td>\n",
       "      <td>16</td>\n",
       "      <td>8</td>\n",
       "      <td>4</td>\n",
       "      <td>1</td>\n",
       "      <td>7</td>\n",
       "      <td>2</td>\n",
       "      <td>2</td>\n",
       "      <td>1</td>\n",
       "      <td>1</td>\n",
       "      <td>0</td>\n",
       "      <td>0</td>\n",
       "      <td>1</td>\n",
       "    </tr>\n",
       "    <tr>\n",
       "      <td>4</td>\n",
       "      <td>1</td>\n",
       "      <td>1</td>\n",
       "      <td>1</td>\n",
       "      <td>0</td>\n",
       "      <td>1</td>\n",
       "      <td>51</td>\n",
       "      <td>8</td>\n",
       "      <td>12</td>\n",
       "      <td>12</td>\n",
       "      <td>4</td>\n",
       "      <td>5</td>\n",
       "      <td>2</td>\n",
       "      <td>2</td>\n",
       "      <td>1</td>\n",
       "      <td>1</td>\n",
       "      <td>0</td>\n",
       "      <td>0</td>\n",
       "      <td>2</td>\n",
       "    </tr>\n",
       "    <tr>\n",
       "      <td>...</td>\n",
       "      <td>...</td>\n",
       "      <td>...</td>\n",
       "      <td>...</td>\n",
       "      <td>...</td>\n",
       "      <td>...</td>\n",
       "      <td>...</td>\n",
       "      <td>...</td>\n",
       "      <td>...</td>\n",
       "      <td>...</td>\n",
       "      <td>...</td>\n",
       "      <td>...</td>\n",
       "      <td>...</td>\n",
       "      <td>...</td>\n",
       "      <td>...</td>\n",
       "      <td>...</td>\n",
       "      <td>...</td>\n",
       "      <td>...</td>\n",
       "      <td>...</td>\n",
       "    </tr>\n",
       "    <tr>\n",
       "      <td>69964</td>\n",
       "      <td>1</td>\n",
       "      <td>2</td>\n",
       "      <td>1</td>\n",
       "      <td>0</td>\n",
       "      <td>9</td>\n",
       "      <td>50</td>\n",
       "      <td>33</td>\n",
       "      <td>3</td>\n",
       "      <td>3</td>\n",
       "      <td>4</td>\n",
       "      <td>9</td>\n",
       "      <td>2</td>\n",
       "      <td>0</td>\n",
       "      <td>1</td>\n",
       "      <td>1</td>\n",
       "      <td>0</td>\n",
       "      <td>0</td>\n",
       "      <td>2</td>\n",
       "    </tr>\n",
       "    <tr>\n",
       "      <td>69965</td>\n",
       "      <td>2</td>\n",
       "      <td>1</td>\n",
       "      <td>1</td>\n",
       "      <td>0</td>\n",
       "      <td>14</td>\n",
       "      <td>73</td>\n",
       "      <td>26</td>\n",
       "      <td>6</td>\n",
       "      <td>6</td>\n",
       "      <td>15</td>\n",
       "      <td>9</td>\n",
       "      <td>2</td>\n",
       "      <td>0</td>\n",
       "      <td>1</td>\n",
       "      <td>1</td>\n",
       "      <td>0</td>\n",
       "      <td>1</td>\n",
       "      <td>2</td>\n",
       "    </tr>\n",
       "    <tr>\n",
       "      <td>69966</td>\n",
       "      <td>2</td>\n",
       "      <td>1</td>\n",
       "      <td>1</td>\n",
       "      <td>0</td>\n",
       "      <td>2</td>\n",
       "      <td>46</td>\n",
       "      <td>17</td>\n",
       "      <td>9</td>\n",
       "      <td>6</td>\n",
       "      <td>1</td>\n",
       "      <td>9</td>\n",
       "      <td>2</td>\n",
       "      <td>2</td>\n",
       "      <td>0</td>\n",
       "      <td>1</td>\n",
       "      <td>0</td>\n",
       "      <td>3</td>\n",
       "      <td>1</td>\n",
       "    </tr>\n",
       "    <tr>\n",
       "      <td>69967</td>\n",
       "      <td>1</td>\n",
       "      <td>2</td>\n",
       "      <td>1</td>\n",
       "      <td>0</td>\n",
       "      <td>5</td>\n",
       "      <td>76</td>\n",
       "      <td>22</td>\n",
       "      <td>10</td>\n",
       "      <td>8</td>\n",
       "      <td>10</td>\n",
       "      <td>9</td>\n",
       "      <td>2</td>\n",
       "      <td>2</td>\n",
       "      <td>1</td>\n",
       "      <td>1</td>\n",
       "      <td>0</td>\n",
       "      <td>1</td>\n",
       "      <td>1</td>\n",
       "    </tr>\n",
       "    <tr>\n",
       "      <td>69968</td>\n",
       "      <td>1</td>\n",
       "      <td>2</td>\n",
       "      <td>1</td>\n",
       "      <td>0</td>\n",
       "      <td>6</td>\n",
       "      <td>13</td>\n",
       "      <td>3</td>\n",
       "      <td>3</td>\n",
       "      <td>3</td>\n",
       "      <td>7</td>\n",
       "      <td>9</td>\n",
       "      <td>2</td>\n",
       "      <td>2</td>\n",
       "      <td>0</td>\n",
       "      <td>0</td>\n",
       "      <td>0</td>\n",
       "      <td>0</td>\n",
       "      <td>0</td>\n",
       "    </tr>\n",
       "  </tbody>\n",
       "</table>\n",
       "<p>69969 rows × 18 columns</p>\n",
       "</div>"
      ],
      "text/plain": [
       "       race  age  admission_type_id  discharge_disposition_id  \\\n",
       "0         1    0                  2                         3   \n",
       "1         1    0                  1                         0   \n",
       "2         0    0                  1                         0   \n",
       "3         1    0                  1                         0   \n",
       "4         1    1                  1                         0   \n",
       "...     ...  ...                ...                       ...   \n",
       "69964     1    2                  1                         0   \n",
       "69965     2    1                  1                         0   \n",
       "69966     2    1                  1                         0   \n",
       "69967     1    2                  1                         0   \n",
       "69968     1    2                  1                         0   \n",
       "\n",
       "       time_in_hospital  num_lab_procedures  num_medications  diag_1  diag_2  \\\n",
       "0                     1                  41                1       4       4   \n",
       "1                     3                  59               18       4       4   \n",
       "2                     2                  11               13      14       4   \n",
       "3                     2                  44               16       8       4   \n",
       "4                     1                  51                8      12      12   \n",
       "...                 ...                 ...              ...     ...     ...   \n",
       "69964                 9                  50               33       3       3   \n",
       "69965                14                  73               26       6       6   \n",
       "69966                 2                  46               17       9       6   \n",
       "69967                 5                  76               22      10       8   \n",
       "69968                 6                  13                3       3       3   \n",
       "\n",
       "       diag_3  number_diagnoses  max_glu_serum  A1Cresult  change  \\\n",
       "0           4                 1              2          2       0   \n",
       "1           4                 9              2          2       1   \n",
       "2          17                 6              2          2       0   \n",
       "3           1                 7              2          2       1   \n",
       "4           4                 5              2          2       1   \n",
       "...       ...               ...            ...        ...     ...   \n",
       "69964       4                 9              2          0       1   \n",
       "69965      15                 9              2          0       1   \n",
       "69966       1                 9              2          2       0   \n",
       "69967      10                 9              2          2       1   \n",
       "69968       7                 9              2          2       0   \n",
       "\n",
       "       diabetesMed  readmitted  total_patient_interaction  numchange  \n",
       "0                0           0                          0          0  \n",
       "1                1           0                          0          1  \n",
       "2                1           0                          3          1  \n",
       "3                1           0                          0          1  \n",
       "4                1           0                          0          2  \n",
       "...            ...         ...                        ...        ...  \n",
       "69964            1           0                          0          2  \n",
       "69965            1           0                          1          2  \n",
       "69966            1           0                          3          1  \n",
       "69967            1           0                          1          1  \n",
       "69968            0           0                          0          0  \n",
       "\n",
       "[69969 rows x 18 columns]"
      ]
     },
     "execution_count": 3,
     "metadata": {},
     "output_type": "execute_result"
    }
   ],
   "source": [
    "pd.options.display.max_columns = None\n",
    "df"
   ]
  },
  {
   "cell_type": "code",
   "execution_count": 4,
   "metadata": {},
   "outputs": [],
   "source": [
    "import io\n",
    "from sklearn import preprocessing\n",
    "from sklearn.decomposition import PCA\n",
    "from sklearn.preprocessing import StandardScaler\n",
    "import seaborn as sns"
   ]
  },
  {
   "cell_type": "code",
   "execution_count": 5,
   "metadata": {},
   "outputs": [
    {
     "data": {
      "application/javascript": [
       "\n",
       "        if (window._pyforest_update_imports_cell) { window._pyforest_update_imports_cell('import pandas as pd'); }\n",
       "    "
      ],
      "text/plain": [
       "<IPython.core.display.Javascript object>"
      ]
     },
     "metadata": {},
     "output_type": "display_data"
    },
    {
     "data": {
      "application/javascript": [
       "\n",
       "        if (window._pyforest_update_imports_cell) { window._pyforest_update_imports_cell('import pandas as pd'); }\n",
       "    "
      ],
      "text/plain": [
       "<IPython.core.display.Javascript object>"
      ]
     },
     "metadata": {},
     "output_type": "display_data"
    },
    {
     "name": "stdout",
     "output_type": "stream",
     "text": [
      "length of oversampled data is  127370\n",
      "Number of no subscription in oversampled data 63685\n",
      "Number of subscription 63685\n",
      "Proportion of no subscription data in oversampled data is  0.5\n",
      "Proportion of subscription data in oversampled data is  0.5\n"
     ]
    }
   ],
   "source": [
    "X = df.drop('readmitted',1)\n",
    "y = df['readmitted']\n",
    "\n",
    "from imblearn.over_sampling import SMOTE\n",
    "os = SMOTE(random_state=0)\n",
    "\n",
    "#X_train, X_test, y_train, y_test = train_test_split(X, y, test_size=0.3, random_state=0)\n",
    "columns = X.columns\n",
    "os_data_X,os_data_y=os.fit_sample(X, y)\n",
    "\n",
    "os_data_X = pd.DataFrame(data=os_data_X,columns=columns)\n",
    "os_data_y= pd.DataFrame(data=os_data_y,columns=['readmitted'])\n",
    "\n",
    "# we can Check the numbers of our data\n",
    "print(\"length of oversampled data is \",len(os_data_X))\n",
    "print(\"Number of no subscription in oversampled data\",len(os_data_y[os_data_y['readmitted']==0]))\n",
    "print(\"Number of subscription\",len(os_data_y[os_data_y['readmitted']==1]))\n",
    "print(\"Proportion of no subscription data in oversampled data is \",len(os_data_y[os_data_y['readmitted']==0])/len(os_data_X))\n",
    "print(\"Proportion of subscription data in oversampled data is \",len(os_data_y[os_data_y['readmitted']==1])/len(os_data_X))"
   ]
  },
  {
   "cell_type": "code",
   "execution_count": 6,
   "metadata": {},
   "outputs": [
    {
     "data": {
      "text/plain": [
       "race                          0.864369\n",
       "age                           1.373194\n",
       "admission_type_id             0.915691\n",
       "discharge_disposition_id      0.928254\n",
       "time_in_hospital              4.273364\n",
       "num_lab_procedures           42.875088\n",
       "num_medications              15.666424\n",
       "diag_1                        6.234461\n",
       "diag_2                        5.654104\n",
       "diag_3                        5.458975\n",
       "number_diagnoses              7.224428\n",
       "max_glu_serum                 1.928697\n",
       "A1Cresult                     1.686361\n",
       "change                        0.450085\n",
       "diabetesMed                   0.761594\n",
       "readmitted                    0.089811\n",
       "total_patient_interaction     0.559819\n",
       "numchange                     1.190170\n",
       "dtype: float64"
      ]
     },
     "execution_count": 6,
     "metadata": {},
     "output_type": "execute_result"
    }
   ],
   "source": [
    "df.mean()"
   ]
  },
  {
   "cell_type": "code",
   "execution_count": 7,
   "metadata": {},
   "outputs": [],
   "source": [
    "# Memory saving function credit to https://www.kaggle.com/gemartin/load-data-reduce-memory-usage\n",
    "def reduce_mem_usage(df):\n",
    "    \"\"\" iterate through all the columns of a dataframe and modify the data type\n",
    "        to reduce memory usage.\n",
    "    \"\"\"\n",
    "    start_mem = df.memory_usage().sum() / 1024**2\n",
    "    \n",
    "    for col in df.columns:\n",
    "        col_type = df[col].dtype\n",
    "        \n",
    "        if col_type != object:\n",
    "            c_min = df[col].min()\n",
    "            c_max = df[col].max()\n",
    "            if str(col_type)[:3] == 'int':\n",
    "                if c_min > np.iinfo(np.int8).min and c_max < np.iinfo(np.int8).max:\n",
    "                    df[col] = df[col].astype(np.int8)\n",
    "                elif c_min > np.iinfo(np.int16).min and c_max < np.iinfo(np.int16).max:\n",
    "                    df[col] = df[col].astype(np.int16)\n",
    "                elif c_min > np.iinfo(np.int32).min and c_max < np.iinfo(np.int32).max:\n",
    "                    df[col] = df[col].astype(np.int32)\n",
    "                elif c_min > np.iinfo(np.int64).min and c_max < np.iinfo(np.int64).max:\n",
    "                    df[col] = df[col].astype(np.int64)\n",
    "            else:\n",
    "                #if c_min > np.finfo(np.float16).min and c_max < np.finfo(np.float16).max:\n",
    "                #    df[col] = df[col].astype(np.float16)\n",
    "                #el\n",
    "                if c_min > np.finfo(np.float32).min and c_max < np.finfo(np.float32).max:\n",
    "                    df[col] = df[col].astype(np.float32)\n",
    "                else:\n",
    "                    df[col] = df[col].astype(np.float64)\n",
    "        #else:\n",
    "            #df[col] = df[col].astype('category')\n",
    "\n",
    "    end_mem = df.memory_usage().sum() / 1024**2\n",
    "    print('Memory usage of dataframe is {:.2f} MB --> {:.2f} MB (Decreased by {:.1f}%)'.format(\n",
    "        start_mem, end_mem, 100 * (start_mem - end_mem) / start_mem))\n",
    "    return df"
   ]
  },
  {
   "cell_type": "code",
   "execution_count": 8,
   "metadata": {},
   "outputs": [
    {
     "data": {
      "application/javascript": [
       "\n",
       "        if (window._pyforest_update_imports_cell) { window._pyforest_update_imports_cell('import numpy as np\\nimport pandas as pd'); }\n",
       "    "
      ],
      "text/plain": [
       "<IPython.core.display.Javascript object>"
      ]
     },
     "metadata": {},
     "output_type": "display_data"
    },
    {
     "data": {
      "application/javascript": [
       "\n",
       "        if (window._pyforest_update_imports_cell) { window._pyforest_update_imports_cell('import numpy as np\\nimport pandas as pd'); }\n",
       "    "
      ],
      "text/plain": [
       "<IPython.core.display.Javascript object>"
      ]
     },
     "metadata": {},
     "output_type": "display_data"
    },
    {
     "data": {
      "application/javascript": [
       "\n",
       "        if (window._pyforest_update_imports_cell) { window._pyforest_update_imports_cell('import numpy as np\\nimport pandas as pd'); }\n",
       "    "
      ],
      "text/plain": [
       "<IPython.core.display.Javascript object>"
      ]
     },
     "metadata": {},
     "output_type": "display_data"
    },
    {
     "data": {
      "application/javascript": [
       "\n",
       "        if (window._pyforest_update_imports_cell) { window._pyforest_update_imports_cell('import numpy as np\\nimport pandas as pd'); }\n",
       "    "
      ],
      "text/plain": [
       "<IPython.core.display.Javascript object>"
      ]
     },
     "metadata": {},
     "output_type": "display_data"
    },
    {
     "data": {
      "application/javascript": [
       "\n",
       "        if (window._pyforest_update_imports_cell) { window._pyforest_update_imports_cell('import numpy as np\\nimport pandas as pd'); }\n",
       "    "
      ],
      "text/plain": [
       "<IPython.core.display.Javascript object>"
      ]
     },
     "metadata": {},
     "output_type": "display_data"
    },
    {
     "data": {
      "application/javascript": [
       "\n",
       "        if (window._pyforest_update_imports_cell) { window._pyforest_update_imports_cell('import numpy as np\\nimport pandas as pd'); }\n",
       "    "
      ],
      "text/plain": [
       "<IPython.core.display.Javascript object>"
      ]
     },
     "metadata": {},
     "output_type": "display_data"
    },
    {
     "data": {
      "application/javascript": [
       "\n",
       "        if (window._pyforest_update_imports_cell) { window._pyforest_update_imports_cell('import numpy as np\\nimport pandas as pd'); }\n",
       "    "
      ],
      "text/plain": [
       "<IPython.core.display.Javascript object>"
      ]
     },
     "metadata": {},
     "output_type": "display_data"
    },
    {
     "data": {
      "application/javascript": [
       "\n",
       "        if (window._pyforest_update_imports_cell) { window._pyforest_update_imports_cell('import numpy as np\\nimport pandas as pd'); }\n",
       "    "
      ],
      "text/plain": [
       "<IPython.core.display.Javascript object>"
      ]
     },
     "metadata": {},
     "output_type": "display_data"
    },
    {
     "data": {
      "application/javascript": [
       "\n",
       "        if (window._pyforest_update_imports_cell) { window._pyforest_update_imports_cell('import numpy as np\\nimport pandas as pd'); }\n",
       "    "
      ],
      "text/plain": [
       "<IPython.core.display.Javascript object>"
      ]
     },
     "metadata": {},
     "output_type": "display_data"
    },
    {
     "data": {
      "application/javascript": [
       "\n",
       "        if (window._pyforest_update_imports_cell) { window._pyforest_update_imports_cell('import numpy as np\\nimport pandas as pd'); }\n",
       "    "
      ],
      "text/plain": [
       "<IPython.core.display.Javascript object>"
      ]
     },
     "metadata": {},
     "output_type": "display_data"
    },
    {
     "data": {
      "application/javascript": [
       "\n",
       "        if (window._pyforest_update_imports_cell) { window._pyforest_update_imports_cell('import numpy as np\\nimport pandas as pd'); }\n",
       "    "
      ],
      "text/plain": [
       "<IPython.core.display.Javascript object>"
      ]
     },
     "metadata": {},
     "output_type": "display_data"
    },
    {
     "data": {
      "application/javascript": [
       "\n",
       "        if (window._pyforest_update_imports_cell) { window._pyforest_update_imports_cell('import numpy as np\\nimport pandas as pd'); }\n",
       "    "
      ],
      "text/plain": [
       "<IPython.core.display.Javascript object>"
      ]
     },
     "metadata": {},
     "output_type": "display_data"
    },
    {
     "data": {
      "application/javascript": [
       "\n",
       "        if (window._pyforest_update_imports_cell) { window._pyforest_update_imports_cell('import numpy as np\\nimport pandas as pd'); }\n",
       "    "
      ],
      "text/plain": [
       "<IPython.core.display.Javascript object>"
      ]
     },
     "metadata": {},
     "output_type": "display_data"
    },
    {
     "data": {
      "application/javascript": [
       "\n",
       "        if (window._pyforest_update_imports_cell) { window._pyforest_update_imports_cell('import numpy as np\\nimport pandas as pd'); }\n",
       "    "
      ],
      "text/plain": [
       "<IPython.core.display.Javascript object>"
      ]
     },
     "metadata": {},
     "output_type": "display_data"
    },
    {
     "data": {
      "application/javascript": [
       "\n",
       "        if (window._pyforest_update_imports_cell) { window._pyforest_update_imports_cell('import numpy as np\\nimport pandas as pd'); }\n",
       "    "
      ],
      "text/plain": [
       "<IPython.core.display.Javascript object>"
      ]
     },
     "metadata": {},
     "output_type": "display_data"
    },
    {
     "data": {
      "application/javascript": [
       "\n",
       "        if (window._pyforest_update_imports_cell) { window._pyforest_update_imports_cell('import numpy as np\\nimport pandas as pd'); }\n",
       "    "
      ],
      "text/plain": [
       "<IPython.core.display.Javascript object>"
      ]
     },
     "metadata": {},
     "output_type": "display_data"
    },
    {
     "data": {
      "application/javascript": [
       "\n",
       "        if (window._pyforest_update_imports_cell) { window._pyforest_update_imports_cell('import numpy as np\\nimport pandas as pd'); }\n",
       "    "
      ],
      "text/plain": [
       "<IPython.core.display.Javascript object>"
      ]
     },
     "metadata": {},
     "output_type": "display_data"
    },
    {
     "data": {
      "application/javascript": [
       "\n",
       "        if (window._pyforest_update_imports_cell) { window._pyforest_update_imports_cell('import numpy as np\\nimport pandas as pd'); }\n",
       "    "
      ],
      "text/plain": [
       "<IPython.core.display.Javascript object>"
      ]
     },
     "metadata": {},
     "output_type": "display_data"
    },
    {
     "data": {
      "application/javascript": [
       "\n",
       "        if (window._pyforest_update_imports_cell) { window._pyforest_update_imports_cell('import numpy as np\\nimport pandas as pd'); }\n",
       "    "
      ],
      "text/plain": [
       "<IPython.core.display.Javascript object>"
      ]
     },
     "metadata": {},
     "output_type": "display_data"
    },
    {
     "data": {
      "application/javascript": [
       "\n",
       "        if (window._pyforest_update_imports_cell) { window._pyforest_update_imports_cell('import numpy as np\\nimport pandas as pd'); }\n",
       "    "
      ],
      "text/plain": [
       "<IPython.core.display.Javascript object>"
      ]
     },
     "metadata": {},
     "output_type": "display_data"
    },
    {
     "data": {
      "application/javascript": [
       "\n",
       "        if (window._pyforest_update_imports_cell) { window._pyforest_update_imports_cell('import numpy as np\\nimport pandas as pd'); }\n",
       "    "
      ],
      "text/plain": [
       "<IPython.core.display.Javascript object>"
      ]
     },
     "metadata": {},
     "output_type": "display_data"
    },
    {
     "data": {
      "application/javascript": [
       "\n",
       "        if (window._pyforest_update_imports_cell) { window._pyforest_update_imports_cell('import numpy as np\\nimport pandas as pd'); }\n",
       "    "
      ],
      "text/plain": [
       "<IPython.core.display.Javascript object>"
      ]
     },
     "metadata": {},
     "output_type": "display_data"
    },
    {
     "data": {
      "application/javascript": [
       "\n",
       "        if (window._pyforest_update_imports_cell) { window._pyforest_update_imports_cell('import numpy as np\\nimport pandas as pd'); }\n",
       "    "
      ],
      "text/plain": [
       "<IPython.core.display.Javascript object>"
      ]
     },
     "metadata": {},
     "output_type": "display_data"
    },
    {
     "data": {
      "application/javascript": [
       "\n",
       "        if (window._pyforest_update_imports_cell) { window._pyforest_update_imports_cell('import numpy as np\\nimport pandas as pd'); }\n",
       "    "
      ],
      "text/plain": [
       "<IPython.core.display.Javascript object>"
      ]
     },
     "metadata": {},
     "output_type": "display_data"
    },
    {
     "data": {
      "application/javascript": [
       "\n",
       "        if (window._pyforest_update_imports_cell) { window._pyforest_update_imports_cell('import numpy as np\\nimport pandas as pd'); }\n",
       "    "
      ],
      "text/plain": [
       "<IPython.core.display.Javascript object>"
      ]
     },
     "metadata": {},
     "output_type": "display_data"
    },
    {
     "data": {
      "application/javascript": [
       "\n",
       "        if (window._pyforest_update_imports_cell) { window._pyforest_update_imports_cell('import numpy as np\\nimport pandas as pd'); }\n",
       "    "
      ],
      "text/plain": [
       "<IPython.core.display.Javascript object>"
      ]
     },
     "metadata": {},
     "output_type": "display_data"
    },
    {
     "data": {
      "application/javascript": [
       "\n",
       "        if (window._pyforest_update_imports_cell) { window._pyforest_update_imports_cell('import numpy as np\\nimport pandas as pd'); }\n",
       "    "
      ],
      "text/plain": [
       "<IPython.core.display.Javascript object>"
      ]
     },
     "metadata": {},
     "output_type": "display_data"
    },
    {
     "data": {
      "application/javascript": [
       "\n",
       "        if (window._pyforest_update_imports_cell) { window._pyforest_update_imports_cell('import numpy as np\\nimport pandas as pd'); }\n",
       "    "
      ],
      "text/plain": [
       "<IPython.core.display.Javascript object>"
      ]
     },
     "metadata": {},
     "output_type": "display_data"
    },
    {
     "data": {
      "application/javascript": [
       "\n",
       "        if (window._pyforest_update_imports_cell) { window._pyforest_update_imports_cell('import numpy as np\\nimport pandas as pd'); }\n",
       "    "
      ],
      "text/plain": [
       "<IPython.core.display.Javascript object>"
      ]
     },
     "metadata": {},
     "output_type": "display_data"
    },
    {
     "data": {
      "application/javascript": [
       "\n",
       "        if (window._pyforest_update_imports_cell) { window._pyforest_update_imports_cell('import numpy as np\\nimport pandas as pd'); }\n",
       "    "
      ],
      "text/plain": [
       "<IPython.core.display.Javascript object>"
      ]
     },
     "metadata": {},
     "output_type": "display_data"
    },
    {
     "data": {
      "application/javascript": [
       "\n",
       "        if (window._pyforest_update_imports_cell) { window._pyforest_update_imports_cell('import numpy as np\\nimport pandas as pd'); }\n",
       "    "
      ],
      "text/plain": [
       "<IPython.core.display.Javascript object>"
      ]
     },
     "metadata": {},
     "output_type": "display_data"
    },
    {
     "data": {
      "application/javascript": [
       "\n",
       "        if (window._pyforest_update_imports_cell) { window._pyforest_update_imports_cell('import numpy as np\\nimport pandas as pd'); }\n",
       "    "
      ],
      "text/plain": [
       "<IPython.core.display.Javascript object>"
      ]
     },
     "metadata": {},
     "output_type": "display_data"
    },
    {
     "data": {
      "application/javascript": [
       "\n",
       "        if (window._pyforest_update_imports_cell) { window._pyforest_update_imports_cell('import numpy as np\\nimport pandas as pd'); }\n",
       "    "
      ],
      "text/plain": [
       "<IPython.core.display.Javascript object>"
      ]
     },
     "metadata": {},
     "output_type": "display_data"
    },
    {
     "data": {
      "application/javascript": [
       "\n",
       "        if (window._pyforest_update_imports_cell) { window._pyforest_update_imports_cell('import numpy as np\\nimport pandas as pd'); }\n",
       "    "
      ],
      "text/plain": [
       "<IPython.core.display.Javascript object>"
      ]
     },
     "metadata": {},
     "output_type": "display_data"
    },
    {
     "data": {
      "application/javascript": [
       "\n",
       "        if (window._pyforest_update_imports_cell) { window._pyforest_update_imports_cell('import numpy as np\\nimport pandas as pd'); }\n",
       "    "
      ],
      "text/plain": [
       "<IPython.core.display.Javascript object>"
      ]
     },
     "metadata": {},
     "output_type": "display_data"
    },
    {
     "data": {
      "application/javascript": [
       "\n",
       "        if (window._pyforest_update_imports_cell) { window._pyforest_update_imports_cell('import numpy as np\\nimport pandas as pd'); }\n",
       "    "
      ],
      "text/plain": [
       "<IPython.core.display.Javascript object>"
      ]
     },
     "metadata": {},
     "output_type": "display_data"
    },
    {
     "data": {
      "application/javascript": [
       "\n",
       "        if (window._pyforest_update_imports_cell) { window._pyforest_update_imports_cell('import numpy as np\\nimport pandas as pd'); }\n",
       "    "
      ],
      "text/plain": [
       "<IPython.core.display.Javascript object>"
      ]
     },
     "metadata": {},
     "output_type": "display_data"
    },
    {
     "data": {
      "application/javascript": [
       "\n",
       "        if (window._pyforest_update_imports_cell) { window._pyforest_update_imports_cell('import numpy as np\\nimport pandas as pd'); }\n",
       "    "
      ],
      "text/plain": [
       "<IPython.core.display.Javascript object>"
      ]
     },
     "metadata": {},
     "output_type": "display_data"
    },
    {
     "data": {
      "application/javascript": [
       "\n",
       "        if (window._pyforest_update_imports_cell) { window._pyforest_update_imports_cell('import numpy as np\\nimport pandas as pd'); }\n",
       "    "
      ],
      "text/plain": [
       "<IPython.core.display.Javascript object>"
      ]
     },
     "metadata": {},
     "output_type": "display_data"
    },
    {
     "data": {
      "application/javascript": [
       "\n",
       "        if (window._pyforest_update_imports_cell) { window._pyforest_update_imports_cell('import numpy as np\\nimport pandas as pd'); }\n",
       "    "
      ],
      "text/plain": [
       "<IPython.core.display.Javascript object>"
      ]
     },
     "metadata": {},
     "output_type": "display_data"
    },
    {
     "data": {
      "application/javascript": [
       "\n",
       "        if (window._pyforest_update_imports_cell) { window._pyforest_update_imports_cell('import numpy as np\\nimport pandas as pd'); }\n",
       "    "
      ],
      "text/plain": [
       "<IPython.core.display.Javascript object>"
      ]
     },
     "metadata": {},
     "output_type": "display_data"
    },
    {
     "data": {
      "application/javascript": [
       "\n",
       "        if (window._pyforest_update_imports_cell) { window._pyforest_update_imports_cell('import numpy as np\\nimport pandas as pd'); }\n",
       "    "
      ],
      "text/plain": [
       "<IPython.core.display.Javascript object>"
      ]
     },
     "metadata": {},
     "output_type": "display_data"
    },
    {
     "data": {
      "application/javascript": [
       "\n",
       "        if (window._pyforest_update_imports_cell) { window._pyforest_update_imports_cell('import numpy as np\\nimport pandas as pd'); }\n",
       "    "
      ],
      "text/plain": [
       "<IPython.core.display.Javascript object>"
      ]
     },
     "metadata": {},
     "output_type": "display_data"
    },
    {
     "data": {
      "application/javascript": [
       "\n",
       "        if (window._pyforest_update_imports_cell) { window._pyforest_update_imports_cell('import numpy as np\\nimport pandas as pd'); }\n",
       "    "
      ],
      "text/plain": [
       "<IPython.core.display.Javascript object>"
      ]
     },
     "metadata": {},
     "output_type": "display_data"
    },
    {
     "data": {
      "application/javascript": [
       "\n",
       "        if (window._pyforest_update_imports_cell) { window._pyforest_update_imports_cell('import numpy as np\\nimport pandas as pd'); }\n",
       "    "
      ],
      "text/plain": [
       "<IPython.core.display.Javascript object>"
      ]
     },
     "metadata": {},
     "output_type": "display_data"
    },
    {
     "data": {
      "application/javascript": [
       "\n",
       "        if (window._pyforest_update_imports_cell) { window._pyforest_update_imports_cell('import numpy as np\\nimport pandas as pd'); }\n",
       "    "
      ],
      "text/plain": [
       "<IPython.core.display.Javascript object>"
      ]
     },
     "metadata": {},
     "output_type": "display_data"
    },
    {
     "data": {
      "application/javascript": [
       "\n",
       "        if (window._pyforest_update_imports_cell) { window._pyforest_update_imports_cell('import numpy as np\\nimport pandas as pd'); }\n",
       "    "
      ],
      "text/plain": [
       "<IPython.core.display.Javascript object>"
      ]
     },
     "metadata": {},
     "output_type": "display_data"
    },
    {
     "data": {
      "application/javascript": [
       "\n",
       "        if (window._pyforest_update_imports_cell) { window._pyforest_update_imports_cell('import numpy as np\\nimport pandas as pd'); }\n",
       "    "
      ],
      "text/plain": [
       "<IPython.core.display.Javascript object>"
      ]
     },
     "metadata": {},
     "output_type": "display_data"
    },
    {
     "data": {
      "application/javascript": [
       "\n",
       "        if (window._pyforest_update_imports_cell) { window._pyforest_update_imports_cell('import numpy as np\\nimport pandas as pd'); }\n",
       "    "
      ],
      "text/plain": [
       "<IPython.core.display.Javascript object>"
      ]
     },
     "metadata": {},
     "output_type": "display_data"
    },
    {
     "data": {
      "application/javascript": [
       "\n",
       "        if (window._pyforest_update_imports_cell) { window._pyforest_update_imports_cell('import numpy as np\\nimport pandas as pd'); }\n",
       "    "
      ],
      "text/plain": [
       "<IPython.core.display.Javascript object>"
      ]
     },
     "metadata": {},
     "output_type": "display_data"
    },
    {
     "data": {
      "application/javascript": [
       "\n",
       "        if (window._pyforest_update_imports_cell) { window._pyforest_update_imports_cell('import numpy as np\\nimport pandas as pd'); }\n",
       "    "
      ],
      "text/plain": [
       "<IPython.core.display.Javascript object>"
      ]
     },
     "metadata": {},
     "output_type": "display_data"
    },
    {
     "data": {
      "application/javascript": [
       "\n",
       "        if (window._pyforest_update_imports_cell) { window._pyforest_update_imports_cell('import numpy as np\\nimport pandas as pd'); }\n",
       "    "
      ],
      "text/plain": [
       "<IPython.core.display.Javascript object>"
      ]
     },
     "metadata": {},
     "output_type": "display_data"
    },
    {
     "data": {
      "application/javascript": [
       "\n",
       "        if (window._pyforest_update_imports_cell) { window._pyforest_update_imports_cell('import numpy as np\\nimport pandas as pd'); }\n",
       "    "
      ],
      "text/plain": [
       "<IPython.core.display.Javascript object>"
      ]
     },
     "metadata": {},
     "output_type": "display_data"
    },
    {
     "data": {
      "application/javascript": [
       "\n",
       "        if (window._pyforest_update_imports_cell) { window._pyforest_update_imports_cell('import numpy as np\\nimport pandas as pd'); }\n",
       "    "
      ],
      "text/plain": [
       "<IPython.core.display.Javascript object>"
      ]
     },
     "metadata": {},
     "output_type": "display_data"
    },
    {
     "data": {
      "application/javascript": [
       "\n",
       "        if (window._pyforest_update_imports_cell) { window._pyforest_update_imports_cell('import numpy as np\\nimport pandas as pd'); }\n",
       "    "
      ],
      "text/plain": [
       "<IPython.core.display.Javascript object>"
      ]
     },
     "metadata": {},
     "output_type": "display_data"
    },
    {
     "data": {
      "application/javascript": [
       "\n",
       "        if (window._pyforest_update_imports_cell) { window._pyforest_update_imports_cell('import numpy as np\\nimport pandas as pd'); }\n",
       "    "
      ],
      "text/plain": [
       "<IPython.core.display.Javascript object>"
      ]
     },
     "metadata": {},
     "output_type": "display_data"
    },
    {
     "data": {
      "application/javascript": [
       "\n",
       "        if (window._pyforest_update_imports_cell) { window._pyforest_update_imports_cell('import numpy as np\\nimport pandas as pd'); }\n",
       "    "
      ],
      "text/plain": [
       "<IPython.core.display.Javascript object>"
      ]
     },
     "metadata": {},
     "output_type": "display_data"
    },
    {
     "data": {
      "application/javascript": [
       "\n",
       "        if (window._pyforest_update_imports_cell) { window._pyforest_update_imports_cell('import numpy as np\\nimport pandas as pd'); }\n",
       "    "
      ],
      "text/plain": [
       "<IPython.core.display.Javascript object>"
      ]
     },
     "metadata": {},
     "output_type": "display_data"
    },
    {
     "data": {
      "application/javascript": [
       "\n",
       "        if (window._pyforest_update_imports_cell) { window._pyforest_update_imports_cell('import numpy as np\\nimport pandas as pd'); }\n",
       "    "
      ],
      "text/plain": [
       "<IPython.core.display.Javascript object>"
      ]
     },
     "metadata": {},
     "output_type": "display_data"
    },
    {
     "data": {
      "application/javascript": [
       "\n",
       "        if (window._pyforest_update_imports_cell) { window._pyforest_update_imports_cell('import numpy as np\\nimport pandas as pd'); }\n",
       "    "
      ],
      "text/plain": [
       "<IPython.core.display.Javascript object>"
      ]
     },
     "metadata": {},
     "output_type": "display_data"
    },
    {
     "data": {
      "application/javascript": [
       "\n",
       "        if (window._pyforest_update_imports_cell) { window._pyforest_update_imports_cell('import numpy as np\\nimport pandas as pd'); }\n",
       "    "
      ],
      "text/plain": [
       "<IPython.core.display.Javascript object>"
      ]
     },
     "metadata": {},
     "output_type": "display_data"
    },
    {
     "data": {
      "application/javascript": [
       "\n",
       "        if (window._pyforest_update_imports_cell) { window._pyforest_update_imports_cell('import numpy as np\\nimport pandas as pd'); }\n",
       "    "
      ],
      "text/plain": [
       "<IPython.core.display.Javascript object>"
      ]
     },
     "metadata": {},
     "output_type": "display_data"
    },
    {
     "data": {
      "application/javascript": [
       "\n",
       "        if (window._pyforest_update_imports_cell) { window._pyforest_update_imports_cell('import numpy as np\\nimport pandas as pd'); }\n",
       "    "
      ],
      "text/plain": [
       "<IPython.core.display.Javascript object>"
      ]
     },
     "metadata": {},
     "output_type": "display_data"
    },
    {
     "data": {
      "application/javascript": [
       "\n",
       "        if (window._pyforest_update_imports_cell) { window._pyforest_update_imports_cell('import numpy as np\\nimport pandas as pd'); }\n",
       "    "
      ],
      "text/plain": [
       "<IPython.core.display.Javascript object>"
      ]
     },
     "metadata": {},
     "output_type": "display_data"
    },
    {
     "data": {
      "application/javascript": [
       "\n",
       "        if (window._pyforest_update_imports_cell) { window._pyforest_update_imports_cell('import numpy as np\\nimport pandas as pd'); }\n",
       "    "
      ],
      "text/plain": [
       "<IPython.core.display.Javascript object>"
      ]
     },
     "metadata": {},
     "output_type": "display_data"
    },
    {
     "data": {
      "application/javascript": [
       "\n",
       "        if (window._pyforest_update_imports_cell) { window._pyforest_update_imports_cell('import numpy as np\\nimport pandas as pd'); }\n",
       "    "
      ],
      "text/plain": [
       "<IPython.core.display.Javascript object>"
      ]
     },
     "metadata": {},
     "output_type": "display_data"
    },
    {
     "data": {
      "application/javascript": [
       "\n",
       "        if (window._pyforest_update_imports_cell) { window._pyforest_update_imports_cell('import numpy as np\\nimport pandas as pd'); }\n",
       "    "
      ],
      "text/plain": [
       "<IPython.core.display.Javascript object>"
      ]
     },
     "metadata": {},
     "output_type": "display_data"
    },
    {
     "data": {
      "application/javascript": [
       "\n",
       "        if (window._pyforest_update_imports_cell) { window._pyforest_update_imports_cell('import numpy as np\\nimport pandas as pd'); }\n",
       "    "
      ],
      "text/plain": [
       "<IPython.core.display.Javascript object>"
      ]
     },
     "metadata": {},
     "output_type": "display_data"
    },
    {
     "data": {
      "application/javascript": [
       "\n",
       "        if (window._pyforest_update_imports_cell) { window._pyforest_update_imports_cell('import numpy as np\\nimport pandas as pd'); }\n",
       "    "
      ],
      "text/plain": [
       "<IPython.core.display.Javascript object>"
      ]
     },
     "metadata": {},
     "output_type": "display_data"
    },
    {
     "data": {
      "application/javascript": [
       "\n",
       "        if (window._pyforest_update_imports_cell) { window._pyforest_update_imports_cell('import numpy as np\\nimport pandas as pd'); }\n",
       "    "
      ],
      "text/plain": [
       "<IPython.core.display.Javascript object>"
      ]
     },
     "metadata": {},
     "output_type": "display_data"
    },
    {
     "data": {
      "application/javascript": [
       "\n",
       "        if (window._pyforest_update_imports_cell) { window._pyforest_update_imports_cell('import numpy as np\\nimport pandas as pd'); }\n",
       "    "
      ],
      "text/plain": [
       "<IPython.core.display.Javascript object>"
      ]
     },
     "metadata": {},
     "output_type": "display_data"
    },
    {
     "data": {
      "application/javascript": [
       "\n",
       "        if (window._pyforest_update_imports_cell) { window._pyforest_update_imports_cell('import numpy as np\\nimport pandas as pd'); }\n",
       "    "
      ],
      "text/plain": [
       "<IPython.core.display.Javascript object>"
      ]
     },
     "metadata": {},
     "output_type": "display_data"
    },
    {
     "data": {
      "application/javascript": [
       "\n",
       "        if (window._pyforest_update_imports_cell) { window._pyforest_update_imports_cell('import numpy as np\\nimport pandas as pd'); }\n",
       "    "
      ],
      "text/plain": [
       "<IPython.core.display.Javascript object>"
      ]
     },
     "metadata": {},
     "output_type": "display_data"
    },
    {
     "data": {
      "application/javascript": [
       "\n",
       "        if (window._pyforest_update_imports_cell) { window._pyforest_update_imports_cell('import numpy as np\\nimport pandas as pd'); }\n",
       "    "
      ],
      "text/plain": [
       "<IPython.core.display.Javascript object>"
      ]
     },
     "metadata": {},
     "output_type": "display_data"
    },
    {
     "data": {
      "application/javascript": [
       "\n",
       "        if (window._pyforest_update_imports_cell) { window._pyforest_update_imports_cell('import numpy as np\\nimport pandas as pd'); }\n",
       "    "
      ],
      "text/plain": [
       "<IPython.core.display.Javascript object>"
      ]
     },
     "metadata": {},
     "output_type": "display_data"
    },
    {
     "data": {
      "application/javascript": [
       "\n",
       "        if (window._pyforest_update_imports_cell) { window._pyforest_update_imports_cell('import numpy as np\\nimport pandas as pd'); }\n",
       "    "
      ],
      "text/plain": [
       "<IPython.core.display.Javascript object>"
      ]
     },
     "metadata": {},
     "output_type": "display_data"
    },
    {
     "data": {
      "application/javascript": [
       "\n",
       "        if (window._pyforest_update_imports_cell) { window._pyforest_update_imports_cell('import numpy as np\\nimport pandas as pd'); }\n",
       "    "
      ],
      "text/plain": [
       "<IPython.core.display.Javascript object>"
      ]
     },
     "metadata": {},
     "output_type": "display_data"
    },
    {
     "data": {
      "application/javascript": [
       "\n",
       "        if (window._pyforest_update_imports_cell) { window._pyforest_update_imports_cell('import numpy as np\\nimport pandas as pd'); }\n",
       "    "
      ],
      "text/plain": [
       "<IPython.core.display.Javascript object>"
      ]
     },
     "metadata": {},
     "output_type": "display_data"
    },
    {
     "data": {
      "application/javascript": [
       "\n",
       "        if (window._pyforest_update_imports_cell) { window._pyforest_update_imports_cell('import numpy as np\\nimport pandas as pd'); }\n",
       "    "
      ],
      "text/plain": [
       "<IPython.core.display.Javascript object>"
      ]
     },
     "metadata": {},
     "output_type": "display_data"
    },
    {
     "data": {
      "application/javascript": [
       "\n",
       "        if (window._pyforest_update_imports_cell) { window._pyforest_update_imports_cell('import numpy as np\\nimport pandas as pd'); }\n",
       "    "
      ],
      "text/plain": [
       "<IPython.core.display.Javascript object>"
      ]
     },
     "metadata": {},
     "output_type": "display_data"
    },
    {
     "data": {
      "application/javascript": [
       "\n",
       "        if (window._pyforest_update_imports_cell) { window._pyforest_update_imports_cell('import numpy as np\\nimport pandas as pd'); }\n",
       "    "
      ],
      "text/plain": [
       "<IPython.core.display.Javascript object>"
      ]
     },
     "metadata": {},
     "output_type": "display_data"
    },
    {
     "data": {
      "application/javascript": [
       "\n",
       "        if (window._pyforest_update_imports_cell) { window._pyforest_update_imports_cell('import numpy as np\\nimport pandas as pd'); }\n",
       "    "
      ],
      "text/plain": [
       "<IPython.core.display.Javascript object>"
      ]
     },
     "metadata": {},
     "output_type": "display_data"
    },
    {
     "data": {
      "application/javascript": [
       "\n",
       "        if (window._pyforest_update_imports_cell) { window._pyforest_update_imports_cell('import numpy as np\\nimport pandas as pd'); }\n",
       "    "
      ],
      "text/plain": [
       "<IPython.core.display.Javascript object>"
      ]
     },
     "metadata": {},
     "output_type": "display_data"
    },
    {
     "data": {
      "application/javascript": [
       "\n",
       "        if (window._pyforest_update_imports_cell) { window._pyforest_update_imports_cell('import numpy as np\\nimport pandas as pd'); }\n",
       "    "
      ],
      "text/plain": [
       "<IPython.core.display.Javascript object>"
      ]
     },
     "metadata": {},
     "output_type": "display_data"
    },
    {
     "data": {
      "application/javascript": [
       "\n",
       "        if (window._pyforest_update_imports_cell) { window._pyforest_update_imports_cell('import numpy as np\\nimport pandas as pd'); }\n",
       "    "
      ],
      "text/plain": [
       "<IPython.core.display.Javascript object>"
      ]
     },
     "metadata": {},
     "output_type": "display_data"
    },
    {
     "data": {
      "application/javascript": [
       "\n",
       "        if (window._pyforest_update_imports_cell) { window._pyforest_update_imports_cell('import numpy as np\\nimport pandas as pd'); }\n",
       "    "
      ],
      "text/plain": [
       "<IPython.core.display.Javascript object>"
      ]
     },
     "metadata": {},
     "output_type": "display_data"
    },
    {
     "data": {
      "application/javascript": [
       "\n",
       "        if (window._pyforest_update_imports_cell) { window._pyforest_update_imports_cell('import numpy as np\\nimport pandas as pd'); }\n",
       "    "
      ],
      "text/plain": [
       "<IPython.core.display.Javascript object>"
      ]
     },
     "metadata": {},
     "output_type": "display_data"
    },
    {
     "data": {
      "application/javascript": [
       "\n",
       "        if (window._pyforest_update_imports_cell) { window._pyforest_update_imports_cell('import numpy as np\\nimport pandas as pd'); }\n",
       "    "
      ],
      "text/plain": [
       "<IPython.core.display.Javascript object>"
      ]
     },
     "metadata": {},
     "output_type": "display_data"
    },
    {
     "data": {
      "application/javascript": [
       "\n",
       "        if (window._pyforest_update_imports_cell) { window._pyforest_update_imports_cell('import numpy as np\\nimport pandas as pd'); }\n",
       "    "
      ],
      "text/plain": [
       "<IPython.core.display.Javascript object>"
      ]
     },
     "metadata": {},
     "output_type": "display_data"
    },
    {
     "name": "stdout",
     "output_type": "stream",
     "text": [
      "Memory usage of dataframe is 9.08 MB --> 1.20 MB (Decreased by 86.8%)\n"
     ]
    },
    {
     "data": {
      "text/html": [
       "<div>\n",
       "<style scoped>\n",
       "    .dataframe tbody tr th:only-of-type {\n",
       "        vertical-align: middle;\n",
       "    }\n",
       "\n",
       "    .dataframe tbody tr th {\n",
       "        vertical-align: top;\n",
       "    }\n",
       "\n",
       "    .dataframe thead th {\n",
       "        text-align: right;\n",
       "    }\n",
       "</style>\n",
       "<table border=\"1\" class=\"dataframe\">\n",
       "  <thead>\n",
       "    <tr style=\"text-align: right;\">\n",
       "      <th></th>\n",
       "      <th>race</th>\n",
       "      <th>age</th>\n",
       "      <th>admission_type_id</th>\n",
       "      <th>discharge_disposition_id</th>\n",
       "      <th>time_in_hospital</th>\n",
       "      <th>num_lab_procedures</th>\n",
       "      <th>num_medications</th>\n",
       "      <th>diag_1</th>\n",
       "      <th>diag_2</th>\n",
       "      <th>diag_3</th>\n",
       "      <th>number_diagnoses</th>\n",
       "      <th>max_glu_serum</th>\n",
       "      <th>A1Cresult</th>\n",
       "      <th>change</th>\n",
       "      <th>diabetesMed</th>\n",
       "      <th>total_patient_interaction</th>\n",
       "      <th>numchange</th>\n",
       "    </tr>\n",
       "  </thead>\n",
       "  <tbody>\n",
       "    <tr>\n",
       "      <td>0</td>\n",
       "      <td>1</td>\n",
       "      <td>0</td>\n",
       "      <td>2</td>\n",
       "      <td>3</td>\n",
       "      <td>1</td>\n",
       "      <td>41</td>\n",
       "      <td>1</td>\n",
       "      <td>4</td>\n",
       "      <td>4</td>\n",
       "      <td>4</td>\n",
       "      <td>1</td>\n",
       "      <td>2</td>\n",
       "      <td>2</td>\n",
       "      <td>0</td>\n",
       "      <td>0</td>\n",
       "      <td>0</td>\n",
       "      <td>0</td>\n",
       "    </tr>\n",
       "    <tr>\n",
       "      <td>1</td>\n",
       "      <td>1</td>\n",
       "      <td>0</td>\n",
       "      <td>1</td>\n",
       "      <td>0</td>\n",
       "      <td>3</td>\n",
       "      <td>59</td>\n",
       "      <td>18</td>\n",
       "      <td>4</td>\n",
       "      <td>4</td>\n",
       "      <td>4</td>\n",
       "      <td>9</td>\n",
       "      <td>2</td>\n",
       "      <td>2</td>\n",
       "      <td>1</td>\n",
       "      <td>1</td>\n",
       "      <td>0</td>\n",
       "      <td>1</td>\n",
       "    </tr>\n",
       "    <tr>\n",
       "      <td>2</td>\n",
       "      <td>0</td>\n",
       "      <td>0</td>\n",
       "      <td>1</td>\n",
       "      <td>0</td>\n",
       "      <td>2</td>\n",
       "      <td>11</td>\n",
       "      <td>13</td>\n",
       "      <td>14</td>\n",
       "      <td>4</td>\n",
       "      <td>17</td>\n",
       "      <td>6</td>\n",
       "      <td>2</td>\n",
       "      <td>2</td>\n",
       "      <td>0</td>\n",
       "      <td>1</td>\n",
       "      <td>3</td>\n",
       "      <td>1</td>\n",
       "    </tr>\n",
       "    <tr>\n",
       "      <td>3</td>\n",
       "      <td>1</td>\n",
       "      <td>0</td>\n",
       "      <td>1</td>\n",
       "      <td>0</td>\n",
       "      <td>2</td>\n",
       "      <td>44</td>\n",
       "      <td>16</td>\n",
       "      <td>8</td>\n",
       "      <td>4</td>\n",
       "      <td>1</td>\n",
       "      <td>7</td>\n",
       "      <td>2</td>\n",
       "      <td>2</td>\n",
       "      <td>1</td>\n",
       "      <td>1</td>\n",
       "      <td>0</td>\n",
       "      <td>1</td>\n",
       "    </tr>\n",
       "    <tr>\n",
       "      <td>4</td>\n",
       "      <td>1</td>\n",
       "      <td>1</td>\n",
       "      <td>1</td>\n",
       "      <td>0</td>\n",
       "      <td>1</td>\n",
       "      <td>51</td>\n",
       "      <td>8</td>\n",
       "      <td>12</td>\n",
       "      <td>12</td>\n",
       "      <td>4</td>\n",
       "      <td>5</td>\n",
       "      <td>2</td>\n",
       "      <td>2</td>\n",
       "      <td>1</td>\n",
       "      <td>1</td>\n",
       "      <td>0</td>\n",
       "      <td>2</td>\n",
       "    </tr>\n",
       "    <tr>\n",
       "      <td>...</td>\n",
       "      <td>...</td>\n",
       "      <td>...</td>\n",
       "      <td>...</td>\n",
       "      <td>...</td>\n",
       "      <td>...</td>\n",
       "      <td>...</td>\n",
       "      <td>...</td>\n",
       "      <td>...</td>\n",
       "      <td>...</td>\n",
       "      <td>...</td>\n",
       "      <td>...</td>\n",
       "      <td>...</td>\n",
       "      <td>...</td>\n",
       "      <td>...</td>\n",
       "      <td>...</td>\n",
       "      <td>...</td>\n",
       "      <td>...</td>\n",
       "    </tr>\n",
       "    <tr>\n",
       "      <td>69964</td>\n",
       "      <td>1</td>\n",
       "      <td>2</td>\n",
       "      <td>1</td>\n",
       "      <td>0</td>\n",
       "      <td>9</td>\n",
       "      <td>50</td>\n",
       "      <td>33</td>\n",
       "      <td>3</td>\n",
       "      <td>3</td>\n",
       "      <td>4</td>\n",
       "      <td>9</td>\n",
       "      <td>2</td>\n",
       "      <td>0</td>\n",
       "      <td>1</td>\n",
       "      <td>1</td>\n",
       "      <td>0</td>\n",
       "      <td>2</td>\n",
       "    </tr>\n",
       "    <tr>\n",
       "      <td>69965</td>\n",
       "      <td>2</td>\n",
       "      <td>1</td>\n",
       "      <td>1</td>\n",
       "      <td>0</td>\n",
       "      <td>14</td>\n",
       "      <td>73</td>\n",
       "      <td>26</td>\n",
       "      <td>6</td>\n",
       "      <td>6</td>\n",
       "      <td>15</td>\n",
       "      <td>9</td>\n",
       "      <td>2</td>\n",
       "      <td>0</td>\n",
       "      <td>1</td>\n",
       "      <td>1</td>\n",
       "      <td>1</td>\n",
       "      <td>2</td>\n",
       "    </tr>\n",
       "    <tr>\n",
       "      <td>69966</td>\n",
       "      <td>2</td>\n",
       "      <td>1</td>\n",
       "      <td>1</td>\n",
       "      <td>0</td>\n",
       "      <td>2</td>\n",
       "      <td>46</td>\n",
       "      <td>17</td>\n",
       "      <td>9</td>\n",
       "      <td>6</td>\n",
       "      <td>1</td>\n",
       "      <td>9</td>\n",
       "      <td>2</td>\n",
       "      <td>2</td>\n",
       "      <td>0</td>\n",
       "      <td>1</td>\n",
       "      <td>3</td>\n",
       "      <td>1</td>\n",
       "    </tr>\n",
       "    <tr>\n",
       "      <td>69967</td>\n",
       "      <td>1</td>\n",
       "      <td>2</td>\n",
       "      <td>1</td>\n",
       "      <td>0</td>\n",
       "      <td>5</td>\n",
       "      <td>76</td>\n",
       "      <td>22</td>\n",
       "      <td>10</td>\n",
       "      <td>8</td>\n",
       "      <td>10</td>\n",
       "      <td>9</td>\n",
       "      <td>2</td>\n",
       "      <td>2</td>\n",
       "      <td>1</td>\n",
       "      <td>1</td>\n",
       "      <td>1</td>\n",
       "      <td>1</td>\n",
       "    </tr>\n",
       "    <tr>\n",
       "      <td>69968</td>\n",
       "      <td>1</td>\n",
       "      <td>2</td>\n",
       "      <td>1</td>\n",
       "      <td>0</td>\n",
       "      <td>6</td>\n",
       "      <td>13</td>\n",
       "      <td>3</td>\n",
       "      <td>3</td>\n",
       "      <td>3</td>\n",
       "      <td>7</td>\n",
       "      <td>9</td>\n",
       "      <td>2</td>\n",
       "      <td>2</td>\n",
       "      <td>0</td>\n",
       "      <td>0</td>\n",
       "      <td>0</td>\n",
       "      <td>0</td>\n",
       "    </tr>\n",
       "  </tbody>\n",
       "</table>\n",
       "<p>69969 rows × 17 columns</p>\n",
       "</div>"
      ],
      "text/plain": [
       "       race  age  admission_type_id  discharge_disposition_id  \\\n",
       "0         1    0                  2                         3   \n",
       "1         1    0                  1                         0   \n",
       "2         0    0                  1                         0   \n",
       "3         1    0                  1                         0   \n",
       "4         1    1                  1                         0   \n",
       "...     ...  ...                ...                       ...   \n",
       "69964     1    2                  1                         0   \n",
       "69965     2    1                  1                         0   \n",
       "69966     2    1                  1                         0   \n",
       "69967     1    2                  1                         0   \n",
       "69968     1    2                  1                         0   \n",
       "\n",
       "       time_in_hospital  num_lab_procedures  num_medications  diag_1  diag_2  \\\n",
       "0                     1                  41                1       4       4   \n",
       "1                     3                  59               18       4       4   \n",
       "2                     2                  11               13      14       4   \n",
       "3                     2                  44               16       8       4   \n",
       "4                     1                  51                8      12      12   \n",
       "...                 ...                 ...              ...     ...     ...   \n",
       "69964                 9                  50               33       3       3   \n",
       "69965                14                  73               26       6       6   \n",
       "69966                 2                  46               17       9       6   \n",
       "69967                 5                  76               22      10       8   \n",
       "69968                 6                  13                3       3       3   \n",
       "\n",
       "       diag_3  number_diagnoses  max_glu_serum  A1Cresult  change  \\\n",
       "0           4                 1              2          2       0   \n",
       "1           4                 9              2          2       1   \n",
       "2          17                 6              2          2       0   \n",
       "3           1                 7              2          2       1   \n",
       "4           4                 5              2          2       1   \n",
       "...       ...               ...            ...        ...     ...   \n",
       "69964       4                 9              2          0       1   \n",
       "69965      15                 9              2          0       1   \n",
       "69966       1                 9              2          2       0   \n",
       "69967      10                 9              2          2       1   \n",
       "69968       7                 9              2          2       0   \n",
       "\n",
       "       diabetesMed  total_patient_interaction  numchange  \n",
       "0                0                          0          0  \n",
       "1                1                          0          1  \n",
       "2                1                          3          1  \n",
       "3                1                          0          1  \n",
       "4                1                          0          2  \n",
       "...            ...                        ...        ...  \n",
       "69964            1                          0          2  \n",
       "69965            1                          1          2  \n",
       "69966            1                          3          1  \n",
       "69967            1                          1          1  \n",
       "69968            0                          0          0  \n",
       "\n",
       "[69969 rows x 17 columns]"
      ]
     },
     "execution_count": 8,
     "metadata": {},
     "output_type": "execute_result"
    }
   ],
   "source": [
    "reduce_mem_usage(X)"
   ]
  },
  {
   "cell_type": "code",
   "execution_count": 9,
   "metadata": {},
   "outputs": [
    {
     "data": {
      "application/javascript": [
       "\n",
       "        if (window._pyforest_update_imports_cell) { window._pyforest_update_imports_cell('import numpy as np\\nimport pandas as pd'); }\n",
       "    "
      ],
      "text/plain": [
       "<IPython.core.display.Javascript object>"
      ]
     },
     "metadata": {},
     "output_type": "display_data"
    },
    {
     "data": {
      "text/html": [
       "<div>\n",
       "<style scoped>\n",
       "    .dataframe tbody tr th:only-of-type {\n",
       "        vertical-align: middle;\n",
       "    }\n",
       "\n",
       "    .dataframe tbody tr th {\n",
       "        vertical-align: top;\n",
       "    }\n",
       "\n",
       "    .dataframe thead th {\n",
       "        text-align: right;\n",
       "    }\n",
       "</style>\n",
       "<table border=\"1\" class=\"dataframe\">\n",
       "  <thead>\n",
       "    <tr style=\"text-align: right;\">\n",
       "      <th></th>\n",
       "      <th>race</th>\n",
       "      <th>age</th>\n",
       "      <th>admission_type_id</th>\n",
       "      <th>discharge_disposition_id</th>\n",
       "      <th>time_in_hospital</th>\n",
       "      <th>num_lab_procedures</th>\n",
       "      <th>num_medications</th>\n",
       "      <th>diag_1</th>\n",
       "      <th>diag_2</th>\n",
       "      <th>diag_3</th>\n",
       "      <th>number_diagnoses</th>\n",
       "      <th>max_glu_serum</th>\n",
       "      <th>A1Cresult</th>\n",
       "      <th>change</th>\n",
       "      <th>diabetesMed</th>\n",
       "      <th>total_patient_interaction</th>\n",
       "      <th>numchange</th>\n",
       "    </tr>\n",
       "  </thead>\n",
       "  <tbody>\n",
       "    <tr>\n",
       "      <td>race</td>\n",
       "      <td>1.000000</td>\n",
       "      <td>0.093309</td>\n",
       "      <td>0.017875</td>\n",
       "      <td>0.022552</td>\n",
       "      <td>-0.018067</td>\n",
       "      <td>-0.018403</td>\n",
       "      <td>0.016891</td>\n",
       "      <td>0.024901</td>\n",
       "      <td>0.018716</td>\n",
       "      <td>0.002540</td>\n",
       "      <td>0.046701</td>\n",
       "      <td>-0.049746</td>\n",
       "      <td>0.003991</td>\n",
       "      <td>0.001851</td>\n",
       "      <td>-0.004460</td>\n",
       "      <td>0.026382</td>\n",
       "      <td>0.010159</td>\n",
       "    </tr>\n",
       "    <tr>\n",
       "      <td>age</td>\n",
       "      <td>0.093309</td>\n",
       "      <td>1.000000</td>\n",
       "      <td>0.033418</td>\n",
       "      <td>0.236304</td>\n",
       "      <td>0.115707</td>\n",
       "      <td>0.024451</td>\n",
       "      <td>0.036397</td>\n",
       "      <td>-0.032995</td>\n",
       "      <td>-0.063140</td>\n",
       "      <td>-0.066898</td>\n",
       "      <td>0.215566</td>\n",
       "      <td>-0.033658</td>\n",
       "      <td>0.110535</td>\n",
       "      <td>-0.033955</td>\n",
       "      <td>-0.016755</td>\n",
       "      <td>0.009742</td>\n",
       "      <td>-0.003644</td>\n",
       "    </tr>\n",
       "    <tr>\n",
       "      <td>admission_type_id</td>\n",
       "      <td>0.017875</td>\n",
       "      <td>0.033418</td>\n",
       "      <td>1.000000</td>\n",
       "      <td>0.064542</td>\n",
       "      <td>0.016438</td>\n",
       "      <td>0.153881</td>\n",
       "      <td>-0.118059</td>\n",
       "      <td>-0.046465</td>\n",
       "      <td>-0.015231</td>\n",
       "      <td>-0.009084</td>\n",
       "      <td>0.007814</td>\n",
       "      <td>-0.348152</td>\n",
       "      <td>-0.067298</td>\n",
       "      <td>-0.014567</td>\n",
       "      <td>-0.000997</td>\n",
       "      <td>0.065543</td>\n",
       "      <td>-0.029550</td>\n",
       "    </tr>\n",
       "    <tr>\n",
       "      <td>discharge_disposition_id</td>\n",
       "      <td>0.022552</td>\n",
       "      <td>0.236304</td>\n",
       "      <td>0.064542</td>\n",
       "      <td>1.000000</td>\n",
       "      <td>0.223072</td>\n",
       "      <td>0.057766</td>\n",
       "      <td>0.101620</td>\n",
       "      <td>0.049760</td>\n",
       "      <td>0.027266</td>\n",
       "      <td>0.035499</td>\n",
       "      <td>0.119650</td>\n",
       "      <td>-0.069731</td>\n",
       "      <td>0.030118</td>\n",
       "      <td>0.001059</td>\n",
       "      <td>-0.015897</td>\n",
       "      <td>0.000942</td>\n",
       "      <td>-0.020068</td>\n",
       "    </tr>\n",
       "    <tr>\n",
       "      <td>time_in_hospital</td>\n",
       "      <td>-0.018067</td>\n",
       "      <td>0.115707</td>\n",
       "      <td>0.016438</td>\n",
       "      <td>0.223072</td>\n",
       "      <td>1.000000</td>\n",
       "      <td>0.332178</td>\n",
       "      <td>0.468059</td>\n",
       "      <td>0.098288</td>\n",
       "      <td>0.098641</td>\n",
       "      <td>0.077534</td>\n",
       "      <td>0.233878</td>\n",
       "      <td>-0.023582</td>\n",
       "      <td>-0.068015</td>\n",
       "      <td>0.111715</td>\n",
       "      <td>0.068656</td>\n",
       "      <td>0.011825</td>\n",
       "      <td>0.086817</td>\n",
       "    </tr>\n",
       "    <tr>\n",
       "      <td>num_lab_procedures</td>\n",
       "      <td>-0.018403</td>\n",
       "      <td>0.024451</td>\n",
       "      <td>0.153881</td>\n",
       "      <td>0.057766</td>\n",
       "      <td>0.332178</td>\n",
       "      <td>1.000000</td>\n",
       "      <td>0.259051</td>\n",
       "      <td>-0.059800</td>\n",
       "      <td>0.010167</td>\n",
       "      <td>0.011708</td>\n",
       "      <td>0.154042</td>\n",
       "      <td>0.114716</td>\n",
       "      <td>-0.261240</td>\n",
       "      <td>0.076909</td>\n",
       "      <td>0.045301</td>\n",
       "      <td>0.033245</td>\n",
       "      <td>0.043449</td>\n",
       "    </tr>\n",
       "    <tr>\n",
       "      <td>num_medications</td>\n",
       "      <td>0.016891</td>\n",
       "      <td>0.036397</td>\n",
       "      <td>-0.118059</td>\n",
       "      <td>0.101620</td>\n",
       "      <td>0.468059</td>\n",
       "      <td>0.259051</td>\n",
       "      <td>1.000000</td>\n",
       "      <td>0.015029</td>\n",
       "      <td>0.020609</td>\n",
       "      <td>0.010830</td>\n",
       "      <td>0.259272</td>\n",
       "      <td>0.017935</td>\n",
       "      <td>-0.016205</td>\n",
       "      <td>0.245931</td>\n",
       "      <td>0.186699</td>\n",
       "      <td>0.037875</td>\n",
       "      <td>0.236973</td>\n",
       "    </tr>\n",
       "    <tr>\n",
       "      <td>diag_1</td>\n",
       "      <td>0.024901</td>\n",
       "      <td>-0.032995</td>\n",
       "      <td>-0.046465</td>\n",
       "      <td>0.049760</td>\n",
       "      <td>0.098288</td>\n",
       "      <td>-0.059800</td>\n",
       "      <td>0.015029</td>\n",
       "      <td>1.000000</td>\n",
       "      <td>0.184087</td>\n",
       "      <td>0.098861</td>\n",
       "      <td>-0.007995</td>\n",
       "      <td>-0.018773</td>\n",
       "      <td>0.036334</td>\n",
       "      <td>0.038443</td>\n",
       "      <td>0.021569</td>\n",
       "      <td>0.026961</td>\n",
       "      <td>0.042277</td>\n",
       "    </tr>\n",
       "    <tr>\n",
       "      <td>diag_2</td>\n",
       "      <td>0.018716</td>\n",
       "      <td>-0.063140</td>\n",
       "      <td>-0.015231</td>\n",
       "      <td>0.027266</td>\n",
       "      <td>0.098641</td>\n",
       "      <td>0.010167</td>\n",
       "      <td>0.020609</td>\n",
       "      <td>0.184087</td>\n",
       "      <td>1.000000</td>\n",
       "      <td>0.103751</td>\n",
       "      <td>0.062885</td>\n",
       "      <td>-0.006985</td>\n",
       "      <td>-0.017446</td>\n",
       "      <td>0.031767</td>\n",
       "      <td>0.022901</td>\n",
       "      <td>0.021138</td>\n",
       "      <td>0.027870</td>\n",
       "    </tr>\n",
       "    <tr>\n",
       "      <td>diag_3</td>\n",
       "      <td>0.002540</td>\n",
       "      <td>-0.066898</td>\n",
       "      <td>-0.009084</td>\n",
       "      <td>0.035499</td>\n",
       "      <td>0.077534</td>\n",
       "      <td>0.011708</td>\n",
       "      <td>0.010830</td>\n",
       "      <td>0.098861</td>\n",
       "      <td>0.103751</td>\n",
       "      <td>1.000000</td>\n",
       "      <td>0.056093</td>\n",
       "      <td>0.003808</td>\n",
       "      <td>-0.016107</td>\n",
       "      <td>0.024907</td>\n",
       "      <td>0.007799</td>\n",
       "      <td>0.013210</td>\n",
       "      <td>0.008800</td>\n",
       "    </tr>\n",
       "    <tr>\n",
       "      <td>number_diagnoses</td>\n",
       "      <td>0.046701</td>\n",
       "      <td>0.215566</td>\n",
       "      <td>0.007814</td>\n",
       "      <td>0.119650</td>\n",
       "      <td>0.233878</td>\n",
       "      <td>0.154042</td>\n",
       "      <td>0.259272</td>\n",
       "      <td>-0.007995</td>\n",
       "      <td>0.062885</td>\n",
       "      <td>0.056093</td>\n",
       "      <td>1.000000</td>\n",
       "      <td>0.065063</td>\n",
       "      <td>0.020146</td>\n",
       "      <td>0.048525</td>\n",
       "      <td>0.020543</td>\n",
       "      <td>0.104841</td>\n",
       "      <td>0.018887</td>\n",
       "    </tr>\n",
       "    <tr>\n",
       "      <td>max_glu_serum</td>\n",
       "      <td>-0.049746</td>\n",
       "      <td>-0.033658</td>\n",
       "      <td>-0.348152</td>\n",
       "      <td>-0.069731</td>\n",
       "      <td>-0.023582</td>\n",
       "      <td>0.114716</td>\n",
       "      <td>0.017935</td>\n",
       "      <td>-0.018773</td>\n",
       "      <td>-0.006985</td>\n",
       "      <td>0.003808</td>\n",
       "      <td>0.065063</td>\n",
       "      <td>1.000000</td>\n",
       "      <td>-0.050307</td>\n",
       "      <td>-0.002008</td>\n",
       "      <td>0.006339</td>\n",
       "      <td>-0.043726</td>\n",
       "      <td>0.021166</td>\n",
       "    </tr>\n",
       "    <tr>\n",
       "      <td>A1Cresult</td>\n",
       "      <td>0.003991</td>\n",
       "      <td>0.110535</td>\n",
       "      <td>-0.067298</td>\n",
       "      <td>0.030118</td>\n",
       "      <td>-0.068015</td>\n",
       "      <td>-0.261240</td>\n",
       "      <td>-0.016205</td>\n",
       "      <td>0.036334</td>\n",
       "      <td>-0.017446</td>\n",
       "      <td>-0.016107</td>\n",
       "      <td>0.020146</td>\n",
       "      <td>-0.050307</td>\n",
       "      <td>1.000000</td>\n",
       "      <td>-0.111527</td>\n",
       "      <td>-0.089981</td>\n",
       "      <td>0.037659</td>\n",
       "      <td>-0.102815</td>\n",
       "    </tr>\n",
       "    <tr>\n",
       "      <td>change</td>\n",
       "      <td>0.001851</td>\n",
       "      <td>-0.033955</td>\n",
       "      <td>-0.014567</td>\n",
       "      <td>0.001059</td>\n",
       "      <td>0.111715</td>\n",
       "      <td>0.076909</td>\n",
       "      <td>0.245931</td>\n",
       "      <td>0.038443</td>\n",
       "      <td>0.031767</td>\n",
       "      <td>0.024907</td>\n",
       "      <td>0.048525</td>\n",
       "      <td>-0.002008</td>\n",
       "      <td>-0.111527</td>\n",
       "      <td>1.000000</td>\n",
       "      <td>0.506169</td>\n",
       "      <td>0.031248</td>\n",
       "      <td>0.731377</td>\n",
       "    </tr>\n",
       "    <tr>\n",
       "      <td>diabetesMed</td>\n",
       "      <td>-0.004460</td>\n",
       "      <td>-0.016755</td>\n",
       "      <td>-0.000997</td>\n",
       "      <td>-0.015897</td>\n",
       "      <td>0.068656</td>\n",
       "      <td>0.045301</td>\n",
       "      <td>0.186699</td>\n",
       "      <td>0.021569</td>\n",
       "      <td>0.022901</td>\n",
       "      <td>0.007799</td>\n",
       "      <td>0.020543</td>\n",
       "      <td>0.006339</td>\n",
       "      <td>-0.089981</td>\n",
       "      <td>0.506169</td>\n",
       "      <td>1.000000</td>\n",
       "      <td>0.040928</td>\n",
       "      <td>0.706430</td>\n",
       "    </tr>\n",
       "    <tr>\n",
       "      <td>total_patient_interaction</td>\n",
       "      <td>0.026382</td>\n",
       "      <td>0.009742</td>\n",
       "      <td>0.065543</td>\n",
       "      <td>0.000942</td>\n",
       "      <td>0.011825</td>\n",
       "      <td>0.033245</td>\n",
       "      <td>0.037875</td>\n",
       "      <td>0.026961</td>\n",
       "      <td>0.021138</td>\n",
       "      <td>0.013210</td>\n",
       "      <td>0.104841</td>\n",
       "      <td>-0.043726</td>\n",
       "      <td>0.037659</td>\n",
       "      <td>0.031248</td>\n",
       "      <td>0.040928</td>\n",
       "      <td>1.000000</td>\n",
       "      <td>0.013709</td>\n",
       "    </tr>\n",
       "    <tr>\n",
       "      <td>numchange</td>\n",
       "      <td>0.010159</td>\n",
       "      <td>-0.003644</td>\n",
       "      <td>-0.029550</td>\n",
       "      <td>-0.020068</td>\n",
       "      <td>0.086817</td>\n",
       "      <td>0.043449</td>\n",
       "      <td>0.236973</td>\n",
       "      <td>0.042277</td>\n",
       "      <td>0.027870</td>\n",
       "      <td>0.008800</td>\n",
       "      <td>0.018887</td>\n",
       "      <td>0.021166</td>\n",
       "      <td>-0.102815</td>\n",
       "      <td>0.731377</td>\n",
       "      <td>0.706430</td>\n",
       "      <td>0.013709</td>\n",
       "      <td>1.000000</td>\n",
       "    </tr>\n",
       "  </tbody>\n",
       "</table>\n",
       "</div>"
      ],
      "text/plain": [
       "                               race       age  admission_type_id  \\\n",
       "race                       1.000000  0.093309           0.017875   \n",
       "age                        0.093309  1.000000           0.033418   \n",
       "admission_type_id          0.017875  0.033418           1.000000   \n",
       "discharge_disposition_id   0.022552  0.236304           0.064542   \n",
       "time_in_hospital          -0.018067  0.115707           0.016438   \n",
       "num_lab_procedures        -0.018403  0.024451           0.153881   \n",
       "num_medications            0.016891  0.036397          -0.118059   \n",
       "diag_1                     0.024901 -0.032995          -0.046465   \n",
       "diag_2                     0.018716 -0.063140          -0.015231   \n",
       "diag_3                     0.002540 -0.066898          -0.009084   \n",
       "number_diagnoses           0.046701  0.215566           0.007814   \n",
       "max_glu_serum             -0.049746 -0.033658          -0.348152   \n",
       "A1Cresult                  0.003991  0.110535          -0.067298   \n",
       "change                     0.001851 -0.033955          -0.014567   \n",
       "diabetesMed               -0.004460 -0.016755          -0.000997   \n",
       "total_patient_interaction  0.026382  0.009742           0.065543   \n",
       "numchange                  0.010159 -0.003644          -0.029550   \n",
       "\n",
       "                           discharge_disposition_id  time_in_hospital  \\\n",
       "race                                       0.022552         -0.018067   \n",
       "age                                        0.236304          0.115707   \n",
       "admission_type_id                          0.064542          0.016438   \n",
       "discharge_disposition_id                   1.000000          0.223072   \n",
       "time_in_hospital                           0.223072          1.000000   \n",
       "num_lab_procedures                         0.057766          0.332178   \n",
       "num_medications                            0.101620          0.468059   \n",
       "diag_1                                     0.049760          0.098288   \n",
       "diag_2                                     0.027266          0.098641   \n",
       "diag_3                                     0.035499          0.077534   \n",
       "number_diagnoses                           0.119650          0.233878   \n",
       "max_glu_serum                             -0.069731         -0.023582   \n",
       "A1Cresult                                  0.030118         -0.068015   \n",
       "change                                     0.001059          0.111715   \n",
       "diabetesMed                               -0.015897          0.068656   \n",
       "total_patient_interaction                  0.000942          0.011825   \n",
       "numchange                                 -0.020068          0.086817   \n",
       "\n",
       "                           num_lab_procedures  num_medications    diag_1  \\\n",
       "race                                -0.018403         0.016891  0.024901   \n",
       "age                                  0.024451         0.036397 -0.032995   \n",
       "admission_type_id                    0.153881        -0.118059 -0.046465   \n",
       "discharge_disposition_id             0.057766         0.101620  0.049760   \n",
       "time_in_hospital                     0.332178         0.468059  0.098288   \n",
       "num_lab_procedures                   1.000000         0.259051 -0.059800   \n",
       "num_medications                      0.259051         1.000000  0.015029   \n",
       "diag_1                              -0.059800         0.015029  1.000000   \n",
       "diag_2                               0.010167         0.020609  0.184087   \n",
       "diag_3                               0.011708         0.010830  0.098861   \n",
       "number_diagnoses                     0.154042         0.259272 -0.007995   \n",
       "max_glu_serum                        0.114716         0.017935 -0.018773   \n",
       "A1Cresult                           -0.261240        -0.016205  0.036334   \n",
       "change                               0.076909         0.245931  0.038443   \n",
       "diabetesMed                          0.045301         0.186699  0.021569   \n",
       "total_patient_interaction            0.033245         0.037875  0.026961   \n",
       "numchange                            0.043449         0.236973  0.042277   \n",
       "\n",
       "                             diag_2    diag_3  number_diagnoses  \\\n",
       "race                       0.018716  0.002540          0.046701   \n",
       "age                       -0.063140 -0.066898          0.215566   \n",
       "admission_type_id         -0.015231 -0.009084          0.007814   \n",
       "discharge_disposition_id   0.027266  0.035499          0.119650   \n",
       "time_in_hospital           0.098641  0.077534          0.233878   \n",
       "num_lab_procedures         0.010167  0.011708          0.154042   \n",
       "num_medications            0.020609  0.010830          0.259272   \n",
       "diag_1                     0.184087  0.098861         -0.007995   \n",
       "diag_2                     1.000000  0.103751          0.062885   \n",
       "diag_3                     0.103751  1.000000          0.056093   \n",
       "number_diagnoses           0.062885  0.056093          1.000000   \n",
       "max_glu_serum             -0.006985  0.003808          0.065063   \n",
       "A1Cresult                 -0.017446 -0.016107          0.020146   \n",
       "change                     0.031767  0.024907          0.048525   \n",
       "diabetesMed                0.022901  0.007799          0.020543   \n",
       "total_patient_interaction  0.021138  0.013210          0.104841   \n",
       "numchange                  0.027870  0.008800          0.018887   \n",
       "\n",
       "                           max_glu_serum  A1Cresult    change  diabetesMed  \\\n",
       "race                           -0.049746   0.003991  0.001851    -0.004460   \n",
       "age                            -0.033658   0.110535 -0.033955    -0.016755   \n",
       "admission_type_id              -0.348152  -0.067298 -0.014567    -0.000997   \n",
       "discharge_disposition_id       -0.069731   0.030118  0.001059    -0.015897   \n",
       "time_in_hospital               -0.023582  -0.068015  0.111715     0.068656   \n",
       "num_lab_procedures              0.114716  -0.261240  0.076909     0.045301   \n",
       "num_medications                 0.017935  -0.016205  0.245931     0.186699   \n",
       "diag_1                         -0.018773   0.036334  0.038443     0.021569   \n",
       "diag_2                         -0.006985  -0.017446  0.031767     0.022901   \n",
       "diag_3                          0.003808  -0.016107  0.024907     0.007799   \n",
       "number_diagnoses                0.065063   0.020146  0.048525     0.020543   \n",
       "max_glu_serum                   1.000000  -0.050307 -0.002008     0.006339   \n",
       "A1Cresult                      -0.050307   1.000000 -0.111527    -0.089981   \n",
       "change                         -0.002008  -0.111527  1.000000     0.506169   \n",
       "diabetesMed                     0.006339  -0.089981  0.506169     1.000000   \n",
       "total_patient_interaction      -0.043726   0.037659  0.031248     0.040928   \n",
       "numchange                       0.021166  -0.102815  0.731377     0.706430   \n",
       "\n",
       "                           total_patient_interaction  numchange  \n",
       "race                                        0.026382   0.010159  \n",
       "age                                         0.009742  -0.003644  \n",
       "admission_type_id                           0.065543  -0.029550  \n",
       "discharge_disposition_id                    0.000942  -0.020068  \n",
       "time_in_hospital                            0.011825   0.086817  \n",
       "num_lab_procedures                          0.033245   0.043449  \n",
       "num_medications                             0.037875   0.236973  \n",
       "diag_1                                      0.026961   0.042277  \n",
       "diag_2                                      0.021138   0.027870  \n",
       "diag_3                                      0.013210   0.008800  \n",
       "number_diagnoses                            0.104841   0.018887  \n",
       "max_glu_serum                              -0.043726   0.021166  \n",
       "A1Cresult                                   0.037659  -0.102815  \n",
       "change                                      0.031248   0.731377  \n",
       "diabetesMed                                 0.040928   0.706430  \n",
       "total_patient_interaction                   1.000000   0.013709  \n",
       "numchange                                   0.013709   1.000000  "
      ]
     },
     "execution_count": 9,
     "metadata": {},
     "output_type": "execute_result"
    }
   ],
   "source": [
    "pd.options.display.max_rows = 120\n",
    "X.corr()"
   ]
  },
  {
   "cell_type": "code",
   "execution_count": 10,
   "metadata": {},
   "outputs": [
    {
     "data": {
      "application/javascript": [
       "\n",
       "        if (window._pyforest_update_imports_cell) { window._pyforest_update_imports_cell('import numpy as np\\nimport matplotlib.pyplot as plt\\nimport pandas as pd'); }\n",
       "    "
      ],
      "text/plain": [
       "<IPython.core.display.Javascript object>"
      ]
     },
     "metadata": {},
     "output_type": "display_data"
    },
    {
     "data": {
      "application/javascript": [
       "\n",
       "        if (window._pyforest_update_imports_cell) { window._pyforest_update_imports_cell('import numpy as np\\nimport matplotlib.pyplot as plt\\nimport pandas as pd'); }\n",
       "    "
      ],
      "text/plain": [
       "<IPython.core.display.Javascript object>"
      ]
     },
     "metadata": {},
     "output_type": "display_data"
    },
    {
     "data": {
      "image/png": "[encoded data removed]",
      "text/plain": [
       "<Figure size 864x864 with 2 Axes>"
      ]
     },
     "metadata": {
      "needs_background": "light"
     },
     "output_type": "display_data"
    }
   ],
   "source": [
    "plt.figure(figsize=(12,12))\n",
    "sns.heatmap(X.corr(),annot=True)\n",
    "plt.show()"
   ]
  },
  {
   "cell_type": "code",
   "execution_count": 11,
   "metadata": {
    "scrolled": true
   },
   "outputs": [
    {
     "data": {
      "application/javascript": [
       "\n",
       "        if (window._pyforest_update_imports_cell) { window._pyforest_update_imports_cell('import numpy as np\\nimport matplotlib.pyplot as plt\\nimport pandas as pd'); }\n",
       "    "
      ],
      "text/plain": [
       "<IPython.core.display.Javascript object>"
      ]
     },
     "metadata": {},
     "output_type": "display_data"
    },
    {
     "data": {
      "text/plain": [
       "array([[ 2.1000e-01,  3.0000e-02,  0.0000e+00,  2.0000e-02, -2.0000e-02,\n",
       "        -1.7000e-01,  6.0000e-02,  6.0000e-02,  4.0000e-02,  1.0000e-02,\n",
       "         4.0000e-02, -1.0000e-02,  0.0000e+00,  0.0000e+00, -0.0000e+00,\n",
       "         2.0000e-02,  0.0000e+00],\n",
       "       [ 3.0000e-02,  3.6000e-01,  1.0000e-02,  2.3000e-01,  2.0000e-01,\n",
       "         2.9000e-01,  1.8000e-01, -1.0000e-01, -1.9000e-01, -2.0000e-01,\n",
       "         2.6000e-01, -1.0000e-02,  5.0000e-02, -1.0000e-02, -0.0000e+00,\n",
       "         1.0000e-02, -0.0000e+00],\n",
       "       [ 0.0000e+00,  1.0000e-02,  3.0000e-01,  6.0000e-02,  3.0000e-02,\n",
       "         1.6800e+00, -5.4000e-01, -1.3000e-01, -4.0000e-02, -2.0000e-02,\n",
       "         1.0000e-02, -6.0000e-02, -3.0000e-02, -0.0000e+00, -0.0000e+00,\n",
       "         5.0000e-02, -2.0000e-02],\n",
       "       [ 2.0000e-02,  2.3000e-01,  6.0000e-02,  2.6900e+00,  1.0700e+00,\n",
       "         1.8800e+00,  1.3800e+00,  4.1000e-01,  2.3000e-01,  2.8000e-01,\n",
       "         3.9000e-01, -4.0000e-02,  3.0000e-02,  0.0000e+00, -1.0000e-02,\n",
       "         0.0000e+00, -3.0000e-02],\n",
       "       [-2.0000e-02,  2.0000e-01,  3.0000e-02,  1.0700e+00,  8.6100e+00,\n",
       "         1.9390e+01,  1.1380e+01,  1.4600e+00,  1.4700e+00,  1.1100e+00,\n",
       "         1.3700e+00, -2.0000e-02, -1.4000e-01,  1.6000e-01,  9.0000e-02,\n",
       "         5.0000e-02,  2.4000e-01],\n",
       "       [-1.7000e-01,  2.9000e-01,  1.6800e+00,  1.8800e+00,  1.9390e+01,\n",
       "         3.9576e+02,  4.2710e+01, -6.0400e+00,  1.0300e+00,  1.1400e+00,\n",
       "         6.1300e+00,  7.7000e-01, -3.5800e+00,  7.6000e-01,  3.8000e-01,\n",
       "         9.4000e-01,  8.1000e-01],\n",
       "       [ 6.0000e-02,  1.8000e-01, -5.4000e-01,  1.3800e+00,  1.1380e+01,\n",
       "         4.2710e+01,  6.8690e+01,  6.3000e-01,  8.7000e-01,  4.4000e-01,\n",
       "         4.3000e+00,  5.0000e-02, -9.0000e-02,  1.0100e+00,  6.6000e-01,\n",
       "         4.5000e-01,  1.8500e+00],\n",
       "       [ 6.0000e-02, -1.0000e-01, -1.3000e-01,  4.1000e-01,  1.4600e+00,\n",
       "        -6.0400e+00,  6.3000e-01,  2.5780e+01,  4.7400e+00,  2.4600e+00,\n",
       "        -8.0000e-02, -3.0000e-02,  1.3000e-01,  1.0000e-01,  5.0000e-02,\n",
       "         2.0000e-01,  2.0000e-01],\n",
       "       [ 4.0000e-02, -1.9000e-01, -4.0000e-02,  2.3000e-01,  1.4700e+00,\n",
       "         1.0300e+00,  8.7000e-01,  4.7400e+00,  2.5760e+01,  2.5800e+00,\n",
       "         6.4000e-01, -1.0000e-02, -6.0000e-02,  8.0000e-02,  5.0000e-02,\n",
       "         1.5000e-01,  1.3000e-01],\n",
       "       [ 1.0000e-02, -2.0000e-01, -2.0000e-02,  2.8000e-01,  1.1100e+00,\n",
       "         1.1400e+00,  4.4000e-01,  2.4600e+00,  2.5800e+00,  2.3960e+01,\n",
       "         5.5000e-01,  1.0000e-02, -5.0000e-02,  6.0000e-02,  2.0000e-02,\n",
       "         9.0000e-02,  4.0000e-02],\n",
       "       [ 4.0000e-02,  2.6000e-01,  1.0000e-02,  3.9000e-01,  1.3700e+00,\n",
       "         6.1300e+00,  4.3000e+00, -8.0000e-02,  6.4000e-01,  5.5000e-01,\n",
       "         4.0000e+00,  4.0000e-02,  3.0000e-02,  5.0000e-02,  2.0000e-02,\n",
       "         3.0000e-01,  4.0000e-02],\n",
       "       [-1.0000e-02, -1.0000e-02, -6.0000e-02, -4.0000e-02, -2.0000e-02,\n",
       "         7.7000e-01,  5.0000e-02, -3.0000e-02, -1.0000e-02,  1.0000e-02,\n",
       "         4.0000e-02,  1.1000e-01, -1.0000e-02, -0.0000e+00,  0.0000e+00,\n",
       "        -2.0000e-02,  1.0000e-02],\n",
       "       [ 0.0000e+00,  5.0000e-02, -3.0000e-02,  3.0000e-02, -1.4000e-01,\n",
       "        -3.5800e+00, -9.0000e-02,  1.3000e-01, -6.0000e-02, -5.0000e-02,\n",
       "         3.0000e-02, -1.0000e-02,  4.8000e-01, -4.0000e-02, -3.0000e-02,\n",
       "         4.0000e-02, -7.0000e-02],\n",
       "       [ 0.0000e+00, -1.0000e-02, -0.0000e+00,  0.0000e+00,  1.6000e-01,\n",
       "         7.6000e-01,  1.0100e+00,  1.0000e-01,  8.0000e-02,  6.0000e-02,\n",
       "         5.0000e-02, -0.0000e+00, -4.0000e-02,  2.5000e-01,  1.1000e-01,\n",
       "         2.0000e-02,  3.4000e-01],\n",
       "       [-0.0000e+00, -0.0000e+00, -0.0000e+00, -1.0000e-02,  9.0000e-02,\n",
       "         3.8000e-01,  6.6000e-01,  5.0000e-02,  5.0000e-02,  2.0000e-02,\n",
       "         2.0000e-02,  0.0000e+00, -3.0000e-02,  1.1000e-01,  1.8000e-01,\n",
       "         2.0000e-02,  2.8000e-01],\n",
       "       [ 2.0000e-02,  1.0000e-02,  5.0000e-02,  0.0000e+00,  5.0000e-02,\n",
       "         9.4000e-01,  4.5000e-01,  2.0000e-01,  1.5000e-01,  9.0000e-02,\n",
       "         3.0000e-01, -2.0000e-02,  4.0000e-02,  2.0000e-02,  2.0000e-02,\n",
       "         2.0400e+00,  2.0000e-02],\n",
       "       [ 0.0000e+00, -0.0000e+00, -2.0000e-02, -3.0000e-02,  2.4000e-01,\n",
       "         8.1000e-01,  1.8500e+00,  2.0000e-01,  1.3000e-01,  4.0000e-02,\n",
       "         4.0000e-02,  1.0000e-02, -7.0000e-02,  3.4000e-01,  2.8000e-01,\n",
       "         2.0000e-02,  8.9000e-01]])"
      ]
     },
     "execution_count": 11,
     "metadata": {},
     "output_type": "execute_result"
    }
   ],
   "source": [
    "#covariance matrix\n",
    "cov_mat = np.array(round(X.cov(),2))\n",
    "cov_mat"
   ]
  },
  {
   "cell_type": "code",
   "execution_count": 12,
   "metadata": {},
   "outputs": [
    {
     "data": {
      "application/javascript": [
       "\n",
       "        if (window._pyforest_update_imports_cell) { window._pyforest_update_imports_cell('import numpy as np\\nimport matplotlib.pyplot as plt\\nimport pandas as pd'); }\n",
       "    "
      ],
      "text/plain": [
       "<IPython.core.display.Javascript object>"
      ]
     },
     "metadata": {},
     "output_type": "display_data"
    },
    {
     "data": {
      "text/html": [
       "<div>\n",
       "<style scoped>\n",
       "    .dataframe tbody tr th:only-of-type {\n",
       "        vertical-align: middle;\n",
       "    }\n",
       "\n",
       "    .dataframe tbody tr th {\n",
       "        vertical-align: top;\n",
       "    }\n",
       "\n",
       "    .dataframe thead th {\n",
       "        text-align: right;\n",
       "    }\n",
       "</style>\n",
       "<table border=\"1\" class=\"dataframe\">\n",
       "  <thead>\n",
       "    <tr style=\"text-align: right;\">\n",
       "      <th></th>\n",
       "      <th>0</th>\n",
       "      <th>1</th>\n",
       "      <th>2</th>\n",
       "      <th>3</th>\n",
       "      <th>4</th>\n",
       "      <th>5</th>\n",
       "      <th>6</th>\n",
       "      <th>7</th>\n",
       "      <th>8</th>\n",
       "      <th>9</th>\n",
       "      <th>10</th>\n",
       "      <th>11</th>\n",
       "      <th>12</th>\n",
       "      <th>13</th>\n",
       "      <th>14</th>\n",
       "      <th>15</th>\n",
       "      <th>16</th>\n",
       "    </tr>\n",
       "  </thead>\n",
       "  <tbody>\n",
       "    <tr>\n",
       "      <td>0</td>\n",
       "      <td>0.21</td>\n",
       "      <td>0.03</td>\n",
       "      <td>0.00</td>\n",
       "      <td>0.02</td>\n",
       "      <td>-0.02</td>\n",
       "      <td>-0.17</td>\n",
       "      <td>0.06</td>\n",
       "      <td>0.06</td>\n",
       "      <td>0.04</td>\n",
       "      <td>0.01</td>\n",
       "      <td>0.04</td>\n",
       "      <td>-0.01</td>\n",
       "      <td>0.00</td>\n",
       "      <td>0.00</td>\n",
       "      <td>-0.00</td>\n",
       "      <td>0.02</td>\n",
       "      <td>0.00</td>\n",
       "    </tr>\n",
       "    <tr>\n",
       "      <td>1</td>\n",
       "      <td>0.03</td>\n",
       "      <td>0.36</td>\n",
       "      <td>0.01</td>\n",
       "      <td>0.23</td>\n",
       "      <td>0.20</td>\n",
       "      <td>0.29</td>\n",
       "      <td>0.18</td>\n",
       "      <td>-0.10</td>\n",
       "      <td>-0.19</td>\n",
       "      <td>-0.20</td>\n",
       "      <td>0.26</td>\n",
       "      <td>-0.01</td>\n",
       "      <td>0.05</td>\n",
       "      <td>-0.01</td>\n",
       "      <td>-0.00</td>\n",
       "      <td>0.01</td>\n",
       "      <td>-0.00</td>\n",
       "    </tr>\n",
       "    <tr>\n",
       "      <td>2</td>\n",
       "      <td>0.00</td>\n",
       "      <td>0.01</td>\n",
       "      <td>0.30</td>\n",
       "      <td>0.06</td>\n",
       "      <td>0.03</td>\n",
       "      <td>1.68</td>\n",
       "      <td>-0.54</td>\n",
       "      <td>-0.13</td>\n",
       "      <td>-0.04</td>\n",
       "      <td>-0.02</td>\n",
       "      <td>0.01</td>\n",
       "      <td>-0.06</td>\n",
       "      <td>-0.03</td>\n",
       "      <td>-0.00</td>\n",
       "      <td>-0.00</td>\n",
       "      <td>0.05</td>\n",
       "      <td>-0.02</td>\n",
       "    </tr>\n",
       "    <tr>\n",
       "      <td>3</td>\n",
       "      <td>0.02</td>\n",
       "      <td>0.23</td>\n",
       "      <td>0.06</td>\n",
       "      <td>2.69</td>\n",
       "      <td>1.07</td>\n",
       "      <td>1.88</td>\n",
       "      <td>1.38</td>\n",
       "      <td>0.41</td>\n",
       "      <td>0.23</td>\n",
       "      <td>0.28</td>\n",
       "      <td>0.39</td>\n",
       "      <td>-0.04</td>\n",
       "      <td>0.03</td>\n",
       "      <td>0.00</td>\n",
       "      <td>-0.01</td>\n",
       "      <td>0.00</td>\n",
       "      <td>-0.03</td>\n",
       "    </tr>\n",
       "    <tr>\n",
       "      <td>4</td>\n",
       "      <td>-0.02</td>\n",
       "      <td>0.20</td>\n",
       "      <td>0.03</td>\n",
       "      <td>1.07</td>\n",
       "      <td>8.61</td>\n",
       "      <td>19.39</td>\n",
       "      <td>11.38</td>\n",
       "      <td>1.46</td>\n",
       "      <td>1.47</td>\n",
       "      <td>1.11</td>\n",
       "      <td>1.37</td>\n",
       "      <td>-0.02</td>\n",
       "      <td>-0.14</td>\n",
       "      <td>0.16</td>\n",
       "      <td>0.09</td>\n",
       "      <td>0.05</td>\n",
       "      <td>0.24</td>\n",
       "    </tr>\n",
       "    <tr>\n",
       "      <td>5</td>\n",
       "      <td>-0.17</td>\n",
       "      <td>0.29</td>\n",
       "      <td>1.68</td>\n",
       "      <td>1.88</td>\n",
       "      <td>19.39</td>\n",
       "      <td>395.76</td>\n",
       "      <td>42.71</td>\n",
       "      <td>-6.04</td>\n",
       "      <td>1.03</td>\n",
       "      <td>1.14</td>\n",
       "      <td>6.13</td>\n",
       "      <td>0.77</td>\n",
       "      <td>-3.58</td>\n",
       "      <td>0.76</td>\n",
       "      <td>0.38</td>\n",
       "      <td>0.94</td>\n",
       "      <td>0.81</td>\n",
       "    </tr>\n",
       "    <tr>\n",
       "      <td>6</td>\n",
       "      <td>0.06</td>\n",
       "      <td>0.18</td>\n",
       "      <td>-0.54</td>\n",
       "      <td>1.38</td>\n",
       "      <td>11.38</td>\n",
       "      <td>42.71</td>\n",
       "      <td>68.69</td>\n",
       "      <td>0.63</td>\n",
       "      <td>0.87</td>\n",
       "      <td>0.44</td>\n",
       "      <td>4.30</td>\n",
       "      <td>0.05</td>\n",
       "      <td>-0.09</td>\n",
       "      <td>1.01</td>\n",
       "      <td>0.66</td>\n",
       "      <td>0.45</td>\n",
       "      <td>1.85</td>\n",
       "    </tr>\n",
       "    <tr>\n",
       "      <td>7</td>\n",
       "      <td>0.06</td>\n",
       "      <td>-0.10</td>\n",
       "      <td>-0.13</td>\n",
       "      <td>0.41</td>\n",
       "      <td>1.46</td>\n",
       "      <td>-6.04</td>\n",
       "      <td>0.63</td>\n",
       "      <td>25.78</td>\n",
       "      <td>4.74</td>\n",
       "      <td>2.46</td>\n",
       "      <td>-0.08</td>\n",
       "      <td>-0.03</td>\n",
       "      <td>0.13</td>\n",
       "      <td>0.10</td>\n",
       "      <td>0.05</td>\n",
       "      <td>0.20</td>\n",
       "      <td>0.20</td>\n",
       "    </tr>\n",
       "    <tr>\n",
       "      <td>8</td>\n",
       "      <td>0.04</td>\n",
       "      <td>-0.19</td>\n",
       "      <td>-0.04</td>\n",
       "      <td>0.23</td>\n",
       "      <td>1.47</td>\n",
       "      <td>1.03</td>\n",
       "      <td>0.87</td>\n",
       "      <td>4.74</td>\n",
       "      <td>25.76</td>\n",
       "      <td>2.58</td>\n",
       "      <td>0.64</td>\n",
       "      <td>-0.01</td>\n",
       "      <td>-0.06</td>\n",
       "      <td>0.08</td>\n",
       "      <td>0.05</td>\n",
       "      <td>0.15</td>\n",
       "      <td>0.13</td>\n",
       "    </tr>\n",
       "    <tr>\n",
       "      <td>9</td>\n",
       "      <td>0.01</td>\n",
       "      <td>-0.20</td>\n",
       "      <td>-0.02</td>\n",
       "      <td>0.28</td>\n",
       "      <td>1.11</td>\n",
       "      <td>1.14</td>\n",
       "      <td>0.44</td>\n",
       "      <td>2.46</td>\n",
       "      <td>2.58</td>\n",
       "      <td>23.96</td>\n",
       "      <td>0.55</td>\n",
       "      <td>0.01</td>\n",
       "      <td>-0.05</td>\n",
       "      <td>0.06</td>\n",
       "      <td>0.02</td>\n",
       "      <td>0.09</td>\n",
       "      <td>0.04</td>\n",
       "    </tr>\n",
       "    <tr>\n",
       "      <td>10</td>\n",
       "      <td>0.04</td>\n",
       "      <td>0.26</td>\n",
       "      <td>0.01</td>\n",
       "      <td>0.39</td>\n",
       "      <td>1.37</td>\n",
       "      <td>6.13</td>\n",
       "      <td>4.30</td>\n",
       "      <td>-0.08</td>\n",
       "      <td>0.64</td>\n",
       "      <td>0.55</td>\n",
       "      <td>4.00</td>\n",
       "      <td>0.04</td>\n",
       "      <td>0.03</td>\n",
       "      <td>0.05</td>\n",
       "      <td>0.02</td>\n",
       "      <td>0.30</td>\n",
       "      <td>0.04</td>\n",
       "    </tr>\n",
       "    <tr>\n",
       "      <td>11</td>\n",
       "      <td>-0.01</td>\n",
       "      <td>-0.01</td>\n",
       "      <td>-0.06</td>\n",
       "      <td>-0.04</td>\n",
       "      <td>-0.02</td>\n",
       "      <td>0.77</td>\n",
       "      <td>0.05</td>\n",
       "      <td>-0.03</td>\n",
       "      <td>-0.01</td>\n",
       "      <td>0.01</td>\n",
       "      <td>0.04</td>\n",
       "      <td>0.11</td>\n",
       "      <td>-0.01</td>\n",
       "      <td>-0.00</td>\n",
       "      <td>0.00</td>\n",
       "      <td>-0.02</td>\n",
       "      <td>0.01</td>\n",
       "    </tr>\n",
       "    <tr>\n",
       "      <td>12</td>\n",
       "      <td>0.00</td>\n",
       "      <td>0.05</td>\n",
       "      <td>-0.03</td>\n",
       "      <td>0.03</td>\n",
       "      <td>-0.14</td>\n",
       "      <td>-3.58</td>\n",
       "      <td>-0.09</td>\n",
       "      <td>0.13</td>\n",
       "      <td>-0.06</td>\n",
       "      <td>-0.05</td>\n",
       "      <td>0.03</td>\n",
       "      <td>-0.01</td>\n",
       "      <td>0.48</td>\n",
       "      <td>-0.04</td>\n",
       "      <td>-0.03</td>\n",
       "      <td>0.04</td>\n",
       "      <td>-0.07</td>\n",
       "    </tr>\n",
       "    <tr>\n",
       "      <td>13</td>\n",
       "      <td>0.00</td>\n",
       "      <td>-0.01</td>\n",
       "      <td>-0.00</td>\n",
       "      <td>0.00</td>\n",
       "      <td>0.16</td>\n",
       "      <td>0.76</td>\n",
       "      <td>1.01</td>\n",
       "      <td>0.10</td>\n",
       "      <td>0.08</td>\n",
       "      <td>0.06</td>\n",
       "      <td>0.05</td>\n",
       "      <td>-0.00</td>\n",
       "      <td>-0.04</td>\n",
       "      <td>0.25</td>\n",
       "      <td>0.11</td>\n",
       "      <td>0.02</td>\n",
       "      <td>0.34</td>\n",
       "    </tr>\n",
       "    <tr>\n",
       "      <td>14</td>\n",
       "      <td>-0.00</td>\n",
       "      <td>-0.00</td>\n",
       "      <td>-0.00</td>\n",
       "      <td>-0.01</td>\n",
       "      <td>0.09</td>\n",
       "      <td>0.38</td>\n",
       "      <td>0.66</td>\n",
       "      <td>0.05</td>\n",
       "      <td>0.05</td>\n",
       "      <td>0.02</td>\n",
       "      <td>0.02</td>\n",
       "      <td>0.00</td>\n",
       "      <td>-0.03</td>\n",
       "      <td>0.11</td>\n",
       "      <td>0.18</td>\n",
       "      <td>0.02</td>\n",
       "      <td>0.28</td>\n",
       "    </tr>\n",
       "    <tr>\n",
       "      <td>15</td>\n",
       "      <td>0.02</td>\n",
       "      <td>0.01</td>\n",
       "      <td>0.05</td>\n",
       "      <td>0.00</td>\n",
       "      <td>0.05</td>\n",
       "      <td>0.94</td>\n",
       "      <td>0.45</td>\n",
       "      <td>0.20</td>\n",
       "      <td>0.15</td>\n",
       "      <td>0.09</td>\n",
       "      <td>0.30</td>\n",
       "      <td>-0.02</td>\n",
       "      <td>0.04</td>\n",
       "      <td>0.02</td>\n",
       "      <td>0.02</td>\n",
       "      <td>2.04</td>\n",
       "      <td>0.02</td>\n",
       "    </tr>\n",
       "    <tr>\n",
       "      <td>16</td>\n",
       "      <td>0.00</td>\n",
       "      <td>-0.00</td>\n",
       "      <td>-0.02</td>\n",
       "      <td>-0.03</td>\n",
       "      <td>0.24</td>\n",
       "      <td>0.81</td>\n",
       "      <td>1.85</td>\n",
       "      <td>0.20</td>\n",
       "      <td>0.13</td>\n",
       "      <td>0.04</td>\n",
       "      <td>0.04</td>\n",
       "      <td>0.01</td>\n",
       "      <td>-0.07</td>\n",
       "      <td>0.34</td>\n",
       "      <td>0.28</td>\n",
       "      <td>0.02</td>\n",
       "      <td>0.89</td>\n",
       "    </tr>\n",
       "  </tbody>\n",
       "</table>\n",
       "</div>"
      ],
      "text/plain": [
       "       0     1     2     3      4       5      6      7      8      9    10  \\\n",
       "0   0.21  0.03  0.00  0.02  -0.02   -0.17   0.06   0.06   0.04   0.01  0.04   \n",
       "1   0.03  0.36  0.01  0.23   0.20    0.29   0.18  -0.10  -0.19  -0.20  0.26   \n",
       "2   0.00  0.01  0.30  0.06   0.03    1.68  -0.54  -0.13  -0.04  -0.02  0.01   \n",
       "3   0.02  0.23  0.06  2.69   1.07    1.88   1.38   0.41   0.23   0.28  0.39   \n",
       "4  -0.02  0.20  0.03  1.07   8.61   19.39  11.38   1.46   1.47   1.11  1.37   \n",
       "5  -0.17  0.29  1.68  1.88  19.39  395.76  42.71  -6.04   1.03   1.14  6.13   \n",
       "6   0.06  0.18 -0.54  1.38  11.38   42.71  68.69   0.63   0.87   0.44  4.30   \n",
       "7   0.06 -0.10 -0.13  0.41   1.46   -6.04   0.63  25.78   4.74   2.46 -0.08   \n",
       "8   0.04 -0.19 -0.04  0.23   1.47    1.03   0.87   4.74  25.76   2.58  0.64   \n",
       "9   0.01 -0.20 -0.02  0.28   1.11    1.14   0.44   2.46   2.58  23.96  0.55   \n",
       "10  0.04  0.26  0.01  0.39   1.37    6.13   4.30  -0.08   0.64   0.55  4.00   \n",
       "11 -0.01 -0.01 -0.06 -0.04  -0.02    0.77   0.05  -0.03  -0.01   0.01  0.04   \n",
       "12  0.00  0.05 -0.03  0.03  -0.14   -3.58  -0.09   0.13  -0.06  -0.05  0.03   \n",
       "13  0.00 -0.01 -0.00  0.00   0.16    0.76   1.01   0.10   0.08   0.06  0.05   \n",
       "14 -0.00 -0.00 -0.00 -0.01   0.09    0.38   0.66   0.05   0.05   0.02  0.02   \n",
       "15  0.02  0.01  0.05  0.00   0.05    0.94   0.45   0.20   0.15   0.09  0.30   \n",
       "16  0.00 -0.00 -0.02 -0.03   0.24    0.81   1.85   0.20   0.13   0.04  0.04   \n",
       "\n",
       "      11    12    13    14    15    16  \n",
       "0  -0.01  0.00  0.00 -0.00  0.02  0.00  \n",
       "1  -0.01  0.05 -0.01 -0.00  0.01 -0.00  \n",
       "2  -0.06 -0.03 -0.00 -0.00  0.05 -0.02  \n",
       "3  -0.04  0.03  0.00 -0.01  0.00 -0.03  \n",
       "4  -0.02 -0.14  0.16  0.09  0.05  0.24  \n",
       "5   0.77 -3.58  0.76  0.38  0.94  0.81  \n",
       "6   0.05 -0.09  1.01  0.66  0.45  1.85  \n",
       "7  -0.03  0.13  0.10  0.05  0.20  0.20  \n",
       "8  -0.01 -0.06  0.08  0.05  0.15  0.13  \n",
       "9   0.01 -0.05  0.06  0.02  0.09  0.04  \n",
       "10  0.04  0.03  0.05  0.02  0.30  0.04  \n",
       "11  0.11 -0.01 -0.00  0.00 -0.02  0.01  \n",
       "12 -0.01  0.48 -0.04 -0.03  0.04 -0.07  \n",
       "13 -0.00 -0.04  0.25  0.11  0.02  0.34  \n",
       "14  0.00 -0.03  0.11  0.18  0.02  0.28  \n",
       "15 -0.02  0.04  0.02  0.02  2.04  0.02  \n",
       "16  0.01 -0.07  0.34  0.28  0.02  0.89  "
      ]
     },
     "execution_count": 12,
     "metadata": {},
     "output_type": "execute_result"
    }
   ],
   "source": [
    "round(pd.DataFrame(cov_mat),4)"
   ]
  },
  {
   "cell_type": "code",
   "execution_count": 13,
   "metadata": {},
   "outputs": [
    {
     "data": {
      "text/plain": [
       "numpy.ndarray"
      ]
     },
     "execution_count": 13,
     "metadata": {},
     "output_type": "execute_result"
    }
   ],
   "source": [
    "X_std = StandardScaler().fit_transform(X)\n",
    "type(X_std)"
   ]
  },
  {
   "cell_type": "code",
   "execution_count": 14,
   "metadata": {},
   "outputs": [
    {
     "data": {
      "text/plain": [
       "array([[ 0.29824025, -2.28077782,  1.97100306, ..., -1.78732557,\n",
       "        -0.39206304, -1.26262032],\n",
       "       [ 0.29824025, -2.28077782,  0.15325232, ...,  0.55949516,\n",
       "        -0.39206304, -0.20174633],\n",
       "       [-1.9006609 , -2.28077782,  0.15325232, ...,  0.55949516,\n",
       "         1.70895245, -0.20174633],\n",
       "       ...,\n",
       "       [ 2.49714139, -0.61984857,  0.15325232, ...,  0.55949516,\n",
       "         1.70895245, -0.20174633],\n",
       "       [ 0.29824025,  1.04108068,  0.15325232, ...,  0.55949516,\n",
       "         0.30827546, -0.20174633],\n",
       "       [ 0.29824025,  1.04108068,  0.15325232, ..., -1.78732557,\n",
       "        -0.39206304, -1.26262032]])"
      ]
     },
     "execution_count": 14,
     "metadata": {},
     "output_type": "execute_result"
    }
   ],
   "source": [
    "X_std"
   ]
  },
  {
   "cell_type": "code",
   "execution_count": 15,
   "metadata": {},
   "outputs": [
    {
     "data": {
      "application/javascript": [
       "\n",
       "        if (window._pyforest_update_imports_cell) { window._pyforest_update_imports_cell('import numpy as np\\nimport matplotlib.pyplot as plt\\nimport pandas as pd'); }\n",
       "    "
      ],
      "text/plain": [
       "<IPython.core.display.Javascript object>"
      ]
     },
     "metadata": {},
     "output_type": "display_data"
    }
   ],
   "source": [
    "X_std = pd.DataFrame(X_std)"
   ]
  },
  {
   "cell_type": "code",
   "execution_count": 16,
   "metadata": {},
   "outputs": [
    {
     "data": {
      "application/javascript": [
       "\n",
       "        if (window._pyforest_update_imports_cell) { window._pyforest_update_imports_cell('import numpy as np\\nimport matplotlib.pyplot as plt\\nimport pandas as pd'); }\n",
       "    "
      ],
      "text/plain": [
       "<IPython.core.display.Javascript object>"
      ]
     },
     "metadata": {},
     "output_type": "display_data"
    },
    {
     "data": {
      "text/html": [
       "<div>\n",
       "<style scoped>\n",
       "    .dataframe tbody tr th:only-of-type {\n",
       "        vertical-align: middle;\n",
       "    }\n",
       "\n",
       "    .dataframe tbody tr th {\n",
       "        vertical-align: top;\n",
       "    }\n",
       "\n",
       "    .dataframe thead th {\n",
       "        text-align: right;\n",
       "    }\n",
       "</style>\n",
       "<table border=\"1\" class=\"dataframe\">\n",
       "  <thead>\n",
       "    <tr style=\"text-align: right;\">\n",
       "      <th></th>\n",
       "      <th>0</th>\n",
       "      <th>1</th>\n",
       "      <th>2</th>\n",
       "      <th>3</th>\n",
       "      <th>4</th>\n",
       "      <th>5</th>\n",
       "      <th>6</th>\n",
       "      <th>7</th>\n",
       "      <th>8</th>\n",
       "      <th>9</th>\n",
       "      <th>10</th>\n",
       "      <th>11</th>\n",
       "      <th>12</th>\n",
       "      <th>13</th>\n",
       "      <th>14</th>\n",
       "      <th>15</th>\n",
       "      <th>16</th>\n",
       "    </tr>\n",
       "  </thead>\n",
       "  <tbody>\n",
       "    <tr>\n",
       "      <td>0</td>\n",
       "      <td>0.298240</td>\n",
       "      <td>-2.280778</td>\n",
       "      <td>1.971003</td>\n",
       "      <td>1.264049</td>\n",
       "      <td>-1.115614</td>\n",
       "      <td>-0.094256</td>\n",
       "      <td>-1.769670</td>\n",
       "      <td>-0.440091</td>\n",
       "      <td>-0.325930</td>\n",
       "      <td>-0.298060</td>\n",
       "      <td>-3.110376</td>\n",
       "      <td>0.211889</td>\n",
       "      <td>0.454864</td>\n",
       "      <td>-0.904689</td>\n",
       "      <td>-1.787326</td>\n",
       "      <td>-0.392063</td>\n",
       "      <td>-1.262620</td>\n",
       "    </tr>\n",
       "    <tr>\n",
       "      <td>1</td>\n",
       "      <td>0.298240</td>\n",
       "      <td>-2.280778</td>\n",
       "      <td>0.153252</td>\n",
       "      <td>-0.566362</td>\n",
       "      <td>-0.433982</td>\n",
       "      <td>0.810564</td>\n",
       "      <td>0.281572</td>\n",
       "      <td>-0.440091</td>\n",
       "      <td>-0.325930</td>\n",
       "      <td>-0.298060</td>\n",
       "      <td>0.887262</td>\n",
       "      <td>0.211889</td>\n",
       "      <td>0.454864</td>\n",
       "      <td>1.105352</td>\n",
       "      <td>0.559495</td>\n",
       "      <td>-0.392063</td>\n",
       "      <td>-0.201746</td>\n",
       "    </tr>\n",
       "    <tr>\n",
       "      <td>2</td>\n",
       "      <td>-1.900661</td>\n",
       "      <td>-2.280778</td>\n",
       "      <td>0.153252</td>\n",
       "      <td>-0.566362</td>\n",
       "      <td>-0.774798</td>\n",
       "      <td>-1.602290</td>\n",
       "      <td>-0.321734</td>\n",
       "      <td>1.529471</td>\n",
       "      <td>-0.325930</td>\n",
       "      <td>2.357765</td>\n",
       "      <td>-0.611852</td>\n",
       "      <td>0.211889</td>\n",
       "      <td>0.454864</td>\n",
       "      <td>-0.904689</td>\n",
       "      <td>0.559495</td>\n",
       "      <td>1.708952</td>\n",
       "      <td>-0.201746</td>\n",
       "    </tr>\n",
       "    <tr>\n",
       "      <td>3</td>\n",
       "      <td>0.298240</td>\n",
       "      <td>-2.280778</td>\n",
       "      <td>0.153252</td>\n",
       "      <td>-0.566362</td>\n",
       "      <td>-0.774798</td>\n",
       "      <td>0.056547</td>\n",
       "      <td>0.040250</td>\n",
       "      <td>0.347734</td>\n",
       "      <td>-0.325930</td>\n",
       "      <td>-0.910943</td>\n",
       "      <td>-0.112148</td>\n",
       "      <td>0.211889</td>\n",
       "      <td>0.454864</td>\n",
       "      <td>1.105352</td>\n",
       "      <td>0.559495</td>\n",
       "      <td>-0.392063</td>\n",
       "      <td>-0.201746</td>\n",
       "    </tr>\n",
       "    <tr>\n",
       "      <td>4</td>\n",
       "      <td>0.298240</td>\n",
       "      <td>-0.619849</td>\n",
       "      <td>0.153252</td>\n",
       "      <td>-0.566362</td>\n",
       "      <td>-1.115614</td>\n",
       "      <td>0.408421</td>\n",
       "      <td>-0.925041</td>\n",
       "      <td>1.135559</td>\n",
       "      <td>1.250414</td>\n",
       "      <td>-0.298060</td>\n",
       "      <td>-1.111557</td>\n",
       "      <td>0.211889</td>\n",
       "      <td>0.454864</td>\n",
       "      <td>1.105352</td>\n",
       "      <td>0.559495</td>\n",
       "      <td>-0.392063</td>\n",
       "      <td>0.859128</td>\n",
       "    </tr>\n",
       "    <tr>\n",
       "      <td>...</td>\n",
       "      <td>...</td>\n",
       "      <td>...</td>\n",
       "      <td>...</td>\n",
       "      <td>...</td>\n",
       "      <td>...</td>\n",
       "      <td>...</td>\n",
       "      <td>...</td>\n",
       "      <td>...</td>\n",
       "      <td>...</td>\n",
       "      <td>...</td>\n",
       "      <td>...</td>\n",
       "      <td>...</td>\n",
       "      <td>...</td>\n",
       "      <td>...</td>\n",
       "      <td>...</td>\n",
       "      <td>...</td>\n",
       "      <td>...</td>\n",
       "    </tr>\n",
       "    <tr>\n",
       "      <td>69964</td>\n",
       "      <td>0.298240</td>\n",
       "      <td>1.041081</td>\n",
       "      <td>0.153252</td>\n",
       "      <td>-0.566362</td>\n",
       "      <td>1.610912</td>\n",
       "      <td>0.358154</td>\n",
       "      <td>2.091493</td>\n",
       "      <td>-0.637047</td>\n",
       "      <td>-0.522972</td>\n",
       "      <td>-0.298060</td>\n",
       "      <td>0.887262</td>\n",
       "      <td>0.211889</td>\n",
       "      <td>-2.445692</td>\n",
       "      <td>1.105352</td>\n",
       "      <td>0.559495</td>\n",
       "      <td>-0.392063</td>\n",
       "      <td>0.859128</td>\n",
       "    </tr>\n",
       "    <tr>\n",
       "      <td>69965</td>\n",
       "      <td>2.497141</td>\n",
       "      <td>-0.619849</td>\n",
       "      <td>0.153252</td>\n",
       "      <td>-0.566362</td>\n",
       "      <td>3.314990</td>\n",
       "      <td>1.514312</td>\n",
       "      <td>1.246863</td>\n",
       "      <td>-0.046179</td>\n",
       "      <td>0.068156</td>\n",
       "      <td>1.949177</td>\n",
       "      <td>0.887262</td>\n",
       "      <td>0.211889</td>\n",
       "      <td>-2.445692</td>\n",
       "      <td>1.105352</td>\n",
       "      <td>0.559495</td>\n",
       "      <td>0.308275</td>\n",
       "      <td>0.859128</td>\n",
       "    </tr>\n",
       "    <tr>\n",
       "      <td>69966</td>\n",
       "      <td>2.497141</td>\n",
       "      <td>-0.619849</td>\n",
       "      <td>0.153252</td>\n",
       "      <td>-0.566362</td>\n",
       "      <td>-0.774798</td>\n",
       "      <td>0.157082</td>\n",
       "      <td>0.160911</td>\n",
       "      <td>0.544690</td>\n",
       "      <td>0.068156</td>\n",
       "      <td>-0.910943</td>\n",
       "      <td>0.887262</td>\n",
       "      <td>0.211889</td>\n",
       "      <td>0.454864</td>\n",
       "      <td>-0.904689</td>\n",
       "      <td>0.559495</td>\n",
       "      <td>1.708952</td>\n",
       "      <td>-0.201746</td>\n",
       "    </tr>\n",
       "    <tr>\n",
       "      <td>69967</td>\n",
       "      <td>0.298240</td>\n",
       "      <td>1.041081</td>\n",
       "      <td>0.153252</td>\n",
       "      <td>-0.566362</td>\n",
       "      <td>0.247649</td>\n",
       "      <td>1.665116</td>\n",
       "      <td>0.764218</td>\n",
       "      <td>0.741646</td>\n",
       "      <td>0.462242</td>\n",
       "      <td>0.927705</td>\n",
       "      <td>0.887262</td>\n",
       "      <td>0.211889</td>\n",
       "      <td>0.454864</td>\n",
       "      <td>1.105352</td>\n",
       "      <td>0.559495</td>\n",
       "      <td>0.308275</td>\n",
       "      <td>-0.201746</td>\n",
       "    </tr>\n",
       "    <tr>\n",
       "      <td>69968</td>\n",
       "      <td>0.298240</td>\n",
       "      <td>1.041081</td>\n",
       "      <td>0.153252</td>\n",
       "      <td>-0.566362</td>\n",
       "      <td>0.588465</td>\n",
       "      <td>-1.501754</td>\n",
       "      <td>-1.528348</td>\n",
       "      <td>-0.637047</td>\n",
       "      <td>-0.522972</td>\n",
       "      <td>0.314823</td>\n",
       "      <td>0.887262</td>\n",
       "      <td>0.211889</td>\n",
       "      <td>0.454864</td>\n",
       "      <td>-0.904689</td>\n",
       "      <td>-1.787326</td>\n",
       "      <td>-0.392063</td>\n",
       "      <td>-1.262620</td>\n",
       "    </tr>\n",
       "  </tbody>\n",
       "</table>\n",
       "<p>69969 rows × 17 columns</p>\n",
       "</div>"
      ],
      "text/plain": [
       "              0         1         2         3         4         5         6  \\\n",
       "0      0.298240 -2.280778  1.971003  1.264049 -1.115614 -0.094256 -1.769670   \n",
       "1      0.298240 -2.280778  0.153252 -0.566362 -0.433982  0.810564  0.281572   \n",
       "2     -1.900661 -2.280778  0.153252 -0.566362 -0.774798 -1.602290 -0.321734   \n",
       "3      0.298240 -2.280778  0.153252 -0.566362 -0.774798  0.056547  0.040250   \n",
       "4      0.298240 -0.619849  0.153252 -0.566362 -1.115614  0.408421 -0.925041   \n",
       "...         ...       ...       ...       ...       ...       ...       ...   \n",
       "69964  0.298240  1.041081  0.153252 -0.566362  1.610912  0.358154  2.091493   \n",
       "69965  2.497141 -0.619849  0.153252 -0.566362  3.314990  1.514312  1.246863   \n",
       "69966  2.497141 -0.619849  0.153252 -0.566362 -0.774798  0.157082  0.160911   \n",
       "69967  0.298240  1.041081  0.153252 -0.566362  0.247649  1.665116  0.764218   \n",
       "69968  0.298240  1.041081  0.153252 -0.566362  0.588465 -1.501754 -1.528348   \n",
       "\n",
       "              7         8         9        10        11        12        13  \\\n",
       "0     -0.440091 -0.325930 -0.298060 -3.110376  0.211889  0.454864 -0.904689   \n",
       "1     -0.440091 -0.325930 -0.298060  0.887262  0.211889  0.454864  1.105352   \n",
       "2      1.529471 -0.325930  2.357765 -0.611852  0.211889  0.454864 -0.904689   \n",
       "3      0.347734 -0.325930 -0.910943 -0.112148  0.211889  0.454864  1.105352   \n",
       "4      1.135559  1.250414 -0.298060 -1.111557  0.211889  0.454864  1.105352   \n",
       "...         ...       ...       ...       ...       ...       ...       ...   \n",
       "69964 -0.637047 -0.522972 -0.298060  0.887262  0.211889 -2.445692  1.105352   \n",
       "69965 -0.046179  0.068156  1.949177  0.887262  0.211889 -2.445692  1.105352   \n",
       "69966  0.544690  0.068156 -0.910943  0.887262  0.211889  0.454864 -0.904689   \n",
       "69967  0.741646  0.462242  0.927705  0.887262  0.211889  0.454864  1.105352   \n",
       "69968 -0.637047 -0.522972  0.314823  0.887262  0.211889  0.454864 -0.904689   \n",
       "\n",
       "             14        15        16  \n",
       "0     -1.787326 -0.392063 -1.262620  \n",
       "1      0.559495 -0.392063 -0.201746  \n",
       "2      0.559495  1.708952 -0.201746  \n",
       "3      0.559495 -0.392063 -0.201746  \n",
       "4      0.559495 -0.392063  0.859128  \n",
       "...         ...       ...       ...  \n",
       "69964  0.559495 -0.392063  0.859128  \n",
       "69965  0.559495  0.308275  0.859128  \n",
       "69966  0.559495  1.708952 -0.201746  \n",
       "69967  0.559495  0.308275 -0.201746  \n",
       "69968 -1.787326 -0.392063 -1.262620  \n",
       "\n",
       "[69969 rows x 17 columns]"
      ]
     },
     "execution_count": 16,
     "metadata": {},
     "output_type": "execute_result"
    }
   ],
   "source": [
    "pd.options.display.max_columns = None\n",
    "X_std"
   ]
  },
  {
   "cell_type": "code",
   "execution_count": 17,
   "metadata": {},
   "outputs": [
    {
     "data": {
      "application/javascript": [
       "\n",
       "        if (window._pyforest_update_imports_cell) { window._pyforest_update_imports_cell('import numpy as np\\nimport matplotlib.pyplot as plt\\nimport pandas as pd'); }\n",
       "    "
      ],
      "text/plain": [
       "<IPython.core.display.Javascript object>"
      ]
     },
     "metadata": {},
     "output_type": "display_data"
    },
    {
     "data": {
      "text/plain": [
       "array([[ 1. ,  0.1,  0. ,  0. , -0. , -0. ,  0. ,  0. ,  0. ,  0. ,  0. ,\n",
       "        -0. ,  0. ,  0. , -0. ,  0. ,  0. ],\n",
       "       [ 0.1,  1. ,  0. ,  0.2,  0.1,  0. ,  0. , -0. , -0.1, -0.1,  0.2,\n",
       "        -0. ,  0.1, -0. , -0. ,  0. , -0. ],\n",
       "       [ 0. ,  0. ,  1. ,  0.1,  0. ,  0.2, -0.1, -0. , -0. , -0. ,  0. ,\n",
       "        -0.3, -0.1, -0. , -0. ,  0.1, -0. ],\n",
       "       [ 0. ,  0.2,  0.1,  1. ,  0.2,  0.1,  0.1,  0. ,  0. ,  0. ,  0.1,\n",
       "        -0.1,  0. ,  0. , -0. ,  0. , -0. ],\n",
       "       [-0. ,  0.1,  0. ,  0.2,  1. ,  0.3,  0.5,  0.1,  0.1,  0.1,  0.2,\n",
       "        -0. , -0.1,  0.1,  0.1,  0. ,  0.1],\n",
       "       [-0. ,  0. ,  0.2,  0.1,  0.3,  1. ,  0.3, -0.1,  0. ,  0. ,  0.2,\n",
       "         0.1, -0.3,  0.1,  0. ,  0. ,  0. ],\n",
       "       [ 0. ,  0. , -0.1,  0.1,  0.5,  0.3,  1. ,  0. ,  0. ,  0. ,  0.3,\n",
       "         0. , -0. ,  0.2,  0.2,  0. ,  0.2],\n",
       "       [ 0. , -0. , -0. ,  0. ,  0.1, -0.1,  0. ,  1. ,  0.2,  0.1, -0. ,\n",
       "        -0. ,  0. ,  0. ,  0. ,  0. ,  0. ],\n",
       "       [ 0. , -0.1, -0. ,  0. ,  0.1,  0. ,  0. ,  0.2,  1. ,  0.1,  0.1,\n",
       "        -0. , -0. ,  0. ,  0. ,  0. ,  0. ],\n",
       "       [ 0. , -0.1, -0. ,  0. ,  0.1,  0. ,  0. ,  0.1,  0.1,  1. ,  0.1,\n",
       "         0. , -0. ,  0. ,  0. ,  0. ,  0. ],\n",
       "       [ 0. ,  0.2,  0. ,  0.1,  0.2,  0.2,  0.3, -0. ,  0.1,  0.1,  1. ,\n",
       "         0.1,  0. ,  0. ,  0. ,  0.1,  0. ],\n",
       "       [-0. , -0. , -0.3, -0.1, -0. ,  0.1,  0. , -0. , -0. ,  0. ,  0.1,\n",
       "         1. , -0.1, -0. ,  0. , -0. ,  0. ],\n",
       "       [ 0. ,  0.1, -0.1,  0. , -0.1, -0.3, -0. ,  0. , -0. , -0. ,  0. ,\n",
       "        -0.1,  1. , -0.1, -0.1,  0. , -0.1],\n",
       "       [ 0. , -0. , -0. ,  0. ,  0.1,  0.1,  0.2,  0. ,  0. ,  0. ,  0. ,\n",
       "        -0. , -0.1,  1. ,  0.5,  0. ,  0.7],\n",
       "       [-0. , -0. , -0. , -0. ,  0.1,  0. ,  0.2,  0. ,  0. ,  0. ,  0. ,\n",
       "         0. , -0.1,  0.5,  1. ,  0. ,  0.7],\n",
       "       [ 0. ,  0. ,  0.1,  0. ,  0. ,  0. ,  0. ,  0. ,  0. ,  0. ,  0.1,\n",
       "        -0. ,  0. ,  0. ,  0. ,  1. ,  0. ],\n",
       "       [ 0. , -0. , -0. , -0. ,  0.1,  0. ,  0.2,  0. ,  0. ,  0. ,  0. ,\n",
       "         0. , -0.1,  0.7,  0.7,  0. ,  1. ]])"
      ]
     },
     "execution_count": 17,
     "metadata": {},
     "output_type": "execute_result"
    }
   ],
   "source": [
    "#covariance matrix\n",
    "cov_mat = np.cov(X_std,rowvar=False)\n",
    "cov_mat.round(1)"
   ]
  },
  {
   "cell_type": "code",
   "execution_count": 18,
   "metadata": {},
   "outputs": [],
   "source": [
    "pca = PCA()"
   ]
  },
  {
   "cell_type": "code",
   "execution_count": 19,
   "metadata": {},
   "outputs": [
    {
     "data": {
      "text/plain": [
       "PCA(copy=True, iterated_power='auto', n_components=None, random_state=None,\n",
       "    svd_solver='auto', tol=0.0, whiten=False)"
      ]
     },
     "execution_count": 19,
     "metadata": {},
     "output_type": "execute_result"
    }
   ],
   "source": [
    "pca.fit(X_std)"
   ]
  },
  {
   "cell_type": "code",
   "execution_count": 20,
   "metadata": {},
   "outputs": [
    {
     "data": {
      "text/plain": [
       "array([[-3.48, -1.22,  1.03, ..., -0.94,  0.28,  0.18],\n",
       "       [ 0.72, -0.8 , -0.59, ...,  0.25, -0.43, -0.8 ],\n",
       "       [-0.99, -1.73, -0.63, ...,  0.36,  0.67,  0.11],\n",
       "       ...,\n",
       "       [-0.29,  0.08,  0.42, ...,  0.92,  0.22,  0.08],\n",
       "       [ 1.58,  1.11, -0.19, ...,  0.32,  0.15, -0.9 ],\n",
       "       [-2.56,  0.89,  0.11, ..., -1.44, -0.96,  0.1 ]])"
      ]
     },
     "execution_count": 20,
     "metadata": {},
     "output_type": "execute_result"
    }
   ],
   "source": [
    "pc_score = pca.transform(X_std)\n",
    "pc_score.round(2)"
   ]
  },
  {
   "cell_type": "code",
   "execution_count": 21,
   "metadata": {},
   "outputs": [
    {
     "data": {
      "text/plain": [
       "array([2.59, 1.85, 1.42, 1.34, 1.29, 1.04, 1.01, 0.93, 0.91, 0.84, 0.77,\n",
       "       0.7 , 0.66, 0.5 , 0.48, 0.45, 0.2 ])"
      ]
     },
     "execution_count": 21,
     "metadata": {},
     "output_type": "execute_result"
    }
   ],
   "source": [
    "#captured variance by each principal components\n",
    "pca.explained_variance_.round(2)"
   ]
  },
  {
   "cell_type": "code",
   "execution_count": 22,
   "metadata": {},
   "outputs": [
    {
     "data": {
      "application/javascript": [
       "\n",
       "        if (window._pyforest_update_imports_cell) { window._pyforest_update_imports_cell('import numpy as np\\nimport matplotlib.pyplot as plt\\nimport pandas as pd'); }\n",
       "    "
      ],
      "text/plain": [
       "<IPython.core.display.Javascript object>"
      ]
     },
     "metadata": {},
     "output_type": "display_data"
    },
    {
     "data": {
      "text/plain": [
       "array([[ 2.6,  0. ,  0. ,  0. , -0. , -0. ,  0. , -0. ,  0. ,  0. ,  0. ,\n",
       "         0. , -0. , -0. ,  0. ,  0. ,  0. ],\n",
       "       [ 0. ,  1.9, -0. ,  0. ,  0. , -0. ,  0. , -0. ,  0. ,  0. ,  0. ,\n",
       "         0. , -0. , -0. ,  0. , -0. ,  0. ],\n",
       "       [ 0. , -0. ,  1.4,  0. ,  0. , -0. ,  0. , -0. ,  0. ,  0. ,  0. ,\n",
       "         0. , -0. , -0. ,  0. , -0. ,  0. ],\n",
       "       [ 0. ,  0. ,  0. ,  1.3, -0. ,  0. , -0. ,  0. , -0. , -0. , -0. ,\n",
       "        -0. ,  0. ,  0. , -0. ,  0. , -0. ],\n",
       "       [-0. ,  0. ,  0. , -0. ,  1.3,  0. , -0. , -0. ,  0. , -0. , -0. ,\n",
       "        -0. ,  0. , -0. , -0. ,  0. , -0. ],\n",
       "       [-0. , -0. , -0. ,  0. ,  0. ,  1. ,  0. , -0. ,  0. , -0. , -0. ,\n",
       "         0. ,  0. ,  0. , -0. ,  0. , -0. ],\n",
       "       [ 0. ,  0. ,  0. , -0. , -0. ,  0. ,  1. ,  0. , -0. ,  0. ,  0. ,\n",
       "        -0. ,  0. ,  0. , -0. , -0. , -0. ],\n",
       "       [-0. , -0. , -0. ,  0. , -0. , -0. ,  0. ,  0.9,  0. , -0. , -0. ,\n",
       "         0. ,  0. , -0. , -0. ,  0. , -0. ],\n",
       "       [ 0. ,  0. ,  0. , -0. ,  0. ,  0. , -0. ,  0. ,  0.9,  0. ,  0. ,\n",
       "        -0. , -0. ,  0. ,  0. , -0. ,  0. ],\n",
       "       [ 0. ,  0. ,  0. , -0. , -0. , -0. ,  0. , -0. ,  0. ,  0.8,  0. ,\n",
       "         0. , -0. , -0. ,  0. ,  0. ,  0. ],\n",
       "       [ 0. ,  0. ,  0. , -0. , -0. , -0. ,  0. , -0. ,  0. ,  0. ,  0.8,\n",
       "         0. ,  0. , -0. ,  0. ,  0. ,  0. ],\n",
       "       [ 0. ,  0. ,  0. , -0. , -0. ,  0. , -0. ,  0. , -0. ,  0. ,  0. ,\n",
       "         0.7,  0. ,  0. , -0. ,  0. , -0. ],\n",
       "       [-0. , -0. , -0. ,  0. ,  0. ,  0. ,  0. ,  0. , -0. , -0. ,  0. ,\n",
       "         0. ,  0.7,  0. , -0. , -0. ,  0. ],\n",
       "       [-0. , -0. , -0. ,  0. , -0. ,  0. ,  0. , -0. ,  0. , -0. , -0. ,\n",
       "         0. ,  0. ,  0.5,  0. ,  0. , -0. ],\n",
       "       [ 0. ,  0. ,  0. , -0. , -0. , -0. , -0. , -0. ,  0. ,  0. ,  0. ,\n",
       "        -0. , -0. ,  0. ,  0.5, -0. ,  0. ],\n",
       "       [ 0. , -0. , -0. ,  0. ,  0. ,  0. , -0. ,  0. , -0. ,  0. ,  0. ,\n",
       "         0. , -0. ,  0. , -0. ,  0.5,  0. ],\n",
       "       [ 0. ,  0. ,  0. , -0. , -0. , -0. , -0. , -0. ,  0. ,  0. ,  0. ,\n",
       "        -0. ,  0. , -0. ,  0. ,  0. ,  0.2]])"
      ]
     },
     "execution_count": 22,
     "metadata": {},
     "output_type": "execute_result"
    }
   ],
   "source": [
    "cov_mat = np.cov(pc_score,rowvar=False)\n",
    "cov_mat.round(1)"
   ]
  },
  {
   "cell_type": "code",
   "execution_count": 23,
   "metadata": {},
   "outputs": [
    {
     "data": {
      "application/javascript": [
       "\n",
       "        if (window._pyforest_update_imports_cell) { window._pyforest_update_imports_cell('import numpy as np\\nimport matplotlib.pyplot as plt\\nimport pandas as pd'); }\n",
       "    "
      ],
      "text/plain": [
       "<IPython.core.display.Javascript object>"
      ]
     },
     "metadata": {},
     "output_type": "display_data"
    },
    {
     "data": {
      "text/plain": [
       "array([15.2, 10.9,  8.3,  7.9,  7.6,  6.1,  5.9,  5.5,  5.3,  5. ,  4.5,\n",
       "        4.1,  3.9,  2.9,  2.8,  2.7,  1.2])"
      ]
     },
     "execution_count": 23,
     "metadata": {},
     "output_type": "execute_result"
    }
   ],
   "source": [
    "#percentage of variance\n",
    "exp_var = pca.explained_variance_ratio_\n",
    "exp_var = np.round(exp_var*100, decimals=1)\n",
    "exp_var"
   ]
  },
  {
   "cell_type": "code",
   "execution_count": 24,
   "metadata": {},
   "outputs": [
    {
     "data": {
      "application/javascript": [
       "\n",
       "        if (window._pyforest_update_imports_cell) { window._pyforest_update_imports_cell('import numpy as np\\nimport matplotlib.pyplot as plt\\nimport pandas as pd'); }\n",
       "    "
      ],
      "text/plain": [
       "<IPython.core.display.Javascript object>"
      ]
     },
     "metadata": {},
     "output_type": "display_data"
    },
    {
     "data": {
      "text/plain": [
       "array([15.2, 26.1, 34.4, 42.3, 49.9, 56. , 61.9, 67.4, 72.7, 77.7, 82.2,\n",
       "       86.3, 90.2, 93.1, 95.9, 98.6, 99.8])"
      ]
     },
     "execution_count": 24,
     "metadata": {},
     "output_type": "execute_result"
    }
   ],
   "source": [
    "np.cumsum(exp_var)"
   ]
  },
  {
   "cell_type": "code",
   "execution_count": 25,
   "metadata": {},
   "outputs": [
    {
     "data": {
      "application/javascript": [
       "\n",
       "        if (window._pyforest_update_imports_cell) { window._pyforest_update_imports_cell('import numpy as np\\nimport matplotlib.pyplot as plt\\nimport pandas as pd'); }\n",
       "    "
      ],
      "text/plain": [
       "<IPython.core.display.Javascript object>"
      ]
     },
     "metadata": {},
     "output_type": "display_data"
    }
   ],
   "source": [
    "a = np.cumsum(exp_var)"
   ]
  },
  {
   "cell_type": "code",
   "execution_count": 28,
   "metadata": {},
   "outputs": [
    {
     "data": {
      "application/javascript": [
       "\n",
       "        if (window._pyforest_update_imports_cell) { window._pyforest_update_imports_cell('import numpy as np\\nimport matplotlib.pyplot as plt\\nimport pandas as pd'); }\n",
       "    "
      ],
      "text/plain": [
       "<IPython.core.display.Javascript object>"
      ]
     },
     "metadata": {},
     "output_type": "display_data"
    },
    {
     "data": {
      "text/plain": [
       "90.2"
      ]
     },
     "execution_count": 28,
     "metadata": {},
     "output_type": "execute_result"
    }
   ],
   "source": [
    "a = list(np.cumsum(exp_var))\n",
    "a[12]"
   ]
  },
  {
   "cell_type": "code",
   "execution_count": 29,
   "metadata": {},
   "outputs": [],
   "source": [
    "labels = ['PC' + str(x) for x in range(1,len(exp_var)+1)]"
   ]
  },
  {
   "cell_type": "code",
   "execution_count": 30,
   "metadata": {},
   "outputs": [
    {
     "data": {
      "text/plain": [
       "['PC1',\n",
       " 'PC2',\n",
       " 'PC3',\n",
       " 'PC4',\n",
       " 'PC5',\n",
       " 'PC6',\n",
       " 'PC7',\n",
       " 'PC8',\n",
       " 'PC9',\n",
       " 'PC10',\n",
       " 'PC11',\n",
       " 'PC12',\n",
       " 'PC13',\n",
       " 'PC14',\n",
       " 'PC15',\n",
       " 'PC16',\n",
       " 'PC17']"
      ]
     },
     "execution_count": 30,
     "metadata": {},
     "output_type": "execute_result"
    }
   ],
   "source": [
    "labels"
   ]
  },
  {
   "cell_type": "code",
   "execution_count": 31,
   "metadata": {},
   "outputs": [
    {
     "data": {
      "application/javascript": [
       "\n",
       "        if (window._pyforest_update_imports_cell) { window._pyforest_update_imports_cell('import numpy as np\\nimport matplotlib.pyplot as plt\\nimport pandas as pd'); }\n",
       "    "
      ],
      "text/plain": [
       "<IPython.core.display.Javascript object>"
      ]
     },
     "metadata": {},
     "output_type": "display_data"
    }
   ],
   "source": [
    "pcdf = pd.DataFrame(pc_score, columns = labels)\n",
    "#pc score are the values which we get after multiplying loading with X_std"
   ]
  },
  {
   "cell_type": "code",
   "execution_count": 32,
   "metadata": {},
   "outputs": [
    {
     "data": {
      "application/javascript": [
       "\n",
       "        if (window._pyforest_update_imports_cell) { window._pyforest_update_imports_cell('import numpy as np\\nimport matplotlib.pyplot as plt\\nimport pandas as pd'); }\n",
       "    "
      ],
      "text/plain": [
       "<IPython.core.display.Javascript object>"
      ]
     },
     "metadata": {},
     "output_type": "display_data"
    },
    {
     "data": {
      "application/javascript": [
       "\n",
       "        if (window._pyforest_update_imports_cell) { window._pyforest_update_imports_cell('import numpy as np\\nimport matplotlib.pyplot as plt\\nimport pandas as pd'); }\n",
       "    "
      ],
      "text/plain": [
       "<IPython.core.display.Javascript object>"
      ]
     },
     "metadata": {},
     "output_type": "display_data"
    },
    {
     "data": {
      "application/javascript": [
       "\n",
       "        if (window._pyforest_update_imports_cell) { window._pyforest_update_imports_cell('import numpy as np\\nimport matplotlib.pyplot as plt\\nimport pandas as pd'); }\n",
       "    "
      ],
      "text/plain": [
       "<IPython.core.display.Javascript object>"
      ]
     },
     "metadata": {},
     "output_type": "display_data"
    },
    {
     "data": {
      "application/javascript": [
       "\n",
       "        if (window._pyforest_update_imports_cell) { window._pyforest_update_imports_cell('import numpy as np\\nimport matplotlib.pyplot as plt\\nimport pandas as pd'); }\n",
       "    "
      ],
      "text/plain": [
       "<IPython.core.display.Javascript object>"
      ]
     },
     "metadata": {},
     "output_type": "display_data"
    },
    {
     "data": {
      "application/javascript": [
       "\n",
       "        if (window._pyforest_update_imports_cell) { window._pyforest_update_imports_cell('import numpy as np\\nimport matplotlib.pyplot as plt\\nimport pandas as pd'); }\n",
       "    "
      ],
      "text/plain": [
       "<IPython.core.display.Javascript object>"
      ]
     },
     "metadata": {},
     "output_type": "display_data"
    },
    {
     "data": {
      "application/javascript": [
       "\n",
       "        if (window._pyforest_update_imports_cell) { window._pyforest_update_imports_cell('import numpy as np\\nimport matplotlib.pyplot as plt\\nimport pandas as pd'); }\n",
       "    "
      ],
      "text/plain": [
       "<IPython.core.display.Javascript object>"
      ]
     },
     "metadata": {},
     "output_type": "display_data"
    },
    {
     "data": {
      "image/png": "[encoded data removed]",
      "text/plain": [
       "<Figure size 2520x864 with 1 Axes>"
      ]
     },
     "metadata": {
      "needs_background": "light"
     },
     "output_type": "display_data"
    }
   ],
   "source": [
    "plt.figure(figsize=(35,12))\n",
    "plt.bar(x = labels, height = exp_var)\n",
    "plt.xlabel(\"Number of Components\")\n",
    "plt.ylabel(\"% of explained variance\")\n",
    "plt.title(\"SCREE PLOT\")\n",
    "plt.show()"
   ]
  },
  {
   "cell_type": "code",
   "execution_count": 33,
   "metadata": {},
   "outputs": [
    {
     "data": {
      "application/javascript": [
       "\n",
       "        if (window._pyforest_update_imports_cell) { window._pyforest_update_imports_cell('import numpy as np\\nimport matplotlib.pyplot as plt\\nimport pandas as pd'); }\n",
       "    "
      ],
      "text/plain": [
       "<IPython.core.display.Javascript object>"
      ]
     },
     "metadata": {},
     "output_type": "display_data"
    },
    {
     "data": {
      "application/javascript": [
       "\n",
       "        if (window._pyforest_update_imports_cell) { window._pyforest_update_imports_cell('import numpy as np\\nimport matplotlib.pyplot as plt\\nimport pandas as pd'); }\n",
       "    "
      ],
      "text/plain": [
       "<IPython.core.display.Javascript object>"
      ]
     },
     "metadata": {},
     "output_type": "display_data"
    },
    {
     "data": {
      "application/javascript": [
       "\n",
       "        if (window._pyforest_update_imports_cell) { window._pyforest_update_imports_cell('import numpy as np\\nimport matplotlib.pyplot as plt\\nimport pandas as pd'); }\n",
       "    "
      ],
      "text/plain": [
       "<IPython.core.display.Javascript object>"
      ]
     },
     "metadata": {},
     "output_type": "display_data"
    },
    {
     "data": {
      "application/javascript": [
       "\n",
       "        if (window._pyforest_update_imports_cell) { window._pyforest_update_imports_cell('import numpy as np\\nimport matplotlib.pyplot as plt\\nimport pandas as pd'); }\n",
       "    "
      ],
      "text/plain": [
       "<IPython.core.display.Javascript object>"
      ]
     },
     "metadata": {},
     "output_type": "display_data"
    },
    {
     "data": {
      "application/javascript": [
       "\n",
       "        if (window._pyforest_update_imports_cell) { window._pyforest_update_imports_cell('import numpy as np\\nimport matplotlib.pyplot as plt\\nimport pandas as pd'); }\n",
       "    "
      ],
      "text/plain": [
       "<IPython.core.display.Javascript object>"
      ]
     },
     "metadata": {},
     "output_type": "display_data"
    },
    {
     "data": {
      "image/png": "[encoded data removed]",
      "text/plain": [
       "<Figure size 2520x864 with 1 Axes>"
      ]
     },
     "metadata": {
      "needs_background": "light"
     },
     "output_type": "display_data"
    }
   ],
   "source": [
    "plt.figure(figsize=(35,12))\n",
    "plt.bar(x = labels, height = a)\n",
    "plt.xlabel(\"Number of Components\")\n",
    "plt.ylabel(\"Cummulative % of explained variance\")\n",
    "plt.show()"
   ]
  },
  {
   "cell_type": "code",
   "execution_count": 34,
   "metadata": {},
   "outputs": [],
   "source": [
    "pcdf['readmitted'] = df['readmitted']"
   ]
  },
  {
   "cell_type": "code",
   "execution_count": 36,
   "metadata": {},
   "outputs": [],
   "source": [
    "X = pcdf.iloc[:,0:11]\n",
    "Y = pcdf['readmitted']"
   ]
  },
  {
   "cell_type": "code",
   "execution_count": 37,
   "metadata": {},
   "outputs": [
    {
     "data": {
      "text/html": [
       "<div>\n",
       "<style scoped>\n",
       "    .dataframe tbody tr th:only-of-type {\n",
       "        vertical-align: middle;\n",
       "    }\n",
       "\n",
       "    .dataframe tbody tr th {\n",
       "        vertical-align: top;\n",
       "    }\n",
       "\n",
       "    .dataframe thead th {\n",
       "        text-align: right;\n",
       "    }\n",
       "</style>\n",
       "<table border=\"1\" class=\"dataframe\">\n",
       "  <thead>\n",
       "    <tr style=\"text-align: right;\">\n",
       "      <th></th>\n",
       "      <th>PC1</th>\n",
       "      <th>PC2</th>\n",
       "      <th>PC3</th>\n",
       "      <th>PC4</th>\n",
       "      <th>PC5</th>\n",
       "      <th>PC6</th>\n",
       "      <th>PC7</th>\n",
       "      <th>PC8</th>\n",
       "      <th>PC9</th>\n",
       "      <th>PC10</th>\n",
       "      <th>PC11</th>\n",
       "    </tr>\n",
       "  </thead>\n",
       "  <tbody>\n",
       "    <tr>\n",
       "      <td>0</td>\n",
       "      <td>-3.483308</td>\n",
       "      <td>-1.221161</td>\n",
       "      <td>1.033987</td>\n",
       "      <td>1.534943</td>\n",
       "      <td>1.257364</td>\n",
       "      <td>-1.134730</td>\n",
       "      <td>-0.094034</td>\n",
       "      <td>0.252026</td>\n",
       "      <td>0.018219</td>\n",
       "      <td>1.351817</td>\n",
       "      <td>1.629952</td>\n",
       "    </tr>\n",
       "    <tr>\n",
       "      <td>1</td>\n",
       "      <td>0.716829</td>\n",
       "      <td>-0.795848</td>\n",
       "      <td>-0.585612</td>\n",
       "      <td>0.933939</td>\n",
       "      <td>0.157870</td>\n",
       "      <td>0.672062</td>\n",
       "      <td>0.307809</td>\n",
       "      <td>0.599185</td>\n",
       "      <td>-0.949696</td>\n",
       "      <td>-0.566414</td>\n",
       "      <td>-0.039182</td>\n",
       "    </tr>\n",
       "    <tr>\n",
       "      <td>2</td>\n",
       "      <td>-0.993477</td>\n",
       "      <td>-1.727942</td>\n",
       "      <td>-0.630691</td>\n",
       "      <td>-0.930041</td>\n",
       "      <td>2.499126</td>\n",
       "      <td>1.021854</td>\n",
       "      <td>2.418778</td>\n",
       "      <td>-1.497065</td>\n",
       "      <td>-0.574367</td>\n",
       "      <td>1.385082</td>\n",
       "      <td>-0.328519</td>\n",
       "    </tr>\n",
       "    <tr>\n",
       "      <td>3</td>\n",
       "      <td>0.229442</td>\n",
       "      <td>-1.659478</td>\n",
       "      <td>-0.361559</td>\n",
       "      <td>0.476804</td>\n",
       "      <td>0.319323</td>\n",
       "      <td>0.255475</td>\n",
       "      <td>0.273904</td>\n",
       "      <td>1.226090</td>\n",
       "      <td>-0.378139</td>\n",
       "      <td>0.038053</td>\n",
       "      <td>-0.102864</td>\n",
       "    </tr>\n",
       "    <tr>\n",
       "      <td>4</td>\n",
       "      <td>0.467808</td>\n",
       "      <td>-2.029797</td>\n",
       "      <td>0.086476</td>\n",
       "      <td>-0.463716</td>\n",
       "      <td>1.179609</td>\n",
       "      <td>-0.187960</td>\n",
       "      <td>-0.648835</td>\n",
       "      <td>0.536751</td>\n",
       "      <td>0.874860</td>\n",
       "      <td>-0.309263</td>\n",
       "      <td>-0.279519</td>\n",
       "    </tr>\n",
       "    <tr>\n",
       "      <td>...</td>\n",
       "      <td>...</td>\n",
       "      <td>...</td>\n",
       "      <td>...</td>\n",
       "      <td>...</td>\n",
       "      <td>...</td>\n",
       "      <td>...</td>\n",
       "      <td>...</td>\n",
       "      <td>...</td>\n",
       "      <td>...</td>\n",
       "      <td>...</td>\n",
       "      <td>...</td>\n",
       "    </tr>\n",
       "    <tr>\n",
       "      <td>69964</td>\n",
       "      <td>2.858798</td>\n",
       "      <td>1.083469</td>\n",
       "      <td>-0.404224</td>\n",
       "      <td>1.534434</td>\n",
       "      <td>-0.809236</td>\n",
       "      <td>-0.128008</td>\n",
       "      <td>-0.778423</td>\n",
       "      <td>0.396381</td>\n",
       "      <td>-0.403648</td>\n",
       "      <td>-0.182364</td>\n",
       "      <td>-0.433016</td>\n",
       "    </tr>\n",
       "    <tr>\n",
       "      <td>69965</td>\n",
       "      <td>3.448904</td>\n",
       "      <td>1.862574</td>\n",
       "      <td>-0.732656</td>\n",
       "      <td>1.431699</td>\n",
       "      <td>1.657287</td>\n",
       "      <td>1.003011</td>\n",
       "      <td>-2.190256</td>\n",
       "      <td>0.107393</td>\n",
       "      <td>-2.056411</td>\n",
       "      <td>0.714851</td>\n",
       "      <td>0.066649</td>\n",
       "    </tr>\n",
       "    <tr>\n",
       "      <td>69966</td>\n",
       "      <td>-0.288394</td>\n",
       "      <td>0.080236</td>\n",
       "      <td>0.420868</td>\n",
       "      <td>-0.587724</td>\n",
       "      <td>-0.142220</td>\n",
       "      <td>2.701653</td>\n",
       "      <td>-1.267125</td>\n",
       "      <td>1.404937</td>\n",
       "      <td>-0.002718</td>\n",
       "      <td>0.411448</td>\n",
       "      <td>-0.055416</td>\n",
       "    </tr>\n",
       "    <tr>\n",
       "      <td>69967</td>\n",
       "      <td>1.575782</td>\n",
       "      <td>1.111468</td>\n",
       "      <td>-0.187037</td>\n",
       "      <td>-0.301793</td>\n",
       "      <td>0.388025</td>\n",
       "      <td>0.795024</td>\n",
       "      <td>-0.289089</td>\n",
       "      <td>-0.368453</td>\n",
       "      <td>-0.154768</td>\n",
       "      <td>-0.351610</td>\n",
       "      <td>-1.165617</td>\n",
       "    </tr>\n",
       "    <tr>\n",
       "      <td>69968</td>\n",
       "      <td>-2.555814</td>\n",
       "      <td>0.889133</td>\n",
       "      <td>0.111448</td>\n",
       "      <td>-0.610169</td>\n",
       "      <td>-0.800731</td>\n",
       "      <td>0.135964</td>\n",
       "      <td>-0.366407</td>\n",
       "      <td>-0.705713</td>\n",
       "      <td>-0.487414</td>\n",
       "      <td>-0.705251</td>\n",
       "      <td>-0.685169</td>\n",
       "    </tr>\n",
       "  </tbody>\n",
       "</table>\n",
       "<p>69969 rows × 11 columns</p>\n",
       "</div>"
      ],
      "text/plain": [
       "            PC1       PC2       PC3       PC4       PC5       PC6       PC7  \\\n",
       "0     -3.483308 -1.221161  1.033987  1.534943  1.257364 -1.134730 -0.094034   \n",
       "1      0.716829 -0.795848 -0.585612  0.933939  0.157870  0.672062  0.307809   \n",
       "2     -0.993477 -1.727942 -0.630691 -0.930041  2.499126  1.021854  2.418778   \n",
       "3      0.229442 -1.659478 -0.361559  0.476804  0.319323  0.255475  0.273904   \n",
       "4      0.467808 -2.029797  0.086476 -0.463716  1.179609 -0.187960 -0.648835   \n",
       "...         ...       ...       ...       ...       ...       ...       ...   \n",
       "69964  2.858798  1.083469 -0.404224  1.534434 -0.809236 -0.128008 -0.778423   \n",
       "69965  3.448904  1.862574 -0.732656  1.431699  1.657287  1.003011 -2.190256   \n",
       "69966 -0.288394  0.080236  0.420868 -0.587724 -0.142220  2.701653 -1.267125   \n",
       "69967  1.575782  1.111468 -0.187037 -0.301793  0.388025  0.795024 -0.289089   \n",
       "69968 -2.555814  0.889133  0.111448 -0.610169 -0.800731  0.135964 -0.366407   \n",
       "\n",
       "            PC8       PC9      PC10      PC11  \n",
       "0      0.252026  0.018219  1.351817  1.629952  \n",
       "1      0.599185 -0.949696 -0.566414 -0.039182  \n",
       "2     -1.497065 -0.574367  1.385082 -0.328519  \n",
       "3      1.226090 -0.378139  0.038053 -0.102864  \n",
       "4      0.536751  0.874860 -0.309263 -0.279519  \n",
       "...         ...       ...       ...       ...  \n",
       "69964  0.396381 -0.403648 -0.182364 -0.433016  \n",
       "69965  0.107393 -2.056411  0.714851  0.066649  \n",
       "69966  1.404937 -0.002718  0.411448 -0.055416  \n",
       "69967 -0.368453 -0.154768 -0.351610 -1.165617  \n",
       "69968 -0.705713 -0.487414 -0.705251 -0.685169  \n",
       "\n",
       "[69969 rows x 11 columns]"
      ]
     },
     "execution_count": 37,
     "metadata": {},
     "output_type": "execute_result"
    }
   ],
   "source": [
    "X"
   ]
  },
  {
   "cell_type": "code",
   "execution_count": 38,
   "metadata": {
    "ExecuteTime": {
     "end_time": "2020-05-03T16:47:56.193312Z",
     "start_time": "2020-05-03T16:47:56.075627Z"
    },
    "colab": {},
    "colab_type": "code",
    "id": "Y_ICVDBjEU6-"
   },
   "outputs": [
    {
     "data": {
      "application/javascript": [
       "\n",
       "        if (window._pyforest_update_imports_cell) { window._pyforest_update_imports_cell('from sklearn.model_selection import train_test_split\\nimport numpy as np\\nimport matplotlib.pyplot as plt\\nimport pandas as pd'); }\n",
       "    "
      ],
      "text/plain": [
       "<IPython.core.display.Javascript object>"
      ]
     },
     "metadata": {},
     "output_type": "display_data"
    }
   ],
   "source": [
    "X_train, X_test, y_train, y_test = train_test_split(X, y, test_size=0.3, random_state=0)"
   ]
  },
  {
   "cell_type": "markdown",
   "metadata": {},
   "source": [
    "### Decision Tree (Base)"
   ]
  },
  {
   "cell_type": "code",
   "execution_count": 39,
   "metadata": {},
   "outputs": [],
   "source": [
    "import warnings\n",
    "warnings.filterwarnings('ignore')\n",
    "\n",
    "import numpy               as np\n",
    "import pandas              as pd\n",
    "import matplotlib.pyplot   as plt\n",
    "import seaborn             as sns\n",
    "\n",
    "from scipy import stats\n",
    "\n",
    "from sklearn.model_selection import train_test_split\n",
    "from sklearn.metrics import accuracy_score, precision_score, recall_score, classification_report, confusion_matrix\n",
    "import re\n",
    "%matplotlib inline"
   ]
  },
  {
   "cell_type": "code",
   "execution_count": 40,
   "metadata": {
    "ExecuteTime": {
     "end_time": "2020-05-03T16:51:57.584174Z",
     "start_time": "2020-05-03T16:51:55.679270Z"
    }
   },
   "outputs": [
    {
     "data": {
      "text/plain": [
       "DecisionTreeClassifier(ccp_alpha=0.0, class_weight=None, criterion='entropy',\n",
       "                       max_depth=28, max_features=None, max_leaf_nodes=None,\n",
       "                       min_impurity_decrease=0.0, min_impurity_split=None,\n",
       "                       min_samples_leaf=1, min_samples_split=10,\n",
       "                       min_weight_fraction_leaf=0.0, presort='deprecated',\n",
       "                       random_state=0, splitter='best')"
      ]
     },
     "execution_count": 40,
     "metadata": {},
     "output_type": "execute_result"
    }
   ],
   "source": [
    "from sklearn.tree import DecisionTreeClassifier\n",
    "dtree = DecisionTreeClassifier(max_depth=28, criterion = \"entropy\", min_samples_split=10,random_state=0)\n",
    "dtree.fit(X_train, y_train)"
   ]
  },
  {
   "cell_type": "code",
   "execution_count": 41,
   "metadata": {
    "ExecuteTime": {
     "end_time": "2020-05-03T16:51:58.345139Z",
     "start_time": "2020-05-03T16:51:58.305247Z"
    }
   },
   "outputs": [
    {
     "name": "stdout",
     "output_type": "stream",
     "text": [
      "[[17661  1450]\n",
      " [ 1721   159]]\n"
     ]
    }
   ],
   "source": [
    "dtree_pred = dtree.predict(X_test)\n",
    "cm = confusion_matrix(y_test,dtree_pred)\n",
    "print(cm)"
   ]
  },
  {
   "cell_type": "code",
   "execution_count": 42,
   "metadata": {
    "ExecuteTime": {
     "end_time": "2020-05-03T16:51:59.422258Z",
     "start_time": "2020-05-03T16:51:59.347458Z"
    }
   },
   "outputs": [
    {
     "name": "stdout",
     "output_type": "stream",
     "text": [
      "              precision    recall  f1-score   support\n",
      "\n",
      "           0       0.91      0.92      0.92     19111\n",
      "           1       0.10      0.08      0.09      1880\n",
      "\n",
      "    accuracy                           0.85     20991\n",
      "   macro avg       0.51      0.50      0.50     20991\n",
      "weighted avg       0.84      0.85      0.84     20991\n",
      "\n"
     ]
    }
   ],
   "source": [
    "cr = classification_report(y_test,dtree_pred)\n",
    "print(cr)"
   ]
  },
  {
   "cell_type": "code",
   "execution_count": 43,
   "metadata": {
    "ExecuteTime": {
     "end_time": "2020-05-03T16:52:05.387353Z",
     "start_time": "2020-05-03T16:52:05.338449Z"
    }
   },
   "outputs": [
    {
     "name": "stdout",
     "output_type": "stream",
     "text": [
      "Accuracy is 0.85\n",
      "Precision is 0.10\n",
      "Recall is 0.08\n"
     ]
    }
   ],
   "source": [
    "print(\"Accuracy is {0:.2f}\".format(accuracy_score(y_test, dtree_pred)))\n",
    "print(\"Precision is {0:.2f}\".format(precision_score(y_test, dtree_pred)))\n",
    "print(\"Recall is {0:.2f}\".format(recall_score(y_test, dtree_pred)))\n",
    "\n",
    "accuracy_dtree = accuracy_score(y_test, dtree_pred)\n",
    "precision_dtree = precision_score(y_test, dtree_pred)\n",
    "recall_dtree = recall_score(y_test, dtree_pred)"
   ]
  },
  {
   "cell_type": "markdown",
   "metadata": {},
   "source": [
    "### Random Forest (Base)"
   ]
  },
  {
   "cell_type": "code",
   "execution_count": 44,
   "metadata": {
    "ExecuteTime": {
     "end_time": "2020-05-03T16:52:19.845007Z",
     "start_time": "2020-05-03T16:52:18.590364Z"
    }
   },
   "outputs": [
    {
     "data": {
      "text/plain": [
       "RandomForestClassifier(bootstrap=True, ccp_alpha=0.0, class_weight=None,\n",
       "                       criterion='gini', max_depth=25, max_features='auto',\n",
       "                       max_leaf_nodes=None, max_samples=None,\n",
       "                       min_impurity_decrease=0.0, min_impurity_split=None,\n",
       "                       min_samples_leaf=1, min_samples_split=10,\n",
       "                       min_weight_fraction_leaf=0.0, n_estimators=10,\n",
       "                       n_jobs=None, oob_score=False, random_state=0, verbose=0,\n",
       "                       warm_start=False)"
      ]
     },
     "execution_count": 44,
     "metadata": {},
     "output_type": "execute_result"
    }
   ],
   "source": [
    "from sklearn.ensemble import RandomForestClassifier\n",
    "rm = RandomForestClassifier(n_estimators = 10, max_depth=25, criterion = \"gini\", min_samples_split=10,random_state=0)\n",
    "rm.fit(X_train, y_train)"
   ]
  },
  {
   "cell_type": "code",
   "execution_count": 45,
   "metadata": {
    "ExecuteTime": {
     "end_time": "2020-05-03T16:52:20.651850Z",
     "start_time": "2020-05-03T16:52:20.581038Z"
    }
   },
   "outputs": [
    {
     "name": "stdout",
     "output_type": "stream",
     "text": [
      "[[19076    35]\n",
      " [ 1876     4]]\n"
     ]
    }
   ],
   "source": [
    "rm_prd = rm.predict(X_test)\n",
    "cm = confusion_matrix(y_test,rm_prd)\n",
    "print(cm)"
   ]
  },
  {
   "cell_type": "code",
   "execution_count": 46,
   "metadata": {
    "ExecuteTime": {
     "end_time": "2020-05-03T16:52:22.746406Z",
     "start_time": "2020-05-03T16:52:22.708475Z"
    }
   },
   "outputs": [
    {
     "name": "stdout",
     "output_type": "stream",
     "text": [
      "              precision    recall  f1-score   support\n",
      "\n",
      "           0       0.91      1.00      0.95     19111\n",
      "           1       0.10      0.00      0.00      1880\n",
      "\n",
      "    accuracy                           0.91     20991\n",
      "   macro avg       0.51      0.50      0.48     20991\n",
      "weighted avg       0.84      0.91      0.87     20991\n",
      "\n"
     ]
    }
   ],
   "source": [
    "cr = classification_report(y_test,rm_prd)\n",
    "print(cr)"
   ]
  },
  {
   "cell_type": "code",
   "execution_count": 47,
   "metadata": {
    "ExecuteTime": {
     "end_time": "2020-05-03T16:52:26.156391Z",
     "start_time": "2020-05-03T16:52:26.113471Z"
    }
   },
   "outputs": [
    {
     "name": "stdout",
     "output_type": "stream",
     "text": [
      "Accuracy is 0.91\n",
      "Precision is 0.10\n",
      "Recall is 0.00\n"
     ]
    }
   ],
   "source": [
    "print(\"Accuracy is {0:.2f}\".format(accuracy_score(y_test, rm_prd)))\n",
    "print(\"Precision is {0:.2f}\".format(precision_score(y_test, rm_prd)))\n",
    "print(\"Recall is {0:.2f}\".format(recall_score(y_test, rm_prd)))\n",
    "\n",
    "accuracy_rm = accuracy_score(y_test, rm_prd)\n",
    "precision_rm = precision_score(y_test, rm_prd)\n",
    "recall_rm = recall_score(y_test, rm_prd)"
   ]
  },
  {
   "cell_type": "code",
   "execution_count": 48,
   "metadata": {},
   "outputs": [
    {
     "data": {
      "text/plain": [
       "array([[ 0.29824025, -2.28077782,  1.97100306, ..., -0.31412284,\n",
       "        -0.39206304, -1.26262032],\n",
       "       [ 0.29824025, -2.28077782,  0.15325232, ..., -0.31412284,\n",
       "        -0.39206304, -0.20174633],\n",
       "       [-1.9006609 , -2.28077782,  0.15325232, ..., -0.31412284,\n",
       "         1.70895245, -0.20174633],\n",
       "       ...,\n",
       "       [ 2.49714139, -0.61984857,  0.15325232, ..., -0.31412284,\n",
       "         1.70895245, -0.20174633],\n",
       "       [ 0.29824025,  1.04108068,  0.15325232, ..., -0.31412284,\n",
       "         0.30827546, -0.20174633],\n",
       "       [ 0.29824025,  1.04108068,  0.15325232, ..., -0.31412284,\n",
       "        -0.39206304, -1.26262032]])"
      ]
     },
     "execution_count": 48,
     "metadata": {},
     "output_type": "execute_result"
    }
   ],
   "source": [
    "from sklearn.preprocessing import scale as scale\n",
    "scaled_df = scale(df)\n",
    "scaled_df"
   ]
  },
  {
   "cell_type": "code",
   "execution_count": 49,
   "metadata": {},
   "outputs": [],
   "source": [
    "scaled_df = pd.DataFrame(scaled_df)"
   ]
  },
  {
   "cell_type": "code",
   "execution_count": 50,
   "metadata": {},
   "outputs": [
    {
     "data": {
      "text/html": [
       "<div>\n",
       "<style scoped>\n",
       "    .dataframe tbody tr th:only-of-type {\n",
       "        vertical-align: middle;\n",
       "    }\n",
       "\n",
       "    .dataframe tbody tr th {\n",
       "        vertical-align: top;\n",
       "    }\n",
       "\n",
       "    .dataframe thead th {\n",
       "        text-align: right;\n",
       "    }\n",
       "</style>\n",
       "<table border=\"1\" class=\"dataframe\">\n",
       "  <thead>\n",
       "    <tr style=\"text-align: right;\">\n",
       "      <th></th>\n",
       "      <th>0</th>\n",
       "      <th>1</th>\n",
       "      <th>2</th>\n",
       "      <th>3</th>\n",
       "      <th>4</th>\n",
       "      <th>5</th>\n",
       "      <th>6</th>\n",
       "      <th>7</th>\n",
       "      <th>8</th>\n",
       "      <th>9</th>\n",
       "      <th>10</th>\n",
       "      <th>11</th>\n",
       "      <th>12</th>\n",
       "      <th>13</th>\n",
       "      <th>14</th>\n",
       "      <th>15</th>\n",
       "      <th>16</th>\n",
       "      <th>17</th>\n",
       "    </tr>\n",
       "  </thead>\n",
       "  <tbody>\n",
       "    <tr>\n",
       "      <td>0</td>\n",
       "      <td>0.298240</td>\n",
       "      <td>-2.280778</td>\n",
       "      <td>1.971003</td>\n",
       "      <td>1.264049</td>\n",
       "      <td>-1.115614</td>\n",
       "      <td>-0.094256</td>\n",
       "      <td>-1.769670</td>\n",
       "      <td>-0.440091</td>\n",
       "      <td>-0.325930</td>\n",
       "      <td>-0.298060</td>\n",
       "      <td>-3.110376</td>\n",
       "      <td>0.211889</td>\n",
       "      <td>0.454864</td>\n",
       "      <td>-0.904689</td>\n",
       "      <td>-1.787326</td>\n",
       "      <td>-0.314123</td>\n",
       "      <td>-0.392063</td>\n",
       "      <td>-1.262620</td>\n",
       "    </tr>\n",
       "    <tr>\n",
       "      <td>1</td>\n",
       "      <td>0.298240</td>\n",
       "      <td>-2.280778</td>\n",
       "      <td>0.153252</td>\n",
       "      <td>-0.566362</td>\n",
       "      <td>-0.433982</td>\n",
       "      <td>0.810564</td>\n",
       "      <td>0.281572</td>\n",
       "      <td>-0.440091</td>\n",
       "      <td>-0.325930</td>\n",
       "      <td>-0.298060</td>\n",
       "      <td>0.887262</td>\n",
       "      <td>0.211889</td>\n",
       "      <td>0.454864</td>\n",
       "      <td>1.105352</td>\n",
       "      <td>0.559495</td>\n",
       "      <td>-0.314123</td>\n",
       "      <td>-0.392063</td>\n",
       "      <td>-0.201746</td>\n",
       "    </tr>\n",
       "    <tr>\n",
       "      <td>2</td>\n",
       "      <td>-1.900661</td>\n",
       "      <td>-2.280778</td>\n",
       "      <td>0.153252</td>\n",
       "      <td>-0.566362</td>\n",
       "      <td>-0.774798</td>\n",
       "      <td>-1.602290</td>\n",
       "      <td>-0.321734</td>\n",
       "      <td>1.529471</td>\n",
       "      <td>-0.325930</td>\n",
       "      <td>2.357765</td>\n",
       "      <td>-0.611852</td>\n",
       "      <td>0.211889</td>\n",
       "      <td>0.454864</td>\n",
       "      <td>-0.904689</td>\n",
       "      <td>0.559495</td>\n",
       "      <td>-0.314123</td>\n",
       "      <td>1.708952</td>\n",
       "      <td>-0.201746</td>\n",
       "    </tr>\n",
       "    <tr>\n",
       "      <td>3</td>\n",
       "      <td>0.298240</td>\n",
       "      <td>-2.280778</td>\n",
       "      <td>0.153252</td>\n",
       "      <td>-0.566362</td>\n",
       "      <td>-0.774798</td>\n",
       "      <td>0.056547</td>\n",
       "      <td>0.040250</td>\n",
       "      <td>0.347734</td>\n",
       "      <td>-0.325930</td>\n",
       "      <td>-0.910943</td>\n",
       "      <td>-0.112148</td>\n",
       "      <td>0.211889</td>\n",
       "      <td>0.454864</td>\n",
       "      <td>1.105352</td>\n",
       "      <td>0.559495</td>\n",
       "      <td>-0.314123</td>\n",
       "      <td>-0.392063</td>\n",
       "      <td>-0.201746</td>\n",
       "    </tr>\n",
       "    <tr>\n",
       "      <td>4</td>\n",
       "      <td>0.298240</td>\n",
       "      <td>-0.619849</td>\n",
       "      <td>0.153252</td>\n",
       "      <td>-0.566362</td>\n",
       "      <td>-1.115614</td>\n",
       "      <td>0.408421</td>\n",
       "      <td>-0.925041</td>\n",
       "      <td>1.135559</td>\n",
       "      <td>1.250414</td>\n",
       "      <td>-0.298060</td>\n",
       "      <td>-1.111557</td>\n",
       "      <td>0.211889</td>\n",
       "      <td>0.454864</td>\n",
       "      <td>1.105352</td>\n",
       "      <td>0.559495</td>\n",
       "      <td>-0.314123</td>\n",
       "      <td>-0.392063</td>\n",
       "      <td>0.859128</td>\n",
       "    </tr>\n",
       "    <tr>\n",
       "      <td>...</td>\n",
       "      <td>...</td>\n",
       "      <td>...</td>\n",
       "      <td>...</td>\n",
       "      <td>...</td>\n",
       "      <td>...</td>\n",
       "      <td>...</td>\n",
       "      <td>...</td>\n",
       "      <td>...</td>\n",
       "      <td>...</td>\n",
       "      <td>...</td>\n",
       "      <td>...</td>\n",
       "      <td>...</td>\n",
       "      <td>...</td>\n",
       "      <td>...</td>\n",
       "      <td>...</td>\n",
       "      <td>...</td>\n",
       "      <td>...</td>\n",
       "      <td>...</td>\n",
       "    </tr>\n",
       "    <tr>\n",
       "      <td>69964</td>\n",
       "      <td>0.298240</td>\n",
       "      <td>1.041081</td>\n",
       "      <td>0.153252</td>\n",
       "      <td>-0.566362</td>\n",
       "      <td>1.610912</td>\n",
       "      <td>0.358154</td>\n",
       "      <td>2.091493</td>\n",
       "      <td>-0.637047</td>\n",
       "      <td>-0.522972</td>\n",
       "      <td>-0.298060</td>\n",
       "      <td>0.887262</td>\n",
       "      <td>0.211889</td>\n",
       "      <td>-2.445692</td>\n",
       "      <td>1.105352</td>\n",
       "      <td>0.559495</td>\n",
       "      <td>-0.314123</td>\n",
       "      <td>-0.392063</td>\n",
       "      <td>0.859128</td>\n",
       "    </tr>\n",
       "    <tr>\n",
       "      <td>69965</td>\n",
       "      <td>2.497141</td>\n",
       "      <td>-0.619849</td>\n",
       "      <td>0.153252</td>\n",
       "      <td>-0.566362</td>\n",
       "      <td>3.314990</td>\n",
       "      <td>1.514312</td>\n",
       "      <td>1.246863</td>\n",
       "      <td>-0.046179</td>\n",
       "      <td>0.068156</td>\n",
       "      <td>1.949177</td>\n",
       "      <td>0.887262</td>\n",
       "      <td>0.211889</td>\n",
       "      <td>-2.445692</td>\n",
       "      <td>1.105352</td>\n",
       "      <td>0.559495</td>\n",
       "      <td>-0.314123</td>\n",
       "      <td>0.308275</td>\n",
       "      <td>0.859128</td>\n",
       "    </tr>\n",
       "    <tr>\n",
       "      <td>69966</td>\n",
       "      <td>2.497141</td>\n",
       "      <td>-0.619849</td>\n",
       "      <td>0.153252</td>\n",
       "      <td>-0.566362</td>\n",
       "      <td>-0.774798</td>\n",
       "      <td>0.157082</td>\n",
       "      <td>0.160911</td>\n",
       "      <td>0.544690</td>\n",
       "      <td>0.068156</td>\n",
       "      <td>-0.910943</td>\n",
       "      <td>0.887262</td>\n",
       "      <td>0.211889</td>\n",
       "      <td>0.454864</td>\n",
       "      <td>-0.904689</td>\n",
       "      <td>0.559495</td>\n",
       "      <td>-0.314123</td>\n",
       "      <td>1.708952</td>\n",
       "      <td>-0.201746</td>\n",
       "    </tr>\n",
       "    <tr>\n",
       "      <td>69967</td>\n",
       "      <td>0.298240</td>\n",
       "      <td>1.041081</td>\n",
       "      <td>0.153252</td>\n",
       "      <td>-0.566362</td>\n",
       "      <td>0.247649</td>\n",
       "      <td>1.665116</td>\n",
       "      <td>0.764218</td>\n",
       "      <td>0.741646</td>\n",
       "      <td>0.462242</td>\n",
       "      <td>0.927705</td>\n",
       "      <td>0.887262</td>\n",
       "      <td>0.211889</td>\n",
       "      <td>0.454864</td>\n",
       "      <td>1.105352</td>\n",
       "      <td>0.559495</td>\n",
       "      <td>-0.314123</td>\n",
       "      <td>0.308275</td>\n",
       "      <td>-0.201746</td>\n",
       "    </tr>\n",
       "    <tr>\n",
       "      <td>69968</td>\n",
       "      <td>0.298240</td>\n",
       "      <td>1.041081</td>\n",
       "      <td>0.153252</td>\n",
       "      <td>-0.566362</td>\n",
       "      <td>0.588465</td>\n",
       "      <td>-1.501754</td>\n",
       "      <td>-1.528348</td>\n",
       "      <td>-0.637047</td>\n",
       "      <td>-0.522972</td>\n",
       "      <td>0.314823</td>\n",
       "      <td>0.887262</td>\n",
       "      <td>0.211889</td>\n",
       "      <td>0.454864</td>\n",
       "      <td>-0.904689</td>\n",
       "      <td>-1.787326</td>\n",
       "      <td>-0.314123</td>\n",
       "      <td>-0.392063</td>\n",
       "      <td>-1.262620</td>\n",
       "    </tr>\n",
       "  </tbody>\n",
       "</table>\n",
       "<p>69969 rows × 18 columns</p>\n",
       "</div>"
      ],
      "text/plain": [
       "              0         1         2         3         4         5         6  \\\n",
       "0      0.298240 -2.280778  1.971003  1.264049 -1.115614 -0.094256 -1.769670   \n",
       "1      0.298240 -2.280778  0.153252 -0.566362 -0.433982  0.810564  0.281572   \n",
       "2     -1.900661 -2.280778  0.153252 -0.566362 -0.774798 -1.602290 -0.321734   \n",
       "3      0.298240 -2.280778  0.153252 -0.566362 -0.774798  0.056547  0.040250   \n",
       "4      0.298240 -0.619849  0.153252 -0.566362 -1.115614  0.408421 -0.925041   \n",
       "...         ...       ...       ...       ...       ...       ...       ...   \n",
       "69964  0.298240  1.041081  0.153252 -0.566362  1.610912  0.358154  2.091493   \n",
       "69965  2.497141 -0.619849  0.153252 -0.566362  3.314990  1.514312  1.246863   \n",
       "69966  2.497141 -0.619849  0.153252 -0.566362 -0.774798  0.157082  0.160911   \n",
       "69967  0.298240  1.041081  0.153252 -0.566362  0.247649  1.665116  0.764218   \n",
       "69968  0.298240  1.041081  0.153252 -0.566362  0.588465 -1.501754 -1.528348   \n",
       "\n",
       "              7         8         9        10        11        12        13  \\\n",
       "0     -0.440091 -0.325930 -0.298060 -3.110376  0.211889  0.454864 -0.904689   \n",
       "1     -0.440091 -0.325930 -0.298060  0.887262  0.211889  0.454864  1.105352   \n",
       "2      1.529471 -0.325930  2.357765 -0.611852  0.211889  0.454864 -0.904689   \n",
       "3      0.347734 -0.325930 -0.910943 -0.112148  0.211889  0.454864  1.105352   \n",
       "4      1.135559  1.250414 -0.298060 -1.111557  0.211889  0.454864  1.105352   \n",
       "...         ...       ...       ...       ...       ...       ...       ...   \n",
       "69964 -0.637047 -0.522972 -0.298060  0.887262  0.211889 -2.445692  1.105352   \n",
       "69965 -0.046179  0.068156  1.949177  0.887262  0.211889 -2.445692  1.105352   \n",
       "69966  0.544690  0.068156 -0.910943  0.887262  0.211889  0.454864 -0.904689   \n",
       "69967  0.741646  0.462242  0.927705  0.887262  0.211889  0.454864  1.105352   \n",
       "69968 -0.637047 -0.522972  0.314823  0.887262  0.211889  0.454864 -0.904689   \n",
       "\n",
       "             14        15        16        17  \n",
       "0     -1.787326 -0.314123 -0.392063 -1.262620  \n",
       "1      0.559495 -0.314123 -0.392063 -0.201746  \n",
       "2      0.559495 -0.314123  1.708952 -0.201746  \n",
       "3      0.559495 -0.314123 -0.392063 -0.201746  \n",
       "4      0.559495 -0.314123 -0.392063  0.859128  \n",
       "...         ...       ...       ...       ...  \n",
       "69964  0.559495 -0.314123 -0.392063  0.859128  \n",
       "69965  0.559495 -0.314123  0.308275  0.859128  \n",
       "69966  0.559495 -0.314123  1.708952 -0.201746  \n",
       "69967  0.559495 -0.314123  0.308275 -0.201746  \n",
       "69968 -1.787326 -0.314123 -0.392063 -1.262620  \n",
       "\n",
       "[69969 rows x 18 columns]"
      ]
     },
     "execution_count": 50,
     "metadata": {},
     "output_type": "execute_result"
    }
   ],
   "source": [
    "scaled_df"
   ]
  },
  {
   "cell_type": "markdown",
   "metadata": {},
   "source": [
    "## K-Means Clustering"
   ]
  },
  {
   "cell_type": "code",
   "execution_count": 51,
   "metadata": {},
   "outputs": [],
   "source": [
    "#USing SCREE PLOT to find optimal number of clusters\n",
    "#Finding optimal number of clusters\n",
    "#Scree plot\n",
    "cluster_range = range(1,10)\n",
    "cluster_wss = []\n",
    "\n",
    "from sklearn.cluster import KMeans\n",
    "for num_clusters in cluster_range:\n",
    "    clusters = KMeans(num_clusters)\n",
    "    clusters.fit(scaled_df)\n",
    "    cluster_wss.append(clusters.inertia_)\n",
    "    \n",
    "from collections import OrderedDict\n",
    "clusters_df = pd.DataFrame(OrderedDict(\n",
    "                {'num_clusters':cluster_range,\n",
    "                'cluster_wss':cluster_wss}))"
   ]
  },
  {
   "cell_type": "code",
   "execution_count": 52,
   "metadata": {},
   "outputs": [
    {
     "data": {
      "text/html": [
       "<div>\n",
       "<style scoped>\n",
       "    .dataframe tbody tr th:only-of-type {\n",
       "        vertical-align: middle;\n",
       "    }\n",
       "\n",
       "    .dataframe tbody tr th {\n",
       "        vertical-align: top;\n",
       "    }\n",
       "\n",
       "    .dataframe thead th {\n",
       "        text-align: right;\n",
       "    }\n",
       "</style>\n",
       "<table border=\"1\" class=\"dataframe\">\n",
       "  <thead>\n",
       "    <tr style=\"text-align: right;\">\n",
       "      <th></th>\n",
       "      <th>num_clusters</th>\n",
       "      <th>cluster_wss</th>\n",
       "    </tr>\n",
       "  </thead>\n",
       "  <tbody>\n",
       "    <tr>\n",
       "      <td>0</td>\n",
       "      <td>1</td>\n",
       "      <td>1.259442e+06</td>\n",
       "    </tr>\n",
       "    <tr>\n",
       "      <td>1</td>\n",
       "      <td>2</td>\n",
       "      <td>1.126820e+06</td>\n",
       "    </tr>\n",
       "    <tr>\n",
       "      <td>2</td>\n",
       "      <td>3</td>\n",
       "      <td>1.057347e+06</td>\n",
       "    </tr>\n",
       "    <tr>\n",
       "      <td>3</td>\n",
       "      <td>4</td>\n",
       "      <td>9.914780e+05</td>\n",
       "    </tr>\n",
       "    <tr>\n",
       "      <td>4</td>\n",
       "      <td>5</td>\n",
       "      <td>9.457396e+05</td>\n",
       "    </tr>\n",
       "    <tr>\n",
       "      <td>5</td>\n",
       "      <td>6</td>\n",
       "      <td>8.993082e+05</td>\n",
       "    </tr>\n",
       "    <tr>\n",
       "      <td>6</td>\n",
       "      <td>7</td>\n",
       "      <td>8.630794e+05</td>\n",
       "    </tr>\n",
       "    <tr>\n",
       "      <td>7</td>\n",
       "      <td>8</td>\n",
       "      <td>8.406551e+05</td>\n",
       "    </tr>\n",
       "    <tr>\n",
       "      <td>8</td>\n",
       "      <td>9</td>\n",
       "      <td>8.191227e+05</td>\n",
       "    </tr>\n",
       "  </tbody>\n",
       "</table>\n",
       "</div>"
      ],
      "text/plain": [
       "   num_clusters   cluster_wss\n",
       "0             1  1.259442e+06\n",
       "1             2  1.126820e+06\n",
       "2             3  1.057347e+06\n",
       "3             4  9.914780e+05\n",
       "4             5  9.457396e+05\n",
       "5             6  8.993082e+05\n",
       "6             7  8.630794e+05\n",
       "7             8  8.406551e+05\n",
       "8             9  8.191227e+05"
      ]
     },
     "execution_count": 52,
     "metadata": {},
     "output_type": "execute_result"
    }
   ],
   "source": [
    "clusters_df"
   ]
  },
  {
   "cell_type": "code",
   "execution_count": 53,
   "metadata": {},
   "outputs": [
    {
     "data": {
      "image/png": "[encoded data removed]",
      "text/plain": [
       "<Figure size 864x504 with 1 Axes>"
      ]
     },
     "metadata": {
      "needs_background": "light"
     },
     "output_type": "display_data"
    }
   ],
   "source": [
    "plt.figure(figsize=(12,7))\n",
    "plt.xlabel('#Clusters')\n",
    "plt.ylabel('WSS')\n",
    "plt.plot(clusters_df.num_clusters, clusters_df.cluster_wss,marker='o')\n",
    "plt.show()"
   ]
  },
  {
   "cell_type": "markdown",
   "metadata": {},
   "source": [
    "From the above Scree Plot we can see that ? clusters can be said as the optimal number of clusters"
   ]
  },
  {
   "cell_type": "code",
   "execution_count": 62,
   "metadata": {},
   "outputs": [
    {
     "data": {
      "text/plain": [
       "KMeans(algorithm='auto', copy_x=True, init='k-means++', max_iter=300,\n",
       "       n_clusters=3, n_init=10, n_jobs=None, precompute_distances='auto',\n",
       "       random_state=1, tol=0.0001, verbose=0)"
      ]
     },
     "execution_count": 62,
     "metadata": {},
     "output_type": "execute_result"
    }
   ],
   "source": [
    "#Building KMeans Cluster Model\n",
    "kcluster = KMeans(n_clusters = 3, random_state = 1)\n",
    "kcluster.fit(scaled_df)"
   ]
  },
  {
   "cell_type": "code",
   "execution_count": 63,
   "metadata": {
    "scrolled": true
   },
   "outputs": [
    {
     "data": {
      "text/html": [
       "<div>\n",
       "<style scoped>\n",
       "    .dataframe tbody tr th:only-of-type {\n",
       "        vertical-align: middle;\n",
       "    }\n",
       "\n",
       "    .dataframe tbody tr th {\n",
       "        vertical-align: top;\n",
       "    }\n",
       "\n",
       "    .dataframe thead th {\n",
       "        text-align: right;\n",
       "    }\n",
       "</style>\n",
       "<table border=\"1\" class=\"dataframe\">\n",
       "  <thead>\n",
       "    <tr style=\"text-align: right;\">\n",
       "      <th></th>\n",
       "      <th>race</th>\n",
       "      <th>age</th>\n",
       "      <th>admission_type_id</th>\n",
       "      <th>discharge_disposition_id</th>\n",
       "      <th>time_in_hospital</th>\n",
       "      <th>num_lab_procedures</th>\n",
       "      <th>num_medications</th>\n",
       "      <th>diag_1</th>\n",
       "      <th>diag_2</th>\n",
       "      <th>diag_3</th>\n",
       "      <th>number_diagnoses</th>\n",
       "      <th>max_glu_serum</th>\n",
       "      <th>A1Cresult</th>\n",
       "      <th>change</th>\n",
       "      <th>diabetesMed</th>\n",
       "      <th>readmitted</th>\n",
       "      <th>total_patient_interaction</th>\n",
       "      <th>numchange</th>\n",
       "      <th>clusters_kmeans</th>\n",
       "      <th>color</th>\n",
       "    </tr>\n",
       "  </thead>\n",
       "  <tbody>\n",
       "    <tr>\n",
       "      <td>0</td>\n",
       "      <td>1</td>\n",
       "      <td>0</td>\n",
       "      <td>2</td>\n",
       "      <td>3</td>\n",
       "      <td>1</td>\n",
       "      <td>41</td>\n",
       "      <td>1</td>\n",
       "      <td>4</td>\n",
       "      <td>4</td>\n",
       "      <td>4</td>\n",
       "      <td>1</td>\n",
       "      <td>2</td>\n",
       "      <td>2</td>\n",
       "      <td>0</td>\n",
       "      <td>0</td>\n",
       "      <td>0</td>\n",
       "      <td>0</td>\n",
       "      <td>0</td>\n",
       "      <td>1</td>\n",
       "      <td>green</td>\n",
       "    </tr>\n",
       "    <tr>\n",
       "      <td>1</td>\n",
       "      <td>1</td>\n",
       "      <td>0</td>\n",
       "      <td>1</td>\n",
       "      <td>0</td>\n",
       "      <td>3</td>\n",
       "      <td>59</td>\n",
       "      <td>18</td>\n",
       "      <td>4</td>\n",
       "      <td>4</td>\n",
       "      <td>4</td>\n",
       "      <td>9</td>\n",
       "      <td>2</td>\n",
       "      <td>2</td>\n",
       "      <td>1</td>\n",
       "      <td>1</td>\n",
       "      <td>0</td>\n",
       "      <td>0</td>\n",
       "      <td>1</td>\n",
       "      <td>0</td>\n",
       "      <td>blue</td>\n",
       "    </tr>\n",
       "    <tr>\n",
       "      <td>2</td>\n",
       "      <td>0</td>\n",
       "      <td>0</td>\n",
       "      <td>1</td>\n",
       "      <td>0</td>\n",
       "      <td>2</td>\n",
       "      <td>11</td>\n",
       "      <td>13</td>\n",
       "      <td>14</td>\n",
       "      <td>4</td>\n",
       "      <td>17</td>\n",
       "      <td>6</td>\n",
       "      <td>2</td>\n",
       "      <td>2</td>\n",
       "      <td>0</td>\n",
       "      <td>1</td>\n",
       "      <td>0</td>\n",
       "      <td>3</td>\n",
       "      <td>1</td>\n",
       "      <td>0</td>\n",
       "      <td>green</td>\n",
       "    </tr>\n",
       "    <tr>\n",
       "      <td>3</td>\n",
       "      <td>1</td>\n",
       "      <td>0</td>\n",
       "      <td>1</td>\n",
       "      <td>0</td>\n",
       "      <td>2</td>\n",
       "      <td>44</td>\n",
       "      <td>16</td>\n",
       "      <td>8</td>\n",
       "      <td>4</td>\n",
       "      <td>1</td>\n",
       "      <td>7</td>\n",
       "      <td>2</td>\n",
       "      <td>2</td>\n",
       "      <td>1</td>\n",
       "      <td>1</td>\n",
       "      <td>0</td>\n",
       "      <td>0</td>\n",
       "      <td>1</td>\n",
       "      <td>0</td>\n",
       "      <td>blue</td>\n",
       "    </tr>\n",
       "    <tr>\n",
       "      <td>4</td>\n",
       "      <td>1</td>\n",
       "      <td>1</td>\n",
       "      <td>1</td>\n",
       "      <td>0</td>\n",
       "      <td>1</td>\n",
       "      <td>51</td>\n",
       "      <td>8</td>\n",
       "      <td>12</td>\n",
       "      <td>12</td>\n",
       "      <td>4</td>\n",
       "      <td>5</td>\n",
       "      <td>2</td>\n",
       "      <td>2</td>\n",
       "      <td>1</td>\n",
       "      <td>1</td>\n",
       "      <td>0</td>\n",
       "      <td>0</td>\n",
       "      <td>2</td>\n",
       "      <td>0</td>\n",
       "      <td>blue</td>\n",
       "    </tr>\n",
       "    <tr>\n",
       "      <td>...</td>\n",
       "      <td>...</td>\n",
       "      <td>...</td>\n",
       "      <td>...</td>\n",
       "      <td>...</td>\n",
       "      <td>...</td>\n",
       "      <td>...</td>\n",
       "      <td>...</td>\n",
       "      <td>...</td>\n",
       "      <td>...</td>\n",
       "      <td>...</td>\n",
       "      <td>...</td>\n",
       "      <td>...</td>\n",
       "      <td>...</td>\n",
       "      <td>...</td>\n",
       "      <td>...</td>\n",
       "      <td>...</td>\n",
       "      <td>...</td>\n",
       "      <td>...</td>\n",
       "      <td>...</td>\n",
       "      <td>...</td>\n",
       "    </tr>\n",
       "    <tr>\n",
       "      <td>69964</td>\n",
       "      <td>1</td>\n",
       "      <td>2</td>\n",
       "      <td>1</td>\n",
       "      <td>0</td>\n",
       "      <td>9</td>\n",
       "      <td>50</td>\n",
       "      <td>33</td>\n",
       "      <td>3</td>\n",
       "      <td>3</td>\n",
       "      <td>4</td>\n",
       "      <td>9</td>\n",
       "      <td>2</td>\n",
       "      <td>0</td>\n",
       "      <td>1</td>\n",
       "      <td>1</td>\n",
       "      <td>0</td>\n",
       "      <td>0</td>\n",
       "      <td>2</td>\n",
       "      <td>2</td>\n",
       "      <td>purple</td>\n",
       "    </tr>\n",
       "    <tr>\n",
       "      <td>69965</td>\n",
       "      <td>2</td>\n",
       "      <td>1</td>\n",
       "      <td>1</td>\n",
       "      <td>0</td>\n",
       "      <td>14</td>\n",
       "      <td>73</td>\n",
       "      <td>26</td>\n",
       "      <td>6</td>\n",
       "      <td>6</td>\n",
       "      <td>15</td>\n",
       "      <td>9</td>\n",
       "      <td>2</td>\n",
       "      <td>0</td>\n",
       "      <td>1</td>\n",
       "      <td>1</td>\n",
       "      <td>0</td>\n",
       "      <td>1</td>\n",
       "      <td>2</td>\n",
       "      <td>2</td>\n",
       "      <td>purple</td>\n",
       "    </tr>\n",
       "    <tr>\n",
       "      <td>69966</td>\n",
       "      <td>2</td>\n",
       "      <td>1</td>\n",
       "      <td>1</td>\n",
       "      <td>0</td>\n",
       "      <td>2</td>\n",
       "      <td>46</td>\n",
       "      <td>17</td>\n",
       "      <td>9</td>\n",
       "      <td>6</td>\n",
       "      <td>1</td>\n",
       "      <td>9</td>\n",
       "      <td>2</td>\n",
       "      <td>2</td>\n",
       "      <td>0</td>\n",
       "      <td>1</td>\n",
       "      <td>0</td>\n",
       "      <td>3</td>\n",
       "      <td>1</td>\n",
       "      <td>0</td>\n",
       "      <td>green</td>\n",
       "    </tr>\n",
       "    <tr>\n",
       "      <td>69967</td>\n",
       "      <td>1</td>\n",
       "      <td>2</td>\n",
       "      <td>1</td>\n",
       "      <td>0</td>\n",
       "      <td>5</td>\n",
       "      <td>76</td>\n",
       "      <td>22</td>\n",
       "      <td>10</td>\n",
       "      <td>8</td>\n",
       "      <td>10</td>\n",
       "      <td>9</td>\n",
       "      <td>2</td>\n",
       "      <td>2</td>\n",
       "      <td>1</td>\n",
       "      <td>1</td>\n",
       "      <td>0</td>\n",
       "      <td>1</td>\n",
       "      <td>1</td>\n",
       "      <td>2</td>\n",
       "      <td>purple</td>\n",
       "    </tr>\n",
       "    <tr>\n",
       "      <td>69968</td>\n",
       "      <td>1</td>\n",
       "      <td>2</td>\n",
       "      <td>1</td>\n",
       "      <td>0</td>\n",
       "      <td>6</td>\n",
       "      <td>13</td>\n",
       "      <td>3</td>\n",
       "      <td>3</td>\n",
       "      <td>3</td>\n",
       "      <td>7</td>\n",
       "      <td>9</td>\n",
       "      <td>2</td>\n",
       "      <td>2</td>\n",
       "      <td>0</td>\n",
       "      <td>0</td>\n",
       "      <td>0</td>\n",
       "      <td>0</td>\n",
       "      <td>0</td>\n",
       "      <td>1</td>\n",
       "      <td>green</td>\n",
       "    </tr>\n",
       "  </tbody>\n",
       "</table>\n",
       "<p>69969 rows × 20 columns</p>\n",
       "</div>"
      ],
      "text/plain": [
       "       race  age  admission_type_id  discharge_disposition_id  \\\n",
       "0         1    0                  2                         3   \n",
       "1         1    0                  1                         0   \n",
       "2         0    0                  1                         0   \n",
       "3         1    0                  1                         0   \n",
       "4         1    1                  1                         0   \n",
       "...     ...  ...                ...                       ...   \n",
       "69964     1    2                  1                         0   \n",
       "69965     2    1                  1                         0   \n",
       "69966     2    1                  1                         0   \n",
       "69967     1    2                  1                         0   \n",
       "69968     1    2                  1                         0   \n",
       "\n",
       "       time_in_hospital  num_lab_procedures  num_medications  diag_1  diag_2  \\\n",
       "0                     1                  41                1       4       4   \n",
       "1                     3                  59               18       4       4   \n",
       "2                     2                  11               13      14       4   \n",
       "3                     2                  44               16       8       4   \n",
       "4                     1                  51                8      12      12   \n",
       "...                 ...                 ...              ...     ...     ...   \n",
       "69964                 9                  50               33       3       3   \n",
       "69965                14                  73               26       6       6   \n",
       "69966                 2                  46               17       9       6   \n",
       "69967                 5                  76               22      10       8   \n",
       "69968                 6                  13                3       3       3   \n",
       "\n",
       "       diag_3  number_diagnoses  max_glu_serum  A1Cresult  change  \\\n",
       "0           4                 1              2          2       0   \n",
       "1           4                 9              2          2       1   \n",
       "2          17                 6              2          2       0   \n",
       "3           1                 7              2          2       1   \n",
       "4           4                 5              2          2       1   \n",
       "...       ...               ...            ...        ...     ...   \n",
       "69964       4                 9              2          0       1   \n",
       "69965      15                 9              2          0       1   \n",
       "69966       1                 9              2          2       0   \n",
       "69967      10                 9              2          2       1   \n",
       "69968       7                 9              2          2       0   \n",
       "\n",
       "       diabetesMed  readmitted  total_patient_interaction  numchange  \\\n",
       "0                0           0                          0          0   \n",
       "1                1           0                          0          1   \n",
       "2                1           0                          3          1   \n",
       "3                1           0                          0          1   \n",
       "4                1           0                          0          2   \n",
       "...            ...         ...                        ...        ...   \n",
       "69964            1           0                          0          2   \n",
       "69965            1           0                          1          2   \n",
       "69966            1           0                          3          1   \n",
       "69967            1           0                          1          1   \n",
       "69968            0           0                          0          0   \n",
       "\n",
       "       clusters_kmeans   color  \n",
       "0                    1   green  \n",
       "1                    0    blue  \n",
       "2                    0   green  \n",
       "3                    0    blue  \n",
       "4                    0    blue  \n",
       "...                ...     ...  \n",
       "69964                2  purple  \n",
       "69965                2  purple  \n",
       "69966                0   green  \n",
       "69967                2  purple  \n",
       "69968                1   green  \n",
       "\n",
       "[69969 rows x 20 columns]"
      ]
     },
     "execution_count": 63,
     "metadata": {},
     "output_type": "execute_result"
    }
   ],
   "source": [
    "df['clusters_kmeans'] = kcluster.fit_predict(scaled_df)  #can use only .predict if u have fitted the data alrdy\n",
    "df"
   ]
  },
  {
   "cell_type": "code",
   "execution_count": 64,
   "metadata": {},
   "outputs": [
    {
     "data": {
      "text/plain": [
       "0    31527\n",
       "2    21849\n",
       "1    16593\n",
       "Name: clusters_kmeans, dtype: int64"
      ]
     },
     "execution_count": 64,
     "metadata": {},
     "output_type": "execute_result"
    }
   ],
   "source": [
    "df['clusters_kmeans'].value_counts()"
   ]
  },
  {
   "cell_type": "code",
   "execution_count": 65,
   "metadata": {},
   "outputs": [],
   "source": [
    "from sklearn.decomposition import PCA\n",
    "pca_2 = PCA(2)\n",
    "plot_columns = pca_2.fit_transform(scaled_df)\n",
    "## Getting a visual plot\n",
    "## Defining Colours and Lables for the plot\n",
    "def color_fun(row):\n",
    "    if(row['clusters_kmeans'] == 0):\n",
    "        return \"red\"\n",
    "    if(row['clusters_kmeans'] == 1):\n",
    "        return \"blue\"\n",
    "    if(row['clusters_kmeans'] == 2):\n",
    "        return \"green\"\n",
    "    if(row['clusters_kmeans'] == 3):\n",
    "        return \"purple\"\n",
    "    return 0\n",
    "\n",
    "df['color'] = df.apply(lambda row: color_fun(row), axis = 1)"
   ]
  },
  {
   "cell_type": "code",
   "execution_count": 66,
   "metadata": {},
   "outputs": [
    {
     "data": {
      "image/png": "[encoded data removed]",
      "text/plain": [
       "<Figure size 432x288 with 1 Axes>"
      ]
     },
     "metadata": {
      "needs_background": "light"
     },
     "output_type": "display_data"
    }
   ],
   "source": [
    "plt.scatter(x = plot_columns[:,0],\n",
    "            y = plot_columns[:,1], \n",
    "            c = df['color'].values.tolist(),\n",
    "            s = 50, edgecolors = 'none')\n",
    "plt.xlabel('PC1')\n",
    "plt.ylabel('PC2')\n",
    "plt.show()"
   ]
  },
  {
   "cell_type": "code",
   "execution_count": null,
   "metadata": {},
   "outputs": [],
   "source": []
  }
 ],
 "metadata": {
  "kernelspec": {
   "display_name": "Python 3",
   "language": "python",
   "name": "python3"
  },
  "language_info": {
   "codemirror_mode": {
    "name": "ipython",
    "version": 3
   },
   "file_extension": ".py",
   "mimetype": "text/x-python",
   "name": "python",
   "nbconvert_exporter": "python",
   "pygments_lexer": "ipython3",
   "version": "3.7.7"
  }
 },
 "nbformat": 4,
 "nbformat_minor": 2
}
